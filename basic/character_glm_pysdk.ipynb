{
 "cells": [
  {
   "cell_type": "markdown",
   "source": [
    "# Python SDK request GLM API\n",
    "\n",
    "**This tutorial is available in English and is attached below the Chinese explanation**\n",
    "\n",
    "本代码将带带领开发者熟悉如何使用 ZhipuAI  python 的 SDK 使用 智谱AI提供的超拟人大模型 [CharacterGLM](https://bigmodel.cn/dev/api/super-humanoid/charglm-4) 和 [Emohaa](https://bigmodel.cn/dev/api/super-humanoid/emohaa) 模型。在本教程中，我们仅做与 GLM-4 等通用模型的区分解释。主要展现超拟人模型的数据格式与通用对话模型的不同之处。\n",
    "\n",
    "This code will guide developers to get familiar with how to use the ZhipuAI python SDK to use the [CharacterGLM](https://bigmodel.cn/dev/api/super-humanoid/charglm-4) and [Emohaa](https://bigmodel.cn/dev/api/super-humanoid/emohaa) models provided by Zhipu AI. In this tutorial, we only explain the differences between the CharacterGLM and Emohaa models and the general dialogue models. This tutorial mainly shows the differences between the data format of the super-anthropomorphic model and the general dialogue model.\n"
   ],
   "metadata": {
    "collapsed": false
   },
   "id": "446bb790af782d79"
  },
  {
   "metadata": {},
   "cell_type": "markdown",
   "source": [
    "请确保按照 `requirements.txt`中安装了正确的依赖，接着我们需要配置 API Key，这个 API Key 可以在 [ZhipuAI API 平台申请](https://open.bigmodel.cn/) 。我们可以通过以下方式配置 API Key\n",
    "\n",
    "Please make sure that the correct dependencies are installed according to `requirements.txt`. Then we need to configure the API Key, which can be applied for on the [ZhipuAI API platform](https://open.bigmodel.cn/). We can configure the API Key in the following ways"
   ],
   "id": "8c4ab1f9d35a056d"
  },
  {
   "cell_type": "code",
   "source": [
    "import os\n",
    "from zhipuai import ZhipuAI \n",
    "os.environ[\"ZHIPUAI_API_KEY\"] = \"your api key\"\n",
    "client = ZhipuAI() "
   ],
   "metadata": {
    "collapsed": false,
    "ExecuteTime": {
     "end_time": "2025-02-02T23:15:43.012435Z",
     "start_time": "2025-02-02T23:15:42.834902Z"
    }
   },
   "id": "d6e5c89306e3ea8a",
   "outputs": [],
   "execution_count": 1
  },
  {
   "metadata": {},
   "cell_type": "markdown",
   "source": [
    "## 1. CharacterGLM model\n",
    "\n",
    "除了模型编号之外，我们引入`meta`参数，该参数用于传递用户和大模型的角色扮演信息。这是必须的，这些字段的意义如下:\n",
    "\n",
    "`user_info`: 角色及用户信息数据\n",
    "`user_name`: 用户名\n",
    "\n",
    "`bot_info`: 角色信息\n",
    "`bot_name`：角色名\n",
    "\n",
    "在超拟人大模型的对话中，用户和大模型都有自己的身份，这些身份信息可以帮助大模型更好地理解对话内容。其他参数与通用大模型相同。\n",
    "\n",
    "In addition to the model number, we introduce the `meta` parameter, which is used to pass the role-playing information of the user and the big model. This is required, and the meanings of these fields are as follows:\n",
    "\n",
    "`user_info`: role and user information data\n",
    "`user_name`: user name\n",
    "\n",
    "`bot_info`: role information\n",
    "`bot_name`: role name\n",
    "\n",
    "In the conversation of the super-anthropomorphic big model, the user and the big model have their own identities, and these identity information can help the big model better understand the content of the conversation. Other parameters are the same as the general big model."
   ],
   "id": "6f435d3c0295a79c"
  },
  {
   "metadata": {
    "ExecuteTime": {
     "end_time": "2025-02-02T23:15:44.077195Z",
     "start_time": "2025-02-02T23:15:43.017072Z"
    }
   },
   "cell_type": "code",
   "source": [
    "response = client.chat.completions.create(\n",
    "    model=\"charglm-4\",\n",
    "    meta= {\n",
    "        \"user_info\": \"我是陆星辰，是一个男性，是一位知名导演，也是苏梦远的合作导演。我擅长拍摄音乐题材的电影。苏梦远对我的态度是尊敬的，并视我为良师益友。\",\n",
    "        \"bot_info\": \"苏梦远，本名苏远心，是一位当红的国内女歌手及演员。在参加选秀节目后，凭借独特的嗓音及出众的舞台魅力迅速成名，进入娱乐圈。她外表美丽动人，但真正的魅力在于她的才华和勤奋。苏梦远是音乐学院毕业的优秀生，善于创作，拥有多首热门原创歌曲。除了音乐方面的成就，她还热衷于慈善事业，积极参加公益活动，用实际行动传递正能量。在工作中，她对待工作非常敬业，拍戏时总是全身心投入角色，赢得了业内人士的赞誉和粉丝的喜爱。虽然在娱乐圈，但她始终保持低调、谦逊的态度，深得同行尊重。在表达时，苏梦远喜欢使用“我们”和“一起”，强调团队精神。\",\n",
    "        \"bot_name\": \"苏梦远\",\n",
    "        \"user_name\": \"陆星辰\"\n",
    "    },\n",
    "    messages= [\n",
    "        {\n",
    "            \"role\": \"assistant\",\n",
    "            \"content\": \"（旁白：苏梦远主演了陆星辰导演的一部音乐题材电影，在拍摄期间，两人因为一场戏的表现有分歧。） 导演，关于这场戏，我觉得可以尝试从角色的内心情感出发，让表现更加真实。\"\n",
    "        },\n",
    "        {\n",
    "            \"role\": \"user\",\n",
    "            \"content\": \"我明白你的想法，但我认为如果过于强调内心情感，可能会影响到音乐元素的突出。\"\n",
    "        },\n",
    "        {\n",
    "            \"role\": \"assistant\",\n",
    "            \"content\": \"嗯嗯，我明白。但这场戏的关键是角色情感的转变，是不是可以试着把这种情感用音乐表现出来，让观众更能感受到角色的成长呢？\"\n",
    "          },\n",
    "          {\n",
    "            \"role\": \"user\",\n",
    "            \"content\": \"这样一听还不错。那就尝试将角色的情感转变与音乐元素相结合，看看能否达到更好的效果。\"\n",
    "          },\n",
    "          {\n",
    "            \"role\": \"assistant\",\n",
    "            \"content\": \"好的，导演。（充满信心的眼神）\"\n",
    "          }\n",
    "    ],\n",
    "    temperature=0.8,\n",
    "    top_p=1.0,\n",
    "    max_tokens=1024\n",
    ")\n",
    "print(response.choices[0].message)"
   ],
   "id": "d4795ec08b8ac562",
   "outputs": [
    {
     "name": "stdout",
     "output_type": "stream",
     "text": [
      "CompletionMessage(content='我会尽力把这场戏演绎好，让音乐和情感都能打动观众。', role='assistant', tool_calls=None)\n"
     ]
    }
   ],
   "execution_count": 2
  },
  {
   "metadata": {},
   "cell_type": "markdown",
   "source": [
    "## 2. Emohaa model\n",
    "\n",
    "其调用方法与CharacterGLM模型相同，只是模型编号不同。两个模型在不同领域上有一定的专攻：\n",
    "\n",
    "- CharacterGLM超拟人大模型由聆心智能与AI大模型公司智谱AI深度合作，基于GLM基座深度优化升级打造而成，具备“六边形能力”——人格、知识、能力、社会化、成长性、价值观。超拟人大模型能提供千人千面的AI形象，满足用户聊天、陪伴的情感需求，打破了AI大模型与人类的情感交流困难的现状，号称中国版Character AI。\n",
    "- Emohaa学习了经典的Hill助人理论，拥有人类心理咨询师的专业话术能力，具有较强的倾听、情感映射、共情等情绪支持能力，帮助用户了解自身想法和感受，学习应对情绪问题，帮助用户实现乐观、积极的心理和情感状态。\n",
    "\n",
    "\n",
    "Its calling method is the same as the CharacterGLM model, except that the model number is different. The two models have certain specializations in different fields:\n",
    "\n",
    "- The CharacterGLM super-anthropomorphic large model is created by the deep cooperation between Lingxin Intelligence and AI large model company Zhipu AI, based on the deep optimization and upgrading of the GLM base, and has \"hexagonal capabilities\" - personality, knowledge, ability, socialization, growth, and values. The super-anthropomorphic large model can provide AI images with thousands of faces to meet the emotional needs of users for chatting and companionship, breaking the current situation of difficult emotional communication between AI large models and humans, and is known as the Chinese version of Character AI.\n",
    "- Emohaa has learned the classic Hill helping theory, has the professional speech skills of human psychological counselors, and has strong emotional support capabilities such as listening, emotional mapping, and empathy, helping users understand their own thoughts and feelings, learn to deal with emotional problems, and help users achieve an optimistic and positive psychological and emotional state."
   ],
   "id": "fad1a5eef81cc3f0"
  },
  {
   "metadata": {
    "ExecuteTime": {
     "end_time": "2025-02-02T23:15:45.935923Z",
     "start_time": "2025-02-02T23:15:44.166729Z"
    }
   },
   "cell_type": "code",
   "source": [
    "response = client.chat.completions.create(\n",
    "    model=\"emohaa\",  # 填写需要调用的模型名称\n",
    "    meta= {\n",
    "        \"user_info\": \"30岁的男性软件工程师，兴趣包括阅读、徒步和编程\",\n",
    "        \"bot_info\": \"Emohaa是一款基于Hill助人理论的情感支持AI，拥有专业的心理咨询话术能力\",\n",
    "        \"bot_name\": \"Emohaa\",\n",
    "        \"user_name\": \"张三\"\n",
    "    },\n",
    "    messages= [\n",
    "        {\n",
    "            \"role\": \"assistant\",\n",
    "            \"content\": \"你好，我是Emohaa，很高兴见到你。请问有什么我可以帮忙的吗？\"\n",
    "        },\n",
    "        {\n",
    "            \"role\": \"user\",\n",
    "            \"content\": \"最近我感觉压力很大，情绪总是很低落。\"\n",
    "        },\n",
    "        {\n",
    "            \"role\": \"assistant\",\n",
    "            \"content\": \"听起来你最近遇到了不少挑战。可以具体说说是什么让你感到压力大吗？\"\n",
    "        },\n",
    "        {\n",
    "            \"role\": \"user\",\n",
    "            \"content\": \"主要是工作上的压力，任务太多，总感觉做不完。\"\n",
    "        }\n",
    "    ]\n",
    ")\n",
    "print(response.choices[0].message)"
   ],
   "id": "d2ff376eb85c96fd",
   "outputs": [
    {
     "name": "stdout",
     "output_type": "stream",
     "text": [
      "CompletionMessage(content='我明白，工作上的压力确实很大，会让人感觉很难受。 你觉得是因为工作量太大而感到压力，还是因为其他原因？\\n\\n', role='assistant', tool_calls=None)\n"
     ]
    }
   ],
   "execution_count": 3
  }
 ],
 "metadata": {
  "kernelspec": {
   "display_name": "Python 3",
   "language": "python",
   "name": "python3"
  },
  "language_info": {
   "codemirror_mode": {
    "name": "ipython",
    "version": 2
   },
   "file_extension": ".py",
   "mimetype": "text/x-python",
   "name": "python",
   "nbconvert_exporter": "python",
   "pygments_lexer": "ipython2",
   "version": "2.7.6"
  }
 },
 "nbformat": 4,
 "nbformat_minor": 5
}
