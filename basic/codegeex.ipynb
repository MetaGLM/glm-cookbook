{
 "cells": [
  {
   "cell_type": "markdown",
   "metadata": {},
   "source": [
    "# Improving your Programming Experience with CodeGeeX\n",
    "\n",
    "**This tutorial is available in English and is attached below the Chinese explanation**\n",
    "\n",
    "本教程将为您解锁一个新的大模型——CodeGeeX。CodeGeeX 是一款先进的人工智能编程助手。它通过智能问答提高用户的编码效率，并且支持多种编程语言。\n",
    "\n",
    "This tutorial unlocks a new model CodeGeeX for you. CodeGeeX is an advanced AI programming assistant that enhances coding efficiency with intelligent Q&A, supporting various programming languages."
   ]
  },
  {
   "cell_type": "markdown",
   "metadata": {},
   "source": [
    "## 1. Set up the API Key\n",
    "\n",
    "首先，设置环境变量并初始化 ZhipuAI client。\n",
    "\n",
    "First, set up an environmental variable and initialize the ZhipuAI client.\n",
    "\n"
   ]
  },
  {
   "cell_type": "code",
   "execution_count": 1,
   "metadata": {},
   "outputs": [],
   "source": [
    "from zhipuai import ZhipuAI\n",
    "import os\n",
    "\n",
    "os.environ[\"ZHIPUAI_API_KEY\"] = \"your api key\"\n",
    "client = ZhipuAI()"
   ]
  },
  {
   "cell_type": "markdown",
   "metadata": {},
   "source": [
    "## 2. AI Question and Answer (Q&A)\n",
    "\n",
    "CodeGeeX在代码方面的智能问答根据用户的不同需求，回答关于编程、代码、计算机方面的任何问题，提供完整的代码，并在必要时提供详细的解释。\n",
    "\n",
    "CodeGeeX's AI Question and Answering function answers any question about programming, code, or computers according to the different needs of the user, providing the complete code and providing detailed explanations if necessary."
   ]
  },
  {
   "cell_type": "markdown",
   "metadata": {},
   "source": [
    "**Synchronous Call**\n",
    "\n",
    "先从同步调用开始，完成CodeGee-X模型的一次对话。这里，系统先给出指示，然后用户要求了一个快速排序的函数。\n",
    "\n",
    "Let's start with synchronous call and complete a conversation on the CodeGee-X model. Here, the system first gives instructions and then the user requests a function for quick sorting."
   ]
  },
  {
   "cell_type": "code",
   "execution_count": 2,
   "metadata": {},
   "outputs": [
    {
     "name": "stdout",
     "output_type": "stream",
     "text": [
      "CompletionMessage(content='```python\\n# 快速排序函数\\ndef quick_sort(arr):\\n    \"\"\"\\n    快速排序函数\\n    :param arr: 待排序的数组\\n    :return: 排序后的数组\\n    \"\"\"\\n    # 如果数组长度小于等于1，则直接返回\\n    if len(arr) <= 1:\\n        return arr\\n    # 选择数组中的第一个元素作为基准值\\n    pivot = arr[0]\\n    # 定义左右两个子数组\\n    left = []\\n    right = []\\n    # 遍历数组，将小于基准值的元素放入left数组，大于基准值的元素放入right数组\\n    for i in range(1, len(arr)):\\n        if arr[i] < pivot:\\n            left.append(arr[i])\\n        else:\\n            right.append(arr[i])\\n    # 递归调用快速排序函数，对左右两个子数组进行排序\\n    return quick_sort(left) + [pivot] + quick_sort(right)\\n```', role='assistant', tool_calls=None)\n"
     ]
    }
   ],
   "source": [
    "response = client.chat.completions.create(\n",
    "    model=\"codegeex-4\",\n",
    "    messages=[\n",
    "        {\n",
    "            \"role\": \"system\",\n",
    "            \"content\": \"你是一位智能编程助手，你叫CodeGeeX。你会为用户回答关于编程、代码、计算机方面的任何问题，并提供格式规范、可以执行、准确安全的代码，并在必要时提供详细的解释。任务：请为输入代码提供格式规范的注释，包含多行注释和单行注释，请注意不要改动原始代码，只需要添加注释。 请用中文回答。\"\n",
    "        },\n",
    "        {\n",
    "            \"role\": \"user\",\n",
    "            \"content\": \"写一个快速排序函数\"\n",
    "        }\n",
    "    ],\n",
    "    top_p=0.7,\n",
    "    temperature=0.9,\n",
    "    max_tokens=1024,\n",
    "    stop=[\"<|endoftext|>\", \"<|user|>\", \"<|assistant|>\", \"<|observation|>\"]\n",
    ")\n",
    "print(response.choices[0].message)"
   ]
  },
  {
   "cell_type": "markdown",
   "metadata": {},
   "source": [
    "模型的回答给出了用递归的方法实现快速排序的quick_sort函数，并且给每个部分加了注释。\n",
    "\n",
    "The model's answer gives a quick_sort function that implements quick sort by recursion and adds comments to each part."
   ]
  },
  {
   "cell_type": "markdown",
   "metadata": {},
   "source": [
    "**Asynchronous Call**\n",
    "\n",
    "如果我们想在等待任务完成的同时继续编写其他代码，我们可以使用异步调用。在实现异步调用时，我们使用了重试机制来尝试获取完成结果，最多可重试 40 次，中间休息 2 秒钟。一旦完成，就会自动给出结果。\n",
    "\n",
    "If we want to move on to writing other codes while waiting for the initial task to complete, we can use asynchronous call. As we try to implement the asynchronous call, we are using a retry mechanism to attempt to get the completion result up to 40 times, with 2 seconds of rest in between. This would automatically give us the result as soon as it is completed."
   ]
  },
  {
   "cell_type": "code",
   "execution_count": 4,
   "metadata": {},
   "outputs": [
    {
     "name": "stdout",
     "output_type": "stream",
     "text": [
      "AsyncTaskStatus(id='476916963227608958851150483019244798', request_id='8851150483019244796', model=None, task_status='PROCESSING')\n",
      "AsyncTaskStatus(id='476916963227608958851150483019244798', request_id='8851150483019244796', model=None, task_status='PROCESSING')\n",
      "AsyncCompletion(id='476916963227608958851150483019244798', request_id='8851150483019244796', model='CodeGeeX-4', task_status='SUCCESS', choices=[CompletionChoice(index=0, finish_reason='stop', message=CompletionMessage(content='```python\\n# 定义一个快速排序函数\\ndef quick_sort(arr):\\n    # 如果数组长度小于等于1，则直接返回数组\\n    if len(arr) <= 1:\\n        return arr\\n    # 选择一个基准值，这里选择数组的第一个元素\\n    pivot = arr[0]\\n    # 定义两个空数组，用于存放比基准值小的元素和比基准值大的元素\\n    left = []\\n    right = []\\n    # 遍历数组，将比基准值小的元素放入left数组，比基准值大的元素放入right数组\\n    for i in range(1, len(arr)):\\n        if arr[i] < pivot:\\n            left.append(arr[i])\\n        else:\\n            right.append(arr[i])\\n    # 递归调用快速排序函数，对left数组和right数组进行排序\\n    return quick_sort(left) + [pivot] + quick_sort(right)\\n```', role='assistant', tool_calls=None))], usage=CompletionUsage(prompt_tokens=93, completion_tokens=189, total_tokens=282), created=1721369881)\n"
     ]
    }
   ],
   "source": [
    "import time\n",
    "\n",
    "response = client.chat.asyncCompletions.create(\n",
    "    model=\"codegeex-4\",\n",
    "    messages=[\n",
    "        {\n",
    "            \"role\": \"system\",\n",
    "            \"content\": \"你是一位智能编程助手，你叫CodeGeeX。你会为用户回答关于编程、代码、计算机方面的任何问题，并提供格式规范、可以执行、准确安全的代码，并在必要时提供详细的解释。任务：请为输入代码提供格式规范的注释，包含多行注释和单行注释，请注意不要改动原始代码，只需要添加注释。 请用中文回答。\"\n",
    "        },\n",
    "        {\n",
    "            \"role\": \"user\",\n",
    "            \"content\": \"写一个快速排序函数\"\n",
    "        }\n",
    "    ],\n",
    "    top_p=0.7,\n",
    "    temperature=0.9,\n",
    "    max_tokens=2000,\n",
    "    stop=[\"<|endoftext|>\", \"<|user|>\", \"<|assistant|>\", \"<|observation|>\"]\n",
    ")\n",
    "\n",
    "task_id = response.id\n",
    "task_status = ''\n",
    "get_cnt = 0\n",
    "\n",
    "while task_status != 'SUCCESS' and task_status != 'FAILED' and get_cnt <= 40:\n",
    "    result_response = client.chat.asyncCompletions.retrieve_completion_result(id=task_id)\n",
    "    print(result_response)\n",
    "    task_status = result_response.task_status\n",
    " \n",
    "    time.sleep(2)\n",
    "    get_cnt += 1"
   ]
  }
 ],
 "metadata": {
  "kernelspec": {
   "display_name": "Python 3",
   "language": "python",
   "name": "python3"
  },
  "language_info": {
   "codemirror_mode": {
    "name": "ipython",
    "version": 3
   },
   "file_extension": ".py",
   "mimetype": "text/x-python",
   "name": "python",
   "nbconvert_exporter": "python",
   "pygments_lexer": "ipython3",
   "version": "3.12.4"
  }
 },
 "nbformat": 4,
 "nbformat_minor": 2
}
