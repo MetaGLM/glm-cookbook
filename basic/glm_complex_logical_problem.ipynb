{
 "cells": [
  {
   "cell_type": "markdown",
   "metadata": {},
   "source": [
    "## GLM-4-Plus Complex Logical Problem Solving\n",
    "\n",
    "**This tutorial is available in English and is attached below the Chinese explanation**\n",
    "\n",
    "在使用普通的 GLM-4 模型对话时，我们会发现它不擅长逻辑思维方面的回答，例如解数学题或是要求模型一步步推理的任务。这时，我们可以试试 GLM-4-Plus。相比基础款的 GLM，它在语言理解、指令遵循、长文本处理等方面性能得到全面提升，并且模型推理（数学、代码算法题等）的表现更好。这篇内容用一道数学题的考察展现了 GLM-4-Plus 相比 GLM-4-0520 在数学问答中的提升。\n",
    "\n",
    "When using the chat completions of a regular GLM-4 model, we may find that it is not good at logical thinking answers, such as solving math problems or tasks that require the model to reason step by step. In this case, we can try the GLM-4-Plus, which offers improved performance over the base GLM in language comprehension, command following, long text processing, and better model reasoning (math, code algorithm questions, etc.). This content uses an examination of a math problem to show the improvement of GLM-4-Plus over GLM-4-0520 in a math quiz."
   ]
  },
  {
   "cell_type": "markdown",
   "metadata": {},
   "source": [
    "## 1. Set up the Environment"
   ]
  },
  {
   "cell_type": "code",
   "execution_count": 1,
   "metadata": {},
   "outputs": [],
   "source": [
    "from zhipuai import ZhipuAI\n",
    "import os\n",
    "os.environ[\"ZHIPUAI_API_KEY\"] = \"your api key\"\n",
    "client = ZhipuAI()"
   ]
  },
  {
   "cell_type": "markdown",
   "metadata": {},
   "source": [
    "## 2. Ask GLM-4 the Logical Question\n",
    "\n",
    "在这里，我选用了一道需要枚举和逻辑推理能力来解决的数论题来测试模型推理的能力。通过第二个条件列举 A、B、C 的全部可能性，再试着找出符合另外两个条件的答案，我们会发现这是一道没有解的题目。\n",
    "\n",
    "**问题：**\n",
    "\n",
    "找出一个三位数 ABC，其中 A、B、C 是它的数位，且它满足以下条件：\n",
    "1. ABC = A * B^2 * C\n",
    "2. A + B + C = 15\n",
    "3. A、B 和 C 是不同的数，且都不为零\n",
    "符合上述条件的三位数 ABC 都有哪些可能？\n",
    "\n",
    "Here, I have chosen to test model reasoning skills with a number theory problem that requires enumeration and logical reasoning skills to solve. By listing all the possibilities of A, B, and C through the second condition, and then trying to find an answer that meets the other two conditions, we find that this is an unsolved problem.\n",
    "\n",
    "**Question:**\n",
    "\n",
    "Find a three-digit number ABC, where A, B, C as its digits, that it satisfies the following conditions:\n",
    "1. ABC = A * B^2 * C\n",
    "2. A + B + C = 15\n",
    "3. A, B, and C are different numbers and are not zero\n",
    "What are all the possible three-digit numbers ABC that meet these criteria?\n",
    "\n",
    "首先，先看看 GLM-4-0520，也就是普通的 GLM-4 模型如何解答。\n",
    "\n",
    "First, let's see how the GLM-4-0520, the regular GLM-4 model, answers the question."
   ]
  },
  {
   "cell_type": "code",
   "metadata": {
    "ExecuteTime": {
     "end_time": "2024-10-04T07:36:37.487555Z",
     "start_time": "2024-10-04T07:36:37.384580Z"
    }
   },
   "source": [
    "prompt = \"\"\"Find a three-digit number ABC, where A, B, C as its digits, that it satisfies the following conditions:\n",
    "1. ABC = A * B^2 * C\n",
    "2. A + B + C = 15\n",
    "3. A, B, and C are different numbers and are not zero\n",
    "What are all the possible three-digit numbers ABC that meet these criteria?\n",
    "\"\"\"\n",
    "\n",
    "response = client.chat.completions.create(\n",
    "    model=\"glm-4-0520\",\n",
    "    messages=[\n",
    "        {\n",
    "            \"role\": \"user\",\n",
    "            \"content\": prompt\n",
    "        }\n",
    "    ],\n",
    "    max_tokens=4095,\n",
    ")\n",
    "\n",
    "print(response.choices[0].message.content)"
   ],
   "outputs": [],
   "execution_count": null
  },
  {
   "cell_type": "markdown",
   "metadata": {},
   "source": [
    "我们可以看到，模型给出了一些逻辑通畅的推理，但是最终给出了 571 这个答案， 5+7+1=13，并不符合第二个条件。\n",
    "\n",
    "We can see that the model gives some logically sound reasoning, but ultimately gives the answer 571, where 5+7+1=13, which does not fulfill the second condition."
   ]
  },
  {
   "cell_type": "markdown",
   "metadata": {},
   "source": [
    "## 3. Ask GLM-4-Plus the Question\n",
    "\n",
    "普通的 GLM-4 模型没能给到我们正确的答案，于是继续问 GLM-4-Plus 同样的问题：\n",
    "\n",
    "The regular GLM-4 model didn't give us the right answer, so we continued to ask GLM-4-Plus the same question:"
   ]
  },
  {
   "cell_type": "code",
   "execution_count": 3,
   "metadata": {},
   "outputs": [
    {
     "name": "stdout",
     "output_type": "stream",
     "text": [
      "To find the three-digit number ABC that satisfies the given conditions, we need to check each possible combination of A, B, and C such that A + B + C = 15 and A, B, and C are distinct non-zero digits. Then we need to verify if ABC = A * B^2 * C.\n",
      "\n",
      "Let's start by listing the possible combinations of A, B, and C that add up to 15:\n",
      "\n",
      "1. A = 1, B = 5, C = 9\n",
      "2. A = 1, B = 6, C = 8\n",
      "3. A = 2, B = 4, C = 9\n",
      "4. A = 2, B = 5, C = 8\n",
      "5. A = 2, B = 6, C = 7\n",
      "6. A = 3, B = 3, C = 9 (not valid as A, B, and C must be different)\n",
      "7. A = 3, B = 4, C = 8\n",
      "8. A = 3, B = 5, C = 7\n",
      "9. A = 3, B = 6, C = 6 (not valid as A, B, and C must be different)\n",
      "10. A = 4, B = 4, C = 7 (not valid as A, B, and C must be different)\n",
      "11. A = 4, B = 5, C = 6\n",
      "\n",
      "Now, let's check each valid combination to see if it satisfies the equation ABC = A * B^2 * C.\n",
      "\n",
      "1. For A = 1, B = 5, C = 9:\n",
      "   ABC = 159\n",
      "   A * B^2 * C = 1 * 5^2 * 9 = 1 * 25 * 9 = 225 (does not match)\n",
      "\n",
      "2. For A = 1, B = 6, C = 8:\n",
      "   ABC = 168\n",
      "   A * B^2 * C = 1 * 6^2 * 8 = 1 * 36 * 8 = 288 (does not match)\n",
      "\n",
      "3. For A = 2, B = 4, C = 9:\n",
      "   ABC = 249\n",
      "   A * B^2 * C = 2 * 4^2 * 9 = 2 * 16 * 9 = 288 (does not match)\n",
      "\n",
      "4. For A = 2, B = 5, C = 8:\n",
      "   ABC = 258\n",
      "   A * B^2 * C = 2 * 5^2 * 8 = 2 * 25 * 8 = 400 (does not match)\n",
      "\n",
      "5. For A = 2, B = 6, C = 7:\n",
      "   ABC = 267\n",
      "   A * B^2 * C = 2 * 6^2 * 7 = 2 * 36 * 7 = 504 (does not match)\n",
      "\n",
      "6. For A = 3, B = 4, C = 8:\n",
      "   ABC = 348\n",
      "   A * B^2 * C = 3 * 4^2 * 8 = 3 * 16 * 8 = 384 (does not match)\n",
      "\n",
      "7. For A = 3, B = 5, C = 7:\n",
      "   ABC = 357\n",
      "   A * B^2 * C = 3 * 5^2 * 7 = 3 * 25 * 7 = 525 (does not match)\n",
      "\n",
      "8. For A = 4, B = 5, C = 6:\n",
      "   ABC = 456\n",
      "   A * B^2 * C = 4 * 5^2 * 6 = 4 * 25 * 6 = 600 (does not match)\n",
      "\n",
      "None of the combinations we checked satisfy all the conditions. Therefore, there are no three-digit numbers ABC that meet the criteria A + B + C = 15, A, B, and C are different non-zero digits, and ABC = A * B^2 * C.\n"
     ]
    }
   ],
   "source": [
    "plus_response = client.chat.completions.create(\n",
    "    model=\"glm-4-plus\",\n",
    "    messages=[\n",
    "        {\n",
    "            \"role\": \"user\",\n",
    "            \"content\": prompt\n",
    "        }\n",
    "    ],\n",
    "    max_tokens=4095,\n",
    ")\n",
    "\n",
    "print(plus_response.choices[0].message.content)"
   ]
  },
  {
   "cell_type": "markdown",
   "metadata": {},
   "source": [
    "我们可以看到，模型先用第二个条件列出 ABC 的全部可能性，然后用第一和第三条件筛掉不符合的答案。即使在问题没有给出无解的选项的情况下，模型依然通过严谨的推理给出了正确答案。\n",
    "\n",
    "We can see that the model first lists all the possibilities for ABC using the second condition, and then uses the first and third conditions to screen out answers that don't match. The model still gives the correct answer through rigorous reasoning even when the problem does not give the option of no solution."
   ]
  }
 ],
 "metadata": {
  "kernelspec": {
   "display_name": "Python 3",
   "language": "python",
   "name": "python3"
  },
  "language_info": {
   "codemirror_mode": {
    "name": "ipython",
    "version": 3
   },
   "file_extension": ".py",
   "mimetype": "text/x-python",
   "name": "python",
   "nbconvert_exporter": "python",
   "pygments_lexer": "ipython3",
   "version": "3.11.4"
  }
 },
 "nbformat": 4,
 "nbformat_minor": 2
}
