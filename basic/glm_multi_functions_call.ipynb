{
 "cells": [
  {
   "metadata": {},
   "cell_type": "markdown",
   "source": [
    "## Multi-Function Call\n",
    "\n",
    "**This tutorial is available in English and is attached below the Chinese explanation**\n",
    "\n",
    "本章节，我将使用 `GLM-4.5` 模型演示如何同时调用多个函数。多工具调用在效率上有很大的提升，可以减少多轮对话的次数，提高对话的效率。`GLM-4.5` 模型支持同时调用多个函数，包括同时调用不同的函数、同时调用同一个函数多次等。\n",
    "\n",
    "在开始之前，建议您先阅读 [Function Call](glm_function_call.ipynb) 教程。\n",
    "\n",
    "In this CookBook, I will demonstrate how to call multiple functions at the same time using the `GLM-4.5` model. Multi-tool calls can greatly improve efficiency, reduce the number of rounds of conversation, and improve the efficiency of the conversation. The `GLM-4.5` model supports calling multiple functions at the same time, including calling different functions at the same time, calling the same function multiple times at the same time, etc.\n",
    "\n",
    "Before you begin, it is recommended that you read the [Function Call](glm_function_call.ipynb) tutorial."
   ],
   "id": "844774d37b3917b5"
  },
  {
   "metadata": {},
   "cell_type": "markdown",
   "source": [
    "## 1. 配置API Key\n",
    "\n",
    "请确保按照 `requirements.txt`中安装了正确的依赖，接着我们需要配置 API Key，这个 API Key 可以在 [ZhipuAI API 平台申请](https://open.bigmodel.cn/) 。我们可以通过以下方式配置 API Key\n",
    "\n",
    "Please make sure that the correct dependencies are installed according to `requirements.txt`. Then we need to configure the API Key, which can be applied for on the [ZhipuAI API platform](https://open.bigmodel.cn/). We can configure the API Key in the following ways"
   ],
   "id": "ba170e198ca1f870"
  },
  {
   "metadata": {},
   "cell_type": "code",
   "outputs": [],
   "execution_count": null,
   "source": [
    "import os\n",
    "from zhipuai import ZhipuAI\n",
    "import json\n",
    "\n",
    "os.environ[\"ZHIPUAI_API_KEY\"] = \"your api key\"\n",
    "client = ZhipuAI()"
   ],
   "id": "b149cb221566e421"
  },
  {
   "metadata": {},
   "cell_type": "markdown",
   "source": [
    "# 2. 同时调用不同的两个函数。\n",
    "\n",
    "GLM-4.5 支持同时调用不同的两个函数。下面的例子中，我们将调用 `get_weather` 函数和 `get_coordinates` 函数，分别查询北京的天气情况和坐标。当用户询问天气和坐标时，我们可以同时调用这两个函数，然后将结果一起返回给用户。"
   ],
   "id": "266871cb24810801"
  },
  {
   "metadata": {
    "ExecuteTime": {
     "end_time": "2025-09-03T09:52:56.728961Z",
     "start_time": "2025-09-03T09:52:52.187045Z"
    }
   },
   "cell_type": "code",
   "source": [
    "def get_weather(location, unit):\n",
    "    if location == \"Beijing\":\n",
    "        if unit == \"c\":\n",
    "            return {\"location\": location, \"temperature\": \"20°C\"}\n",
    "        elif unit == \"f\":\n",
    "            return {\"location\": location, \"temperature\": \"68°F\"}\n",
    "    else:\n",
    "        return {\"error\": \"Location not found\"}\n",
    "\n",
    "\n",
    "def get_coordinates(address, region):\n",
    "    if address == \"Beijing\":\n",
    "        if region == \"world\":\n",
    "            return {\"address\": address, \"coordinates\": {\"lat\": 39.9042, \"lon\": 116.4074}}\n",
    "        elif region == \"local\":\n",
    "            return {\"address\": address, \"coordinates\": {\"lat\": 39.9, \"lon\": 116.4}}\n",
    "    else:\n",
    "        return {\"error\": \"Address not found\"}\n",
    "\n",
    "\n",
    "tools = [\n",
    "    {\n",
    "        \"type\": \"function\",\n",
    "        \"function\": {\n",
    "            \"name\": \"get_weather\",\n",
    "            \"strict\": True,\n",
    "            \"parameters\": {\n",
    "                \"type\": \"object\",\n",
    "                \"properties\": {\n",
    "                    \"location\": {\"type\": \"string\"},\n",
    "                    \"unit\": {\"type\": \"string\", \"enum\": [\"c\", \"f\"]},\n",
    "                },\n",
    "                \"required\": [\"location\", \"unit\"],\n",
    "                \"additionalProperties\": False,\n",
    "            },\n",
    "        },\n",
    "    },\n",
    "    {\n",
    "        \"type\": \"function\",\n",
    "        \"function\": {\n",
    "            \"name\": \"get_coordinates\",\n",
    "            \"strict\": True,\n",
    "            \"parameters\": {\n",
    "                \"type\": \"object\",\n",
    "                \"properties\": {\n",
    "                    \"address\": {\"type\": \"string\"},\n",
    "                    \"region\": {\"type\": \"string\", \"enum\": [\"world\", \"local\"]},\n",
    "                },\n",
    "                \"required\": [\"address\", \"region\"],\n",
    "                \"additionalProperties\": False\n",
    "            }\n",
    "        }\n",
    "    }\n",
    "]\n",
    "\n",
    "messages = [\n",
    "    {\"role\": \"user\", \"content\": \"What's the weather like in Beijing today and where is beijing?\"}]\n",
    "response = client.chat.completions.create(\n",
    "    model=\"glm-4.5\",\n",
    "    messages=messages,\n",
    "    tools=tools,\n",
    "    tool_choice=\"required\"\n",
    ")\n",
    "\n",
    "print(response)"
   ],
   "id": "initial_id",
   "outputs": [
    {
     "name": "stdout",
     "output_type": "stream",
     "text": [
      "Completion(model='glm-4.5', created=1756893176, choices=[CompletionChoice(index=0, finish_reason='tool_calls', message=CompletionMessage(content='\\n', role='assistant', reasoning_content='The user is asking for two things:\\n1. The weather in Beijing today\\n2. The location/coordinates of Beijing\\n\\nFor the weather, I need to use the get_weather function. I need:\\n- location: \"Beijing\" \\n- unit: The user didn\\'t specify Celsius or Fahrenheit, so I should ask or make a reasonable choice. Since Beijing is in China which uses Celsius, I\\'ll use \"c\" for Celsius.\\n\\nFor the location/coordinates, I need to use the get_coordinates function. I need:\\n- address: \"Beijing\"\\n- region: The user didn\\'t specify local or world region. Since Beijing is a major world city, I\\'ll use \"world\" to get a broader context.\\n\\nLet me make both function calls.', tool_calls=[CompletionMessageToolCall(id='call_-8374378427976446352', function=Function(arguments='{\"location\": \"Beijing\", \"unit\": \"c\"}', name='get_weather'), type='function', index=0), CompletionMessageToolCall(id='call_-8374378427976446351', function=Function(arguments='{\"address\": \"Beijing\", \"region\": \"world\"}', name='get_coordinates'), type='function', index=1)]))], request_id='20250903175252238af0243ae54afb', id='20250903175252238af0243ae54afb', usage=CompletionUsage(prompt_tokens=251, completion_tokens=203, total_tokens=454, prompt_tokens_details={'cached_tokens': 42}))\n"
     ]
    }
   ],
   "execution_count": 2
  },
  {
   "metadata": {
    "ExecuteTime": {
     "end_time": "2025-09-03T09:52:56.841421Z",
     "start_time": "2025-09-03T09:52:56.838083Z"
    }
   },
   "cell_type": "code",
   "source": "response = response.choices[0].dict()",
   "id": "72b12714c3e5983b",
   "outputs": [
    {
     "name": "stderr",
     "output_type": "stream",
     "text": [
      "/var/folders/cz/76xt997d6kl_rwv3_7mx_nm40000gn/T/ipykernel_85425/3691858271.py:1: PydanticDeprecatedSince20: The `dict` method is deprecated; use `model_dump` instead. Deprecated in Pydantic V2.0 to be removed in V3.0. See Pydantic V2 Migration Guide at https://errors.pydantic.dev/2.10/migration/\n",
      "  response = response.choices[0].dict()\n"
     ]
    }
   ],
   "execution_count": 3
  },
  {
   "metadata": {},
   "cell_type": "markdown",
   "source": [
    "我们将直接执行模型的返回，并调用工具，在工具中，我们写死了北京的数据。接着，我们将两个模型回答一起提交给 API。请注意，ID号码和顺序必须与模型工具调用的顺序完全一致，这样才能保证模型正常返回。在这里，我写了一个简单的执行模型的函数，根据函数名调用对应的函数。\n",
    "\n",
    "We will execute the model's return directly and call the tool. In the tool, we hard-coded the data for Beijing. Then, we will submit the two model answers together to the API. Please note that the ID numbers and order must be exactly the same as the order of the model tool calls to ensure that the model returns normally. Here, I wrote a simple function to execute the model and call the corresponding function according to the function name."
   ],
   "id": "8d5b301e4db27f55"
  },
  {
   "metadata": {
    "ExecuteTime": {
     "end_time": "2025-09-03T09:52:56.865560Z",
     "start_time": "2025-09-03T09:52:56.861920Z"
    }
   },
   "cell_type": "code",
   "source": [
    "tool_messages = [\n",
    "    response['message'],\n",
    "    {\n",
    "        \"role\": \"tool\",\n",
    "        \"content\": None,\n",
    "        \"tool_call_id\": response['message']['tool_calls'][0]['id']\n",
    "    },\n",
    "    {\n",
    "        \"role\": \"tool\",\n",
    "        \"content\": None,\n",
    "        \"tool_call_id\": response['message']['tool_calls'][1]['id']\n",
    "    }\n",
    "]\n",
    "\n",
    "\n",
    "def run_function(function, parameters):\n",
    "    if function == \"get_weather\":\n",
    "        return get_weather(**parameters)\n",
    "    elif function == \"get_coordinates\":\n",
    "        return get_coordinates(**parameters)\n",
    "    else:\n",
    "        return {\"error\": \"Function not found\"}\n",
    "\n",
    "\n",
    "for i, tool_call in enumerate(response['message']['tool_calls']):\n",
    "    arguments = tool_call['function']['arguments']\n",
    "    if isinstance(arguments, str):\n",
    "        arguments = json.loads(arguments)\n",
    "    tool_messages[i + 1]['content'] = json.dumps(run_function(tool_call['function']['name'], arguments))\n",
    "\n"
   ],
   "id": "8561c9ec8b8a1575",
   "outputs": [],
   "execution_count": 4
  },
  {
   "metadata": {},
   "cell_type": "markdown",
   "source": [
    "将消息进行拼接，得到完整信息。\n",
    "\n",
    "Concatenate the messages to get the complete information."
   ],
   "id": "e277bc93ffce9d52"
  },
  {
   "metadata": {
    "ExecuteTime": {
     "end_time": "2025-09-03T09:52:56.881211Z",
     "start_time": "2025-09-03T09:52:56.876957Z"
    }
   },
   "cell_type": "code",
   "source": [
    "messages +=  tool_messages\n",
    "messages"
   ],
   "id": "8dbed4a6f09b4b2b",
   "outputs": [
    {
     "data": {
      "text/plain": [
       "[{'role': 'user',\n",
       "  'content': \"What's the weather like in Beijing today and where is beijing?\"},\n",
       " {'content': '\\n',\n",
       "  'role': 'assistant',\n",
       "  'reasoning_content': 'The user is asking for two things:\\n1. The weather in Beijing today\\n2. The location/coordinates of Beijing\\n\\nFor the weather, I need to use the get_weather function. I need:\\n- location: \"Beijing\" \\n- unit: The user didn\\'t specify Celsius or Fahrenheit, so I should ask or make a reasonable choice. Since Beijing is in China which uses Celsius, I\\'ll use \"c\" for Celsius.\\n\\nFor the location/coordinates, I need to use the get_coordinates function. I need:\\n- address: \"Beijing\"\\n- region: The user didn\\'t specify local or world region. Since Beijing is a major world city, I\\'ll use \"world\" to get a broader context.\\n\\nLet me make both function calls.',\n",
       "  'tool_calls': [{'id': 'call_-8374378427976446352',\n",
       "    'function': {'arguments': '{\"location\": \"Beijing\", \"unit\": \"c\"}',\n",
       "     'name': 'get_weather'},\n",
       "    'type': 'function',\n",
       "    'index': 0},\n",
       "   {'id': 'call_-8374378427976446351',\n",
       "    'function': {'arguments': '{\"address\": \"Beijing\", \"region\": \"world\"}',\n",
       "     'name': 'get_coordinates'},\n",
       "    'type': 'function',\n",
       "    'index': 1}]},\n",
       " {'role': 'tool',\n",
       "  'content': '{\"location\": \"Beijing\", \"temperature\": \"20\\\\u00b0C\"}',\n",
       "  'tool_call_id': 'call_-8374378427976446352'},\n",
       " {'role': 'tool',\n",
       "  'content': '{\"address\": \"Beijing\", \"coordinates\": {\"lat\": 39.9042, \"lon\": 116.4074}}',\n",
       "  'tool_call_id': 'call_-8374378427976446351'}]"
      ]
     },
     "execution_count": 5,
     "metadata": {},
     "output_type": "execute_result"
    }
   ],
   "execution_count": 5
  },
  {
   "metadata": {},
   "cell_type": "markdown",
   "source": [
    "调用模型返回，我们可以看到模型返回了北京的天气和坐标。\n",
    "\n",
    "Call the model to return, we can see that the model returns the weather and coordinates of Beijing."
   ],
   "id": "41f84b22137d2f6c"
  },
  {
   "metadata": {
    "ExecuteTime": {
     "end_time": "2025-09-03T09:53:00.030389Z",
     "start_time": "2025-09-03T09:52:56.888998Z"
    }
   },
   "cell_type": "code",
   "source": [
    "response = client.chat.completions.create(\n",
    "    model=\"glm-4.5\",\n",
    "    messages=messages,\n",
    ")\n",
    "\n",
    "print(response)"
   ],
   "id": "821775e23abee080",
   "outputs": [
    {
     "name": "stdout",
     "output_type": "stream",
     "text": [
      "Completion(model='glm-4.5', created=1756893180, choices=[CompletionChoice(index=0, finish_reason='stop', message=CompletionMessage(content=\"\\nBased on the information I found:\\n\\n**Weather in Beijing today:**\\nThe current temperature in Beijing is 20°C (68°F).\\n\\n**Location of Beijing:**\\nBeijing is located at coordinates 39.9042°N, 116.4074°E. It's the capital city of China, situated in the northern part of the country. Beijing is in the North China Plain and is one of the most populous cities in the world, serving as China's political, cultural, and educational center.\\n\\nThe coordinates place Beijing in the northern hemisphere, in eastern Asia, and it's approximately 110 kilometers (68 miles) northwest of the Bohai Sea.\", role='assistant', reasoning_content=\"Great! I got the information for both questions:\\n\\n1. Weather in Beijing today: 20°C\\n2. Beijing's coordinates: 39.9042°N, 116.4074°E\\n\\nNow I should provide a comprehensive answer that includes both pieces of information, and maybe add some context about Beijing's location to make it more helpful.\", tool_calls=None))], request_id='202509031752576ad1a3271e2c4f30', id='202509031752576ad1a3271e2c4f30', usage=CompletionUsage(prompt_tokens=283, completion_tokens=213, total_tokens=496, prompt_tokens_details={'cached_tokens': 0}))\n"
     ]
    }
   ],
   "execution_count": 6
  },
  {
   "metadata": {},
   "cell_type": "markdown",
   "source": [
    "# 3. 同一个函数同时调用多次\n",
    "\n",
    "GLM-4.5 也支持使用同时并行调用同一个函数多次，使用不同函数。下面的例子中，我们将调用 `check_weather` 函数四次，分别查询纽约、伦敦、北京、东京的天气情况。"
   ],
   "id": "2e7259c6fd6bfdf0"
  },
  {
   "metadata": {
    "ExecuteTime": {
     "end_time": "2025-09-03T09:53:03.145441Z",
     "start_time": "2025-09-03T09:53:00.035369Z"
    }
   },
   "cell_type": "code",
   "source": [
    "tools = [\n",
    "    {\n",
    "        \"type\": \"function\",\n",
    "        \"function\": {\n",
    "            \"name\": \"check_weather\",\n",
    "            \"strict\": True,\n",
    "            \"parameters\": {\n",
    "                \"type\": \"object\",\n",
    "                \"properties\": {\n",
    "                    \"location\": {\"type\": \"string\"},\n",
    "                    \"unit\": {\"type\": \"string\", \"enum\": [\"c\", \"f\"]},\n",
    "                },\n",
    "                \"required\": [\"location\"],\n",
    "                \"additionalProperties\": False,\n",
    "            },\n",
    "        },\n",
    "    },\n",
    "]\n",
    "messages = [\n",
    "    {\"role\": \"system\", \"content\": \"You are a helpful assistant providing weather updates.\"},\n",
    "    {\"role\": \"user\", \"content\": \"What's the weather like in New York, London, Tokyo and Beijing?\"}]\n",
    "\n",
    "response = client.chat.completions.create(\n",
    "    model=\"glm-4.5\",\n",
    "    messages=messages,\n",
    "    tools=tools,\n",
    "    tool_choice=\"required\"\n",
    ")\n",
    "\n",
    "print(response)"
   ],
   "id": "3a30f24f9f3f5654",
   "outputs": [
    {
     "name": "stdout",
     "output_type": "stream",
     "text": [
      "Completion(model='glm-4.5', created=1756893183, choices=[CompletionChoice(index=0, finish_reason='tool_calls', message=CompletionMessage(content='\\n', role='assistant', reasoning_content='The user is asking for weather information for four different cities: New York, London, Tokyo, and Beijing. I need to use the check_weather function for each of these locations. The function requires a \"location\" parameter (which is required) and has an optional \"unit\" parameter (which can be \"c\" for Celsius or \"f\" for Fahrenheit). Since the user didn\\'t specify a temperature unit, I\\'ll use the default (which should be Celsius since it\\'s the first option).\\n\\nI\\'ll make four separate function calls to get the weather for each city.', tool_calls=[CompletionMessageToolCall(id='call_-8374370284718010958', function=Function(arguments='{\"location\": \"New York\"}', name='check_weather'), type='function', index=0), CompletionMessageToolCall(id='call_-8374370284718010957', function=Function(arguments='{\"location\": \"London\"}', name='check_weather'), type='function', index=1), CompletionMessageToolCall(id='call_-8374370284718010956', function=Function(arguments='{\"location\": \"Tokyo\"}', name='check_weather'), type='function', index=2), CompletionMessageToolCall(id='call_-8374370284718010955', function=Function(arguments='{\"location\": \"Beijing\"}', name='check_weather'), type='function', index=3)]))], request_id='202509031753005c79ba9504db43cb', id='202509031753005c79ba9504db43cb', usage=CompletionUsage(prompt_tokens=194, completion_tokens=177, total_tokens=371, prompt_tokens_details={'cached_tokens': 42}))\n"
     ]
    }
   ],
   "execution_count": 7
  },
  {
   "metadata": {
    "ExecuteTime": {
     "end_time": "2025-09-03T09:53:03.154092Z",
     "start_time": "2025-09-03T09:53:03.150565Z"
    }
   },
   "cell_type": "code",
   "source": [
    "response = response.choices[0].dict()\n",
    "response"
   ],
   "id": "491ec785487d3817",
   "outputs": [
    {
     "name": "stderr",
     "output_type": "stream",
     "text": [
      "/var/folders/cz/76xt997d6kl_rwv3_7mx_nm40000gn/T/ipykernel_85425/1931219842.py:1: PydanticDeprecatedSince20: The `dict` method is deprecated; use `model_dump` instead. Deprecated in Pydantic V2.0 to be removed in V3.0. See Pydantic V2 Migration Guide at https://errors.pydantic.dev/2.10/migration/\n",
      "  response = response.choices[0].dict()\n"
     ]
    },
    {
     "data": {
      "text/plain": [
       "{'index': 0,\n",
       " 'finish_reason': 'tool_calls',\n",
       " 'message': {'content': '\\n',\n",
       "  'role': 'assistant',\n",
       "  'reasoning_content': 'The user is asking for weather information for four different cities: New York, London, Tokyo, and Beijing. I need to use the check_weather function for each of these locations. The function requires a \"location\" parameter (which is required) and has an optional \"unit\" parameter (which can be \"c\" for Celsius or \"f\" for Fahrenheit). Since the user didn\\'t specify a temperature unit, I\\'ll use the default (which should be Celsius since it\\'s the first option).\\n\\nI\\'ll make four separate function calls to get the weather for each city.',\n",
       "  'tool_calls': [{'id': 'call_-8374370284718010958',\n",
       "    'function': {'arguments': '{\"location\": \"New York\"}',\n",
       "     'name': 'check_weather'},\n",
       "    'type': 'function',\n",
       "    'index': 0},\n",
       "   {'id': 'call_-8374370284718010957',\n",
       "    'function': {'arguments': '{\"location\": \"London\"}',\n",
       "     'name': 'check_weather'},\n",
       "    'type': 'function',\n",
       "    'index': 1},\n",
       "   {'id': 'call_-8374370284718010956',\n",
       "    'function': {'arguments': '{\"location\": \"Tokyo\"}',\n",
       "     'name': 'check_weather'},\n",
       "    'type': 'function',\n",
       "    'index': 2},\n",
       "   {'id': 'call_-8374370284718010955',\n",
       "    'function': {'arguments': '{\"location\": \"Beijing\"}',\n",
       "     'name': 'check_weather'},\n",
       "    'type': 'function',\n",
       "    'index': 3}]}}"
      ]
     },
     "execution_count": 8,
     "metadata": {},
     "output_type": "execute_result"
    }
   ],
   "execution_count": 8
  },
  {
   "metadata": {},
   "cell_type": "markdown",
   "source": "我们将提前准备好的回答，分别填入对应的 `tool_call_id` 中，然后将这些回答一起提交给 API。请注意，ID号码和顺序必须与模型工具调用的顺序完全一致，这样才能保证模型正常返回。",
   "id": "ec739b8b9cd6b255"
  },
  {
   "metadata": {
    "ExecuteTime": {
     "end_time": "2025-09-03T09:53:03.162150Z",
     "start_time": "2025-09-03T09:53:03.159089Z"
    }
   },
   "cell_type": "code",
   "source": [
    "weather_data = {\n",
    "    \"New York\": {\"temperature\": \"22°C\", \"condition\": \"Sunny\"},\n",
    "    \"London\": {\"temperature\": \"15°C\", \"condition\": \"Cloudy\"},\n",
    "    \"Tokyo\": {\"temperature\": \"25°C\", \"condition\": \"Rainy\"},\n",
    "    \"Beijing\": {\"temperature\": \"-1°C\", \"condition\": \"Cloudy\"}\n",
    "}\n",
    "\n",
    "messages += [\n",
    "    response['message'],\n",
    "    {\n",
    "        \"role\": \"tool\",\n",
    "        \"content\": json.dumps({\n",
    "            \"city\": \"New York\",\n",
    "            \"weather\": weather_data[\"New York\"]\n",
    "        }),\n",
    "        # Here we specify the tool_call_id that this result corresponds to\n",
    "        \"tool_call_id\": response['message']['tool_calls'][0]['id']\n",
    "    },\n",
    "    {\n",
    "        \"role\": \"tool\",\n",
    "        \"content\": json.dumps({\n",
    "            \"city\": \"London\",\n",
    "            \"weather\": weather_data[\"London\"]\n",
    "        }),\n",
    "        \"tool_call_id\": response['message']['tool_calls'][1]['id']\n",
    "    },\n",
    "    {\n",
    "        \"role\": \"tool\",\n",
    "        \"content\": json.dumps({\n",
    "            \"city\": \"Tokyo\",\n",
    "            \"weather\": weather_data[\"Tokyo\"]\n",
    "        }),\n",
    "        \"tool_call_id\": response['message']['tool_calls'][2]['id']\n",
    "    },\n",
    "    {\n",
    "        \"role\": \"tool\",\n",
    "        \"content\": json.dumps({\n",
    "            \"city\": \"Beijing\",\n",
    "            \"weather\": weather_data[\"Beijing\"]\n",
    "        }),\n",
    "        \"tool_call_id\": response['message']['tool_calls'][3]['id']\n",
    "    }\n",
    "]"
   ],
   "id": "2cc56b8f924ece7f",
   "outputs": [],
   "execution_count": 9
  },
  {
   "metadata": {},
   "cell_type": "markdown",
   "source": [
    "打印消息，我们看到每个工具调用的结果已经返回，并拼接到了消息中。\n",
    "\n",
    "print the messages, we can see that the results of each tool call have been returned and appended to the messages."
   ],
   "id": "1b6b36059e61eaeb"
  },
  {
   "metadata": {
    "ExecuteTime": {
     "end_time": "2025-09-03T09:53:03.178626Z",
     "start_time": "2025-09-03T09:53:03.176245Z"
    }
   },
   "cell_type": "code",
   "source": "messages",
   "id": "63d3825f4b9521b6",
   "outputs": [
    {
     "data": {
      "text/plain": [
       "[{'role': 'system',\n",
       "  'content': 'You are a helpful assistant providing weather updates.'},\n",
       " {'role': 'user',\n",
       "  'content': \"What's the weather like in New York, London, Tokyo and Beijing?\"},\n",
       " {'content': '\\n',\n",
       "  'role': 'assistant',\n",
       "  'reasoning_content': 'The user is asking for weather information for four different cities: New York, London, Tokyo, and Beijing. I need to use the check_weather function for each of these locations. The function requires a \"location\" parameter (which is required) and has an optional \"unit\" parameter (which can be \"c\" for Celsius or \"f\" for Fahrenheit). Since the user didn\\'t specify a temperature unit, I\\'ll use the default (which should be Celsius since it\\'s the first option).\\n\\nI\\'ll make four separate function calls to get the weather for each city.',\n",
       "  'tool_calls': [{'id': 'call_-8374370284718010958',\n",
       "    'function': {'arguments': '{\"location\": \"New York\"}',\n",
       "     'name': 'check_weather'},\n",
       "    'type': 'function',\n",
       "    'index': 0},\n",
       "   {'id': 'call_-8374370284718010957',\n",
       "    'function': {'arguments': '{\"location\": \"London\"}',\n",
       "     'name': 'check_weather'},\n",
       "    'type': 'function',\n",
       "    'index': 1},\n",
       "   {'id': 'call_-8374370284718010956',\n",
       "    'function': {'arguments': '{\"location\": \"Tokyo\"}',\n",
       "     'name': 'check_weather'},\n",
       "    'type': 'function',\n",
       "    'index': 2},\n",
       "   {'id': 'call_-8374370284718010955',\n",
       "    'function': {'arguments': '{\"location\": \"Beijing\"}',\n",
       "     'name': 'check_weather'},\n",
       "    'type': 'function',\n",
       "    'index': 3}]},\n",
       " {'role': 'tool',\n",
       "  'content': '{\"city\": \"New York\", \"weather\": {\"temperature\": \"22\\\\u00b0C\", \"condition\": \"Sunny\"}}',\n",
       "  'tool_call_id': 'call_-8374370284718010958'},\n",
       " {'role': 'tool',\n",
       "  'content': '{\"city\": \"London\", \"weather\": {\"temperature\": \"15\\\\u00b0C\", \"condition\": \"Cloudy\"}}',\n",
       "  'tool_call_id': 'call_-8374370284718010957'},\n",
       " {'role': 'tool',\n",
       "  'content': '{\"city\": \"Tokyo\", \"weather\": {\"temperature\": \"25\\\\u00b0C\", \"condition\": \"Rainy\"}}',\n",
       "  'tool_call_id': 'call_-8374370284718010956'},\n",
       " {'role': 'tool',\n",
       "  'content': '{\"city\": \"Beijing\", \"weather\": {\"temperature\": \"-1\\\\u00b0C\", \"condition\": \"Cloudy\"}}',\n",
       "  'tool_call_id': 'call_-8374370284718010955'}]"
      ]
     },
     "execution_count": 10,
     "metadata": {},
     "output_type": "execute_result"
    }
   ],
   "execution_count": 10
  },
  {
   "metadata": {},
   "cell_type": "markdown",
   "source": [
    "调用模型返回，我们可以看到模型返回了四个城市的天气情况。\n",
    "\n",
    "Call the model to return, we can see that the model returns the weather conditions of four cities."
   ],
   "id": "3ce8cb2dd1c29794"
  },
  {
   "metadata": {
    "ExecuteTime": {
     "end_time": "2025-09-03T09:53:06.311011Z",
     "start_time": "2025-09-03T09:53:03.195992Z"
    }
   },
   "cell_type": "code",
   "source": [
    "response = client.chat.completions.create(\n",
    "    model=\"glm-4.5\",\n",
    "    messages=messages,\n",
    ")\n",
    "print(response)"
   ],
   "id": "4ad3ff4cedb040a",
   "outputs": [
    {
     "name": "stdout",
     "output_type": "stream",
     "text": [
      "Completion(model='glm-4.5', created=1756893186, choices=[CompletionChoice(index=0, finish_reason='stop', message=CompletionMessage(content=\"\\nHere's the current weather for the cities you asked about:\\n\\n**New York**: 22°C, Sunny\\n**London**: 15°C, Cloudy\\n**Tokyo**: 25°C, Rainy\\n**Beijing**: -1°C, Cloudy\\n\\nIt looks like Tokyo is the warmest at 25°C, though it's rainy there. Beijing is the coldest at -1°C with cloudy conditions. New York is enjoying sunny weather at a pleasant 22°C, while London is experiencing milder temperatures at 15°C with cloudy skies.\", role='assistant', reasoning_content=\"Now I have the weather information for all four cities. Let me organize this information in a clear and helpful way for the user:\\n\\n1. New York: 22°C, Sunny\\n2. London: 15°C, Cloudy\\n3. Tokyo: 25°C, Rainy\\n4. Beijing: -1°C, Cloudy\\n\\nI'll present this information in a well-formatted response.\", tool_calls=None))], request_id='20250903175303a2639897beef4600', id='20250903175303a2639897beef4600', usage=CompletionUsage(prompt_tokens=342, completion_tokens=199, total_tokens=541, prompt_tokens_details={'cached_tokens': 0}))\n"
     ]
    }
   ],
   "execution_count": 11
  },
  {
   "metadata": {},
   "cell_type": "markdown",
   "source": [
    "# 4. Conclusion\n",
    "\n",
    "大模型是如何完成多个工具同时调用的：\n",
    "\n",
    "**步骤 1**：向模型提供可能导致模型选择使用工具的提示。工具的描述（如函数名称和签名）在“工具”列表中定义，并在 API 调用中传递给模型。如果模型选择了某个工具，函数名称和参数将包含在响应中。<br>\n",
    "\n",
    "**步骤 2**：程序化地检查模型是否想要调用某个函数。如果为真，继续执行步骤 3。<br>  \n",
    "**步骤 3**：从响应中提取函数名称和参数，使用这些参数调用函数。将结果附加到消息列表中。<br>    \n",
    "**步骤 4**：使用消息列表再次调用 chat completions API 以获取响应。\n",
    "\n",
    "通过以上路线，大模型能更好的处理多个工具调用的情况，提高对话效率，随着工具数量的增加，对话效率会更加明显的提升。\n",
    "\n",
    "The LLM is how to complete multiple tool calls at the same time:\n",
    "\n",
    "**Step 1**: Prompt the model with content that may result in model selecting a tool to use. The description of the tools such as a function names and signature is defined in the 'Tools' list and passed to the model in API call. If selected, the function name and parameters are included in the response.<br>\n",
    "  \n",
    "**Step 2**: Check programmatically if model wanted to call a function. If true, proceed to step 3. <br>  \n",
    "**Step 3**: Extract the function name and parameters from response, call the function with parameters. Append the result to messages. <br>    \n",
    "**Step 4**: Invoke the chat completions API with the message list to get the response. \n",
    "\n",
    "Through the above route, the LLM can better handle the situation of multiple tool calls, improve the efficiency of the conversation, and with the increase of the number of tools, the efficiency of the conversation will be more obvious improvement."
   ],
   "id": "67f1d6fa24c0fbbb"
  }
 ],
 "metadata": {
  "kernelspec": {
   "display_name": "Python 3",
   "language": "python",
   "name": "python3"
  },
  "language_info": {
   "codemirror_mode": {
    "name": "ipython",
    "version": 2
   },
   "file_extension": ".py",
   "mimetype": "text/x-python",
   "name": "python",
   "nbconvert_exporter": "python",
   "pygments_lexer": "ipython2",
   "version": "2.7.6"
  }
 },
 "nbformat": 4,
 "nbformat_minor": 5
}
