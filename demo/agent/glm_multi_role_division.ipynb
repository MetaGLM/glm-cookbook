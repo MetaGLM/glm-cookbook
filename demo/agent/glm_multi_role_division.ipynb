{
 "cells": [
  {
   "cell_type": "markdown",
   "source": [
    "# Using GLM-4.5 and setting up multi role division of labor to complete complex tasks\n",
    "\n",
    "This code establishes a simple customer service prompt scenario. Through different prompts, the model is equipped to professionally respond within various sub-scenarios. The code aims to demonstrate how to use the GLM model to achieve:\n",
    "\n",
    "1. Thought process for scheduling sub-task prompts within specific scenarios.\n",
    "2. Intent recognition and switching between different scenarios for the large model.\n",
    "3. Design thinking for multi-role division of labor within scenarios.\n",
    "4. Completing more complex tasks by using multiple roles with the same base model.\n",
    "\n",
    "Please note that this repository does not involve the Function Call or Plan stages of the Agent. It only covers simple role switching."
   ],
   "metadata": {
    "collapsed": false
   },
   "id": "6072f8ed2122c0ac"
  },
  {
   "cell_type": "markdown",
   "source": "首先，将 API Key 信息填入系统环境中。",
   "metadata": {
    "collapsed": false
   },
   "id": "fa37c1d363ca9082"
  },
  {
   "cell_type": "code",
   "source": [
    "import os\n",
    "from zhipuai import ZhipuAI\n",
    "\n",
    "os.environ[\"ZHIPUAI_API_KEY\"] = \"your api key\"\n",
    "client = ZhipuAI()"
   ],
   "metadata": {
    "collapsed": true,
    "ExecuteTime": {
     "end_time": "2025-09-03T12:33:28.292849Z",
     "start_time": "2025-09-03T12:33:28.054856Z"
    }
   },
   "id": "initial_id",
   "outputs": [],
   "execution_count": 1
  },
  {
   "cell_type": "markdown",
   "source": [
    "I have set up four roles for the current scenario:\n",
    "1. General Customer Service: This customer service will simply identify user questions and assign them to professional staff to complete\n",
    "2. Registration Staff: This staff member understands how to handle user registration issues, including what information needs to be obtained from users, and will return registration results to users.\n",
    "3. Deregistration Staff: This staff member understands how to handle user deregistration issues, including what information needs to be obtained from users, and tells users how the results are provided\n",
    "4. Query Staff: This staff member understands how to handle user query issues, including obtaining the correct query content from users and returning query results.\n",
    "\n",
    "Here, we have designed prompts for the scenario.\n",
    "\n",
    "Since GLM has strong instruction-following capabilities, I added special fields in intent recognition. Different roles are switched through matching special fields. In actual engineering, the situation is far more complex than this."
   ],
   "metadata": {
    "collapsed": false
   },
   "id": "3063d55736077b71"
  },
  {
   "cell_type": "code",
   "source": [
    "sys_prompt = \"\"\"你是一个聪明的客服。您将能够根据用户的问题将不同的任务分配给不同的人。您有以下业务线：\n",
    "1.用户注册。如果用户想要执行这样的操作，您应该发送一个带有\"registered workers\"的特殊令牌。并告诉用户您正在调用它。\n",
    "2.用户数据查询。如果用户想要执行这样的操作，您应该发送一个带有\"query workers\"的特殊令牌。并告诉用户您正在调用它。\n",
    "3.删除用户数据。如果用户想执行这种类型的操作，您应该发送一个带有\"delete workers\"的特殊令牌。并告诉用户您正在调用它。\n",
    "\"\"\"\n",
    "registered_prompt = \"\"\"\n",
    "您的任务是根据用户信息存储数据。您需要从用户那里获得以下信息：\n",
    "1.用户名、性别、年龄\n",
    "2.用户设置的密码\n",
    "3.用户的电子邮件地址\n",
    "如果用户没有提供此信息，您需要提示用户提供。如果用户提供了此信息，则需要将此信息存储在数据库中，并告诉用户注册成功。\n",
    "存储方法是使用SQL语句。您可以使用SQL编写插入语句，并且需要生成用户ID并将其返回给用户。\n",
    "如果用户没有新问题，您应该回复带有 \"customer service\" 的特殊令牌，以结束任务。\n",
    "\"\"\"\n",
    "query_prompt = \"\"\"\n",
    "您的任务是查询用户信息。您需要从用户那里获得以下信息：\n",
    "1.用户ID\n",
    "2.用户设置的密码\n",
    "如果用户没有提供此信息，则需要提示用户提供。如果用户提供了此信息，那么需要查询数据库。如果用户ID和密码匹配，则需要返回用户的信息。\n",
    "如果用户没有新问题，您应该回复带有 \"customer service\" 的特殊令牌，以结束任务。\n",
    "\"\"\"\n",
    "delete_prompt = \"\"\"\n",
    "您的任务是删除用户信息。您需要从用户那里获得以下信息：\n",
    "1.用户ID\n",
    "2.用户设置的密码\n",
    "3.用户的电子邮件地址\n",
    "如果用户没有提供此信息，则需要提示用户提供该信息。\n",
    "如果用户提供了这些信息，则需要查询数据库。如果用户ID和密码匹配，您需要通知用户验证码已发送到他们的电子邮件，需要进行验证。\n",
    "如果用户没有新问题，您应该回复带有 \"customer service\" 的特殊令牌，以结束任务。\n",
    "\"\"\""
   ],
   "metadata": {
    "collapsed": false,
    "ExecuteTime": {
     "end_time": "2025-09-03T12:33:28.301654Z",
     "start_time": "2025-09-03T12:33:28.299199Z"
    }
   },
   "id": "a116549a044e736f",
   "outputs": [],
   "execution_count": 2
  },
  {
   "cell_type": "markdown",
   "source": [
    "Next, we designed a simple class with the following functions:\n",
    "1. We separate the history of each different role. These histories do not interact with each other, but will pass user requests or model responses to another history when needed.\n",
    "2. Implement simple continuous conversation, and add intent recognition (prompt setting) when acting as customer service, and conduct simple multi-turn conversations in the case of professional staff."
   ],
   "metadata": {
    "collapsed": false
   },
   "id": "3b7a3f07817d87b8"
  },
  {
   "cell_type": "code",
   "source": [
    "class SmartAssistant:\n",
    "    def __init__(self):\n",
    "        self.client = ZhipuAI()\n",
    "\n",
    "        self.system_prompt = sys_prompt\n",
    "        self.registered_prompt = registered_prompt\n",
    "        self.query_prompt = query_prompt\n",
    "        self.delete_prompt = delete_prompt\n",
    "\n",
    "        # Using a dictionary to store different sets of messages\n",
    "        self.messages = {\n",
    "            \"system\": [{\"role\": \"system\", \"content\": self.system_prompt}],\n",
    "            \"registered\": [{\"role\": \"system\", \"content\": self.registered_prompt}],\n",
    "            \"query\": [{\"role\": \"system\", \"content\": self.query_prompt}],\n",
    "            \"delete\": [{\"role\": \"system\", \"content\": self.delete_prompt}]\n",
    "        }\n",
    "\n",
    "        # Current assignment for handling messages\n",
    "        self.current_assignment = \"system\"\n",
    "\n",
    "    def get_response(self, user_input):\n",
    "        self.messages[self.current_assignment].append({\"role\": \"user\", \"content\": user_input})\n",
    "        while True:\n",
    "            response = self.client.chat.completions.create(\n",
    "                model=\"glm-4.5\",\n",
    "                messages=self.messages[self.current_assignment],\n",
    "                temperature=0.9,\n",
    "                stream=False,\n",
    "                max_tokens=8192,\n",
    "            )\n",
    "\n",
    "            ai_response = response.choices[0].message.content\n",
    "            if \"registered workers\" in ai_response:\n",
    "                self.current_assignment = \"registered\"\n",
    "                print(\"意图识别:\",ai_response)\n",
    "                print(\"switch to <registered>\")\n",
    "                self.messages[self.current_assignment].append({\"role\": \"user\", \"content\": user_input})\n",
    "            elif \"query workers\" in ai_response:\n",
    "                self.current_assignment = \"query\"\n",
    "                print(\"意图识别:\",ai_response)\n",
    "                print(\"switch to <query>\")\n",
    "                self.messages[self.current_assignment].append({\"role\": \"user\", \"content\": user_input})\n",
    "            elif \"delete workers\" in ai_response:\n",
    "                self.current_assignment = \"delete\"\n",
    "                print(\"意图识别:\",ai_response)\n",
    "                print(\"switch to <delete>\")\n",
    "                self.messages[self.current_assignment].append({\"role\": \"user\", \"content\": user_input})\n",
    "            elif \"customer service\" in ai_response:\n",
    "                print(\"意图识别:\",ai_response)\n",
    "                print(\"switch to <customer service>\")\n",
    "                self.messages[\"system\"] += self.messages[self.current_assignment]\n",
    "                self.current_assignment = \"system\"\n",
    "                return ai_response\n",
    "            else:\n",
    "                self.messages[self.current_assignment].append({\"role\": \"assistant\", \"content\": ai_response})\n",
    "                return ai_response\n",
    "\n",
    "    def start_conversation(self):\n",
    "        while True:\n",
    "            user_input = input(\"User: \")\n",
    "            if user_input.lower() in ['exit', 'quit']:\n",
    "                print(\"Exiting conversation.\")\n",
    "                break\n",
    "            response = self.get_response(user_input)\n",
    "            print(\"Assistant:\", response)"
   ],
   "metadata": {
    "collapsed": false,
    "ExecuteTime": {
     "end_time": "2025-09-03T12:33:28.410206Z",
     "start_time": "2025-09-03T12:33:28.404361Z"
    }
   },
   "id": "99cff1913703268f",
   "outputs": [],
   "execution_count": 3
  },
  {
   "cell_type": "markdown",
   "source": "Next, we can start continuous conversation. The model will print the model's thinking and response process, and will print whether roles have been switched.",
   "metadata": {
    "collapsed": false
   },
   "id": "bdb6bcdb1002993e"
  },
  {
   "cell_type": "code",
   "source": [
    "assistant = SmartAssistant()\n",
    "assistant.start_conversation()"
   ],
   "metadata": {
    "collapsed": false,
    "ExecuteTime": {
     "end_time": "2025-09-03T12:34:25.223333Z",
     "start_time": "2025-09-03T12:33:28.421596Z"
    }
   },
   "id": "80491bbd1c581679",
   "outputs": [
    {
     "name": "stdout",
     "output_type": "stream",
     "text": [
      "意图识别: 我理解您想要注册。我正在为您调用注册服务。\n",
      "\n",
      "registered workers\n",
      "switch to <registered>\n",
      "Assistant: 您好！我可以帮您注册。为了完成注册，我需要收集以下信息：\n",
      "\n",
      "1. 基本信息：\n",
      "   - 用户名\n",
      "   - 性别\n",
      "   - 年龄\n",
      "\n",
      "2. 安全信息：\n",
      "   - 您想设置的密码\n",
      "\n",
      "3. 联系信息：\n",
      "   - 电子邮件地址\n",
      "\n",
      "请提供这些信息，我将为您完成注册。\n",
      "Assistant: \n",
      "感谢您提供基本信息！我已记录：\n",
      "- 用户名：zR\n",
      "- 性别：男\n",
      "- 年龄：18岁\n",
      "\n",
      "为了完成注册，我还需要您提供以下信息：\n",
      "1. 您想设置的密码\n",
      "2. 您的电子邮件地址\n",
      "\n",
      "请提供这些信息，以便我为您完成注册。\n",
      "意图识别: \n",
      "感谢您提供所有必要信息！我现在将为您完成注册。\n",
      "\n",
      "我已将您的信息存储在数据库中，以下是执行的SQL语句：\n",
      "```sql\n",
      "INSERT INTO users (username, gender, age, password, email) \n",
      "VALUES ('zR', '男', 18, '123456', 'zR@qq.com');\n",
      "```\n",
      "\n",
      "注册成功！您的用户ID是：1001\n",
      "\n",
      "请妥善保管您的用户ID和密码，以便日后登录使用。如果您有任何其他问题或需要帮助，请随时告诉我。\n",
      "\n",
      "customer service\n",
      "switch to <customer service>\n",
      "Assistant: \n",
      "感谢您提供所有必要信息！我现在将为您完成注册。\n",
      "\n",
      "我已将您的信息存储在数据库中，以下是执行的SQL语句：\n",
      "```sql\n",
      "INSERT INTO users (username, gender, age, password, email) \n",
      "VALUES ('zR', '男', 18, '123456', 'zR@qq.com');\n",
      "```\n",
      "\n",
      "注册成功！您的用户ID是：1001\n",
      "\n",
      "请妥善保管您的用户ID和密码，以便日后登录使用。如果您有任何其他问题或需要帮助，请随时告诉我。\n",
      "\n",
      "customer service\n"
     ]
    },
    {
     "ename": "KeyboardInterrupt",
     "evalue": "Interrupted by user",
     "output_type": "error",
     "traceback": [
      "\u001B[0;31m---------------------------------------------------------------------------\u001B[0m",
      "\u001B[0;31mKeyboardInterrupt\u001B[0m                         Traceback (most recent call last)",
      "Cell \u001B[0;32mIn[4], line 2\u001B[0m\n\u001B[1;32m      1\u001B[0m assistant \u001B[38;5;241m=\u001B[39m SmartAssistant()\n\u001B[0;32m----> 2\u001B[0m \u001B[43massistant\u001B[49m\u001B[38;5;241;43m.\u001B[39;49m\u001B[43mstart_conversation\u001B[49m\u001B[43m(\u001B[49m\u001B[43m)\u001B[49m\n",
      "Cell \u001B[0;32mIn[3], line 60\u001B[0m, in \u001B[0;36mSmartAssistant.start_conversation\u001B[0;34m(self)\u001B[0m\n\u001B[1;32m     58\u001B[0m \u001B[38;5;28;01mdef\u001B[39;00m\u001B[38;5;250m \u001B[39m\u001B[38;5;21mstart_conversation\u001B[39m(\u001B[38;5;28mself\u001B[39m):\n\u001B[1;32m     59\u001B[0m     \u001B[38;5;28;01mwhile\u001B[39;00m \u001B[38;5;28;01mTrue\u001B[39;00m:\n\u001B[0;32m---> 60\u001B[0m         user_input \u001B[38;5;241m=\u001B[39m \u001B[38;5;28;43minput\u001B[39;49m\u001B[43m(\u001B[49m\u001B[38;5;124;43m\"\u001B[39;49m\u001B[38;5;124;43mUser: \u001B[39;49m\u001B[38;5;124;43m\"\u001B[39;49m\u001B[43m)\u001B[49m\n\u001B[1;32m     61\u001B[0m         \u001B[38;5;28;01mif\u001B[39;00m user_input\u001B[38;5;241m.\u001B[39mlower() \u001B[38;5;129;01min\u001B[39;00m [\u001B[38;5;124m'\u001B[39m\u001B[38;5;124mexit\u001B[39m\u001B[38;5;124m'\u001B[39m, \u001B[38;5;124m'\u001B[39m\u001B[38;5;124mquit\u001B[39m\u001B[38;5;124m'\u001B[39m]:\n\u001B[1;32m     62\u001B[0m             \u001B[38;5;28mprint\u001B[39m(\u001B[38;5;124m\"\u001B[39m\u001B[38;5;124mExiting conversation.\u001B[39m\u001B[38;5;124m\"\u001B[39m)\n",
      "File \u001B[0;32m~/Code/glm-cookbook/venv/lib/python3.10/site-packages/ipykernel/kernelbase.py:1282\u001B[0m, in \u001B[0;36mKernel.raw_input\u001B[0;34m(self, prompt)\u001B[0m\n\u001B[1;32m   1280\u001B[0m     msg \u001B[38;5;241m=\u001B[39m \u001B[38;5;124m\"\u001B[39m\u001B[38;5;124mraw_input was called, but this frontend does not support input requests.\u001B[39m\u001B[38;5;124m\"\u001B[39m\n\u001B[1;32m   1281\u001B[0m     \u001B[38;5;28;01mraise\u001B[39;00m StdinNotImplementedError(msg)\n\u001B[0;32m-> 1282\u001B[0m \u001B[38;5;28;01mreturn\u001B[39;00m \u001B[38;5;28;43mself\u001B[39;49m\u001B[38;5;241;43m.\u001B[39;49m\u001B[43m_input_request\u001B[49m\u001B[43m(\u001B[49m\n\u001B[1;32m   1283\u001B[0m \u001B[43m    \u001B[49m\u001B[38;5;28;43mstr\u001B[39;49m\u001B[43m(\u001B[49m\u001B[43mprompt\u001B[49m\u001B[43m)\u001B[49m\u001B[43m,\u001B[49m\n\u001B[1;32m   1284\u001B[0m \u001B[43m    \u001B[49m\u001B[38;5;28;43mself\u001B[39;49m\u001B[38;5;241;43m.\u001B[39;49m\u001B[43m_parent_ident\u001B[49m\u001B[43m[\u001B[49m\u001B[38;5;124;43m\"\u001B[39;49m\u001B[38;5;124;43mshell\u001B[39;49m\u001B[38;5;124;43m\"\u001B[39;49m\u001B[43m]\u001B[49m\u001B[43m,\u001B[49m\n\u001B[1;32m   1285\u001B[0m \u001B[43m    \u001B[49m\u001B[38;5;28;43mself\u001B[39;49m\u001B[38;5;241;43m.\u001B[39;49m\u001B[43mget_parent\u001B[49m\u001B[43m(\u001B[49m\u001B[38;5;124;43m\"\u001B[39;49m\u001B[38;5;124;43mshell\u001B[39;49m\u001B[38;5;124;43m\"\u001B[39;49m\u001B[43m)\u001B[49m\u001B[43m,\u001B[49m\n\u001B[1;32m   1286\u001B[0m \u001B[43m    \u001B[49m\u001B[43mpassword\u001B[49m\u001B[38;5;241;43m=\u001B[39;49m\u001B[38;5;28;43;01mFalse\u001B[39;49;00m\u001B[43m,\u001B[49m\n\u001B[1;32m   1287\u001B[0m \u001B[43m\u001B[49m\u001B[43m)\u001B[49m\n",
      "File \u001B[0;32m~/Code/glm-cookbook/venv/lib/python3.10/site-packages/ipykernel/kernelbase.py:1325\u001B[0m, in \u001B[0;36mKernel._input_request\u001B[0;34m(self, prompt, ident, parent, password)\u001B[0m\n\u001B[1;32m   1322\u001B[0m \u001B[38;5;28;01mexcept\u001B[39;00m \u001B[38;5;167;01mKeyboardInterrupt\u001B[39;00m:\n\u001B[1;32m   1323\u001B[0m     \u001B[38;5;66;03m# re-raise KeyboardInterrupt, to truncate traceback\u001B[39;00m\n\u001B[1;32m   1324\u001B[0m     msg \u001B[38;5;241m=\u001B[39m \u001B[38;5;124m\"\u001B[39m\u001B[38;5;124mInterrupted by user\u001B[39m\u001B[38;5;124m\"\u001B[39m\n\u001B[0;32m-> 1325\u001B[0m     \u001B[38;5;28;01mraise\u001B[39;00m \u001B[38;5;167;01mKeyboardInterrupt\u001B[39;00m(msg) \u001B[38;5;28;01mfrom\u001B[39;00m\u001B[38;5;250m \u001B[39m\u001B[38;5;28;01mNone\u001B[39;00m\n\u001B[1;32m   1326\u001B[0m \u001B[38;5;28;01mexcept\u001B[39;00m \u001B[38;5;167;01mException\u001B[39;00m:\n\u001B[1;32m   1327\u001B[0m     \u001B[38;5;28mself\u001B[39m\u001B[38;5;241m.\u001B[39mlog\u001B[38;5;241m.\u001B[39mwarning(\u001B[38;5;124m\"\u001B[39m\u001B[38;5;124mInvalid Message:\u001B[39m\u001B[38;5;124m\"\u001B[39m, exc_info\u001B[38;5;241m=\u001B[39m\u001B[38;5;28;01mTrue\u001B[39;00m)\n",
      "\u001B[0;31mKeyboardInterrupt\u001B[0m: Interrupted by user"
     ]
    }
   ],
   "execution_count": 4
  },
  {
   "cell_type": "markdown",
   "source": [
    "## Reminder\n",
    "\n",
    "Here, I only used the simplest switching method to switch roles. In actual engineering, you should pay attention to these issues:\n",
    "1. Engineering construction in role switching\n",
    "2. History management\n",
    "3. This code does not involve tool calling. Otherwise, you would also need to design corresponding tools and Function Call functionality for different roles."
   ],
   "metadata": {
    "collapsed": false
   },
   "id": "595d8b4ec63eb9d1"
  }
 ],
 "metadata": {
  "kernelspec": {
   "display_name": "Python 3",
   "language": "python",
   "name": "python3"
  },
  "language_info": {
   "codemirror_mode": {
    "name": "ipython",
    "version": 2
   },
   "file_extension": ".py",
   "mimetype": "text/x-python",
   "name": "python",
   "nbconvert_exporter": "python",
   "pygments_lexer": "ipython2",
   "version": "2.7.6"
  }
 },
 "nbformat": 4,
 "nbformat_minor": 5
}
