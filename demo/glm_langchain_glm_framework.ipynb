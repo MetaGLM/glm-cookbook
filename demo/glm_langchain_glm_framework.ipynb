{
 "cells": [
  {
   "metadata": {},
   "cell_type": "markdown",
   "source": [
    "# 使用 langchain_glm 框架并利用 glm-4-alltools 模型\n",
    "**This tutorial is Only in Chinese explanation**\n",
    "\n",
    "[langchain_glm](https://github.com/MetaGLM/langchain-glm) 是智谱AI 推出的一个工具包，用于更好的利用好 GLM-4 All Tools能力并接入 LangChain框架的工具包。通过langchain的基础组件，实现了完整的支持智能体和相关任务架构。底层采用智谱AI的最新的 GLM-4 All Tools, 通过智谱AI的API接口， 能够自主理解用户的意图，规划复杂的指令，并能够调用一个或多个工具（例如网络浏览器、Python解释器和文本到图像模型）以完成复杂的任务。本教程将带领开发者使用 langchain_glm 框架，实现一个简单的工具链。\n"
   ],
   "id": "fd834870a9f19644"
  },
  {
   "metadata": {},
   "cell_type": "markdown",
   "source": [
    "## 1. 安装依赖\n",
    "\n",
    "首先，我们需要安装 langchain_glm 框架，在这里，我们使用pip进行安装。"
   ],
   "id": "25d5506462addc48"
  },
  {
   "metadata": {},
   "cell_type": "code",
   "outputs": [
    {
     "name": "stdout",
     "output_type": "stream",
     "text": [
      "Requirement already satisfied: langchain_glm in /Users/zr/Code/glm-cookbook/venv/lib/python3.9/site-packages (0.0.1)\r\n",
      "Requirement already satisfied: langchain==0.1.17 in /Users/zr/Code/glm-cookbook/venv/lib/python3.9/site-packages (from langchain_glm) (0.1.17)\r\n",
      "Requirement already satisfied: langchain-community==0.0.36 in /Users/zr/Code/glm-cookbook/venv/lib/python3.9/site-packages (from langchain_glm) (0.0.36)\r\n",
      "Requirement already satisfied: langchain-experimental==0.0.58 in /Users/zr/Code/glm-cookbook/venv/lib/python3.9/site-packages (from langchain_glm) (0.0.58)\r\n",
      "Requirement already satisfied: langchain-openai==0.0.6 in /Users/zr/Code/glm-cookbook/venv/lib/python3.9/site-packages (from langchain_glm) (0.0.6)\r\n",
      "Requirement already satisfied: langchainhub==0.1.14 in /Users/zr/Code/glm-cookbook/venv/lib/python3.9/site-packages (from langchain_glm) (0.1.14)\r\n",
      "Requirement already satisfied: zhipuai==2.1.0.20240521 in /Users/zr/Code/glm-cookbook/venv/lib/python3.9/site-packages (from langchain_glm) (2.1.0.20240521)\r\n",
      "Requirement already satisfied: PyYAML>=5.3 in /Users/zr/Code/glm-cookbook/venv/lib/python3.9/site-packages (from langchain==0.1.17->langchain_glm) (6.0.1)\r\n",
      "Requirement already satisfied: SQLAlchemy<3,>=1.4 in /Users/zr/Code/glm-cookbook/venv/lib/python3.9/site-packages (from langchain==0.1.17->langchain_glm) (2.0.25)\r\n",
      "Requirement already satisfied: aiohttp<4.0.0,>=3.8.3 in /Users/zr/Code/glm-cookbook/venv/lib/python3.9/site-packages (from langchain==0.1.17->langchain_glm) (3.9.3)\r\n",
      "Requirement already satisfied: async-timeout<5.0.0,>=4.0.0 in /Users/zr/Code/glm-cookbook/venv/lib/python3.9/site-packages (from langchain==0.1.17->langchain_glm) (4.0.3)\r\n",
      "Requirement already satisfied: dataclasses-json<0.7,>=0.5.7 in /Users/zr/Code/glm-cookbook/venv/lib/python3.9/site-packages (from langchain==0.1.17->langchain_glm) (0.6.3)\r\n",
      "Requirement already satisfied: jsonpatch<2.0,>=1.33 in /Users/zr/Code/glm-cookbook/venv/lib/python3.9/site-packages (from langchain==0.1.17->langchain_glm) (1.33)\r\n",
      "Requirement already satisfied: langchain-core<0.2.0,>=0.1.48 in /Users/zr/Code/glm-cookbook/venv/lib/python3.9/site-packages (from langchain==0.1.17->langchain_glm) (0.1.52)\r\n",
      "Requirement already satisfied: langchain-text-splitters<0.1,>=0.0.1 in /Users/zr/Code/glm-cookbook/venv/lib/python3.9/site-packages (from langchain==0.1.17->langchain_glm) (0.0.2)\r\n",
      "Requirement already satisfied: langsmith<0.2.0,>=0.1.17 in /Users/zr/Code/glm-cookbook/venv/lib/python3.9/site-packages (from langchain==0.1.17->langchain_glm) (0.1.40)\r\n",
      "Requirement already satisfied: numpy<2,>=1 in /Users/zr/Code/glm-cookbook/venv/lib/python3.9/site-packages (from langchain==0.1.17->langchain_glm) (1.26.3)\r\n",
      "Requirement already satisfied: pydantic<3,>=1 in /Users/zr/Code/glm-cookbook/venv/lib/python3.9/site-packages (from langchain==0.1.17->langchain_glm) (2.5.3)\r\n",
      "Requirement already satisfied: requests<3,>=2 in /Users/zr/Code/glm-cookbook/venv/lib/python3.9/site-packages (from langchain==0.1.17->langchain_glm) (2.31.0)\r\n",
      "Requirement already satisfied: tenacity<9.0.0,>=8.1.0 in /Users/zr/Code/glm-cookbook/venv/lib/python3.9/site-packages (from langchain==0.1.17->langchain_glm) (8.2.3)\r\n",
      "Requirement already satisfied: openai<2.0.0,>=1.10.0 in /Users/zr/Code/glm-cookbook/venv/lib/python3.9/site-packages (from langchain-openai==0.0.6->langchain_glm) (1.32.0)\r\n",
      "Requirement already satisfied: tiktoken<1,>=0.5.2 in /Users/zr/Code/glm-cookbook/venv/lib/python3.9/site-packages (from langchain-openai==0.0.6->langchain_glm) (0.5.2)\r\n",
      "Requirement already satisfied: types-requests<3.0.0.0,>=2.31.0.2 in /Users/zr/Code/glm-cookbook/venv/lib/python3.9/site-packages (from langchainhub==0.1.14->langchain_glm) (2.31.0.20240125)\r\n",
      "Requirement already satisfied: cachetools>=4.2.2 in /Users/zr/Code/glm-cookbook/venv/lib/python3.9/site-packages (from zhipuai==2.1.0.20240521->langchain_glm) (5.3.2)\r\n",
      "Requirement already satisfied: httpx>=0.23.0 in /Users/zr/Code/glm-cookbook/venv/lib/python3.9/site-packages (from zhipuai==2.1.0.20240521->langchain_glm) (0.27.0)\r\n",
      "Requirement already satisfied: pyjwt<2.9.0,>=2.8.0 in /Users/zr/Code/glm-cookbook/venv/lib/python3.9/site-packages (from zhipuai==2.1.0.20240521->langchain_glm) (2.8.0)\r\n",
      "Requirement already satisfied: aiosignal>=1.1.2 in /Users/zr/Code/glm-cookbook/venv/lib/python3.9/site-packages (from aiohttp<4.0.0,>=3.8.3->langchain==0.1.17->langchain_glm) (1.3.1)\r\n",
      "Requirement already satisfied: attrs>=17.3.0 in /Users/zr/Code/glm-cookbook/venv/lib/python3.9/site-packages (from aiohttp<4.0.0,>=3.8.3->langchain==0.1.17->langchain_glm) (23.2.0)\r\n",
      "Requirement already satisfied: frozenlist>=1.1.1 in /Users/zr/Code/glm-cookbook/venv/lib/python3.9/site-packages (from aiohttp<4.0.0,>=3.8.3->langchain==0.1.17->langchain_glm) (1.4.1)\r\n",
      "Requirement already satisfied: multidict<7.0,>=4.5 in /Users/zr/Code/glm-cookbook/venv/lib/python3.9/site-packages (from aiohttp<4.0.0,>=3.8.3->langchain==0.1.17->langchain_glm) (6.0.4)\r\n",
      "Requirement already satisfied: yarl<2.0,>=1.0 in /Users/zr/Code/glm-cookbook/venv/lib/python3.9/site-packages (from aiohttp<4.0.0,>=3.8.3->langchain==0.1.17->langchain_glm) (1.9.4)\r\n",
      "Requirement already satisfied: marshmallow<4.0.0,>=3.18.0 in /Users/zr/Code/glm-cookbook/venv/lib/python3.9/site-packages (from dataclasses-json<0.7,>=0.5.7->langchain==0.1.17->langchain_glm) (3.20.2)\r\n",
      "Requirement already satisfied: typing-inspect<1,>=0.4.0 in /Users/zr/Code/glm-cookbook/venv/lib/python3.9/site-packages (from dataclasses-json<0.7,>=0.5.7->langchain==0.1.17->langchain_glm) (0.9.0)\r\n",
      "Requirement already satisfied: anyio in /Users/zr/Code/glm-cookbook/venv/lib/python3.9/site-packages (from httpx>=0.23.0->zhipuai==2.1.0.20240521->langchain_glm) (4.2.0)\r\n",
      "Requirement already satisfied: certifi in /Users/zr/Code/glm-cookbook/venv/lib/python3.9/site-packages (from httpx>=0.23.0->zhipuai==2.1.0.20240521->langchain_glm) (2023.11.17)\r\n",
      "Requirement already satisfied: httpcore==1.* in /Users/zr/Code/glm-cookbook/venv/lib/python3.9/site-packages (from httpx>=0.23.0->zhipuai==2.1.0.20240521->langchain_glm) (1.0.5)\r\n",
      "Requirement already satisfied: idna in /Users/zr/Code/glm-cookbook/venv/lib/python3.9/site-packages (from httpx>=0.23.0->zhipuai==2.1.0.20240521->langchain_glm) (3.6)\r\n",
      "Requirement already satisfied: sniffio in /Users/zr/Code/glm-cookbook/venv/lib/python3.9/site-packages (from httpx>=0.23.0->zhipuai==2.1.0.20240521->langchain_glm) (1.3.0)\r\n",
      "Requirement already satisfied: h11<0.15,>=0.13 in /Users/zr/Code/glm-cookbook/venv/lib/python3.9/site-packages (from httpcore==1.*->httpx>=0.23.0->zhipuai==2.1.0.20240521->langchain_glm) (0.14.0)\r\n",
      "Requirement already satisfied: jsonpointer>=1.9 in /Users/zr/Code/glm-cookbook/venv/lib/python3.9/site-packages (from jsonpatch<2.0,>=1.33->langchain==0.1.17->langchain_glm) (2.4)\r\n",
      "Requirement already satisfied: packaging<24.0,>=23.2 in /Users/zr/Code/glm-cookbook/venv/lib/python3.9/site-packages (from langchain-core<0.2.0,>=0.1.48->langchain==0.1.17->langchain_glm) (23.2)\r\n",
      "Requirement already satisfied: orjson<4.0.0,>=3.9.14 in /Users/zr/Code/glm-cookbook/venv/lib/python3.9/site-packages (from langsmith<0.2.0,>=0.1.17->langchain==0.1.17->langchain_glm) (3.10.0)\r\n",
      "Requirement already satisfied: distro<2,>=1.7.0 in /Users/zr/Code/glm-cookbook/venv/lib/python3.9/site-packages (from openai<2.0.0,>=1.10.0->langchain-openai==0.0.6->langchain_glm) (1.9.0)\r\n",
      "Requirement already satisfied: tqdm>4 in /Users/zr/Code/glm-cookbook/venv/lib/python3.9/site-packages (from openai<2.0.0,>=1.10.0->langchain-openai==0.0.6->langchain_glm) (4.66.1)\r\n",
      "Requirement already satisfied: typing-extensions<5,>=4.7 in /Users/zr/Code/glm-cookbook/venv/lib/python3.9/site-packages (from openai<2.0.0,>=1.10.0->langchain-openai==0.0.6->langchain_glm) (4.9.0)\r\n",
      "Requirement already satisfied: annotated-types>=0.4.0 in /Users/zr/Code/glm-cookbook/venv/lib/python3.9/site-packages (from pydantic<3,>=1->langchain==0.1.17->langchain_glm) (0.6.0)\r\n",
      "Requirement already satisfied: pydantic-core==2.14.6 in /Users/zr/Code/glm-cookbook/venv/lib/python3.9/site-packages (from pydantic<3,>=1->langchain==0.1.17->langchain_glm) (2.14.6)\r\n",
      "Requirement already satisfied: charset-normalizer<4,>=2 in /Users/zr/Code/glm-cookbook/venv/lib/python3.9/site-packages (from requests<3,>=2->langchain==0.1.17->langchain_glm) (3.3.2)\r\n",
      "Requirement already satisfied: urllib3<3,>=1.21.1 in /Users/zr/Code/glm-cookbook/venv/lib/python3.9/site-packages (from requests<3,>=2->langchain==0.1.17->langchain_glm) (2.2.0)\r\n",
      "Requirement already satisfied: regex>=2022.1.18 in /Users/zr/Code/glm-cookbook/venv/lib/python3.9/site-packages (from tiktoken<1,>=0.5.2->langchain-openai==0.0.6->langchain_glm) (2023.12.25)\r\n",
      "Requirement already satisfied: exceptiongroup>=1.0.2 in /Users/zr/Code/glm-cookbook/venv/lib/python3.9/site-packages (from anyio->httpx>=0.23.0->zhipuai==2.1.0.20240521->langchain_glm) (1.2.0)\r\n",
      "Requirement already satisfied: mypy-extensions>=0.3.0 in /Users/zr/Code/glm-cookbook/venv/lib/python3.9/site-packages (from typing-inspect<1,>=0.4.0->dataclasses-json<0.7,>=0.5.7->langchain==0.1.17->langchain_glm) (1.0.0)\r\n",
      "\u001B[33mWARNING: Error parsing dependencies of textract: .* suffix can only be used with `==` or `!=` operators\r\n",
      "    extract-msg (<=0.29.*)\r\n",
      "                 ~~~~~~~^\u001B[0m\u001B[33m\r\n",
      "\u001B[0m"
     ]
    }
   ],
   "execution_count": 1,
   "source": "!pip install langchain_glm langchain",
   "id": "2f94febd1d78922c"
  },
  {
   "metadata": {},
   "cell_type": "markdown",
   "source": [
    "## 2. 初始化\n",
    "\n",
    "在这里，我们初始化一个 ChatZhipuAI 对象，用于调用智谱AI的GLM-4模型。您需要在这里填入您的 API_KEY。在这里，您可以选择智谱AI的任何一个模型，例如 glm-4-0520。"
   ],
   "id": "a0ac25e670e4b90d"
  },
  {
   "metadata": {},
   "cell_type": "code",
   "outputs": [],
   "execution_count": null,
   "source": [
    "import os\n",
    "\n",
    "os.environ[\"ZHIPUAI_API_KEY\"] = \"your api key\"\n",
    "from langchain_glm import ChatZhipuAI\n",
    "\n",
    "llm = ChatZhipuAI(model=\"glm-4-0520\")"
   ],
   "id": "376f008fbe1ca02b"
  },
  {
   "metadata": {},
   "cell_type": "markdown",
   "source": [
    "## 3. 创建工具\n",
    "\n",
    "在这里，我们创建一些工具，用于后续的工具链调用。这里只使用了最简单的例子，构建了三个工具，分别用于相乘、相加和求幂。"
   ],
   "id": "7587ab159b1f10b"
  },
  {
   "metadata": {},
   "cell_type": "code",
   "outputs": [],
   "execution_count": 3,
   "source": [
    "from langchain_core.tools import tool\n",
    "\n",
    "\n",
    "@tool\n",
    "def multiply(first_int: int, second_int: int) -> int:\n",
    "    \"\"\"Multiply two integers together.\"\"\"\n",
    "    return first_int * second_int\n",
    "\n",
    "\n",
    "@tool\n",
    "def add(first_int: int, second_int: int) -> int:\n",
    "    \"Add two integers.\"\n",
    "    return first_int + second_int\n",
    "\n",
    "\n",
    "@tool\n",
    "def exponentiate(base: int, exponent: int) -> int:\n",
    "    \"Exponentiate the base to the exponent power.\"\n",
    "    return base ** exponent"
   ],
   "id": "d8693173985c2ce4"
  },
  {
   "metadata": {},
   "cell_type": "markdown",
   "source": [
    "## 4. 创建工具链\n",
    "\n",
    "在这里，我们将工具链和工具绑定在一起，然后创建一个简单的工具链，用于调用工具。"
   ],
   "id": "26ed6d06a5e8a010"
  },
  {
   "metadata": {
    "ExecuteTime": {
     "end_time": "2024-07-13T11:12:37.970496Z",
     "start_time": "2024-07-13T11:12:37.887856Z"
    }
   },
   "cell_type": "code",
   "source": [
    "from langchain_core.messages import AIMessage\n",
    "from langchain_core.runnables import Runnable\n",
    "\n",
    "tools = [multiply, exponentiate, add]\n",
    "llm_with_tools = llm.bind_tools(tools)\n",
    "tool_map = {tool.name: tool for tool in tools}\n",
    "\n",
    "\n",
    "def call_tools(msg: AIMessage) -> Runnable:\n",
    "    \"\"\"Simple sequential tool calling helper.\"\"\"\n",
    "    tool_map = {tool.name: tool for tool in tools}\n",
    "    tool_calls = msg.tool_calls.copy()\n",
    "    for tool_call in tool_calls:\n",
    "        tool_call[\"output\"] = tool_map[tool_call[\"name\"]].invoke(tool_call[\"args\"])\n",
    "    return tool_calls\n",
    "\n",
    "\n",
    "chain = llm_with_tools | call_tools"
   ],
   "id": "15c53d262ff112d2",
   "outputs": [],
   "execution_count": 4
  },
  {
   "metadata": {
    "ExecuteTime": {
     "end_time": "2024-07-13T11:12:39.035861Z",
     "start_time": "2024-07-13T11:12:37.972114Z"
    }
   },
   "cell_type": "code",
   "source": [
    "chain.invoke(\n",
    "    \"What's 23 times 7, and what's five times 18 and add a million plus a billion and cube thirty-seven\"\n",
    ")"
   ],
   "id": "4512e2831520927c",
   "outputs": [
    {
     "data": {
      "text/plain": [
       "[{'name': 'multiply',\n",
       "  'args': {'first_int': 23, 'second_int': 7},\n",
       "  'id': 'call_20240713191238c7f4b21cd22e4b759710754d08ee755c',\n",
       "  'output': 161}]"
      ]
     },
     "execution_count": 5,
     "metadata": {},
     "output_type": "execute_result"
    }
   ],
   "execution_count": 5
  },
  {
   "metadata": {},
   "cell_type": "markdown",
   "source": [
    "## 5. 使用 langchain_glm 框架\n",
    "\n",
    "在这里，我们使用 langchain_glm 框架，实现一个简单的工具链。首先，我们需要创建一个智能体执行器，然后调用智能体执行器的invoke方法，传入一个字符串，用于调用智能体。\n",
    "需要注意的是，在这里，您必须使用 `glm-4-alltools` 模型，因为 langchain_glm 框架只支持 GLM-4 All Tools模型\n",
    "(有且仅有该模型支持工具构建和自动执行的能力,剩下的模型仅能完成工具调用)。\n"
   ],
   "id": "b8b5ba11771b9042"
  },
  {
   "metadata": {
    "ExecuteTime": {
     "end_time": "2024-07-13T11:12:41.998336Z",
     "start_time": "2024-07-13T11:12:39.037675Z"
    }
   },
   "cell_type": "code",
   "source": [
    "from langchain_glm.agents.zhipuai_all_tools import ZhipuAIAllToolsRunnable\n",
    "\n",
    "agent_executor = ZhipuAIAllToolsRunnable.create_agent_executor(\n",
    "    model_name=\"glm-4-alltools\",\n",
    "    tools=[\n",
    "        {\"type\": \"code_interpreter\", \"code_interpreter\": {\"sandbox\": \"none\"}},\n",
    "        {\"type\": \"web_browser\"},\n",
    "        {\"type\": \"drawing_tool\"},\n",
    "        multiply, exponentiate, add\n",
    "    ],\n",
    ")\n"
   ],
   "id": "b42194280272cf61",
   "outputs": [],
   "execution_count": 6
  },
  {
   "metadata": {},
   "cell_type": "markdown",
   "source": [
    "## 6. 调用智能体\n",
    "\n",
    "模型会根据输入，自行构建和调用工具链，然后返回结果。"
   ],
   "id": "cd057c0d4061ecdd"
  },
  {
   "metadata": {
    "ExecuteTime": {
     "end_time": "2024-07-13T11:12:47.511342Z",
     "start_time": "2024-07-13T11:12:41.999954Z"
    }
   },
   "cell_type": "code",
   "source": [
    "from langchain_glm.agents.zhipuai_all_tools.base import (\n",
    "    AllToolsAction,\n",
    "    AllToolsActionToolEnd,\n",
    "    AllToolsActionToolStart,\n",
    "    AllToolsFinish,\n",
    "    AllToolsLLMStatus\n",
    ")\n",
    "from langchain_glm.callbacks.agent_callback_handler import AgentStatus\n",
    "\n",
    "chat_iterator = agent_executor.invoke(\n",
    "    chat_input=\"看下本地文件有哪些，告诉我你用的是什么文件,查看当前目录\"\n",
    ")\n",
    "async for item in chat_iterator:\n",
    "    if isinstance(item, AllToolsAction):\n",
    "        print(\"AllToolsAction:\" + str(item.to_json()))\n",
    "    elif isinstance(item, AllToolsFinish):\n",
    "        print(\"AllToolsFinish:\" + str(item.to_json()))\n",
    "    elif isinstance(item, AllToolsActionToolStart):\n",
    "        print(\"AllToolsActionToolStart:\" + str(item.to_json()))\n",
    "    elif isinstance(item, AllToolsActionToolEnd):\n",
    "        print(\"AllToolsActionToolEnd:\" + str(item.to_json()))\n",
    "    elif isinstance(item, AllToolsLLMStatus):\n",
    "        if item.status == AgentStatus.llm_end:\n",
    "            print(\"llm_end:\" + item.text)"
   ],
   "id": "f9b4e1260f026c66",
   "outputs": [
    {
     "name": "stdout",
     "output_type": "stream",
     "text": [
      "\n",
      "\n",
      "\u001B[1m> Entering new ZhipuAiAllToolsAgentExecutor chain...\u001B[0m\n",
      "llm_end:好的，我将列出当前目录下所有的文件。抱歉，我无法直接查看您本地文件系统的内容。如果您需要查看当前目录下的文件，您可以使用命令行工具，例如在Linux系统中使用`ls`命令，在Windows系统中使用`dir`命令。这些命令会列出当前目录下的所有文件和文件夹。如果您需要进一步的帮助，请提供具体的操作系统信息。\n",
      "\u001B[32;1m\u001B[1;3msearch(\"当前目录下的文件\")\r\n",
      "title:在Linux中，如何查看当前目录下的文件和文件夹？ - 黄嘉波 ...\n",
      "link:https://www.cnblogs.com/huangjiabobk/p/18152538\n",
      "content:ls 是最基本也是最常用的命令，用于列出当前目录下的文件和文件夹。 基本用法 ： ls. 长格式列出 （显示文件权限、所有者、大小和最后修改时间）： ls -l. 按时间排序 （由新到旧）： ls -lt. 按时间排序 （由旧到新）： ls -ltr. 显示隐藏文件 （以点开头的文件）： ls -a. 2. echo 命令. echo 命令通常用于显示文本，但也可以与文件结合使用来显示当前目录的内容。 列出当前目录的文件和文件夹 ： echo * 3. find 命令. find 命令可以用来查找并显示当前目录及其子目录下的所有文件和文件夹。 列出当前目录的内容 ： find . 4. tree 命令.\n",
      "title:Linux ls 命令 - 菜鸟教程\n",
      "link:https://www.runoob.com/linux/linux-comm-ls.html\n",
      "content:Linux ls （英文全拼： list directory contents）命令用于显示指定工作目录下之内容（列出目前工作目录所含的文件及子目录)。\n",
      "title:Linux中，显示当前目录位置、列出当前目录下的目录和文件 ...\n",
      "link:https://blog.csdn.net/qq_46357586/article/details/104565588\n",
      "content:一.显示当前目录位置. pwd. 二.列出当前目录下的目录和文件. ls --help：得到所有关于ls的命令. 三.切换或进入目录命令. 进入根目录： cd / 目前所在目录： cd . 返回上一层: cd .. 返回上两层: cd ../.. 进入当前目录父目录的***目录： cd ../*** 进入root的根目录： cd ~=cd /root. 注意空格不得省略！ 文章浏览阅读2.5w次，点赞9次，收藏18次。\n",
      "title:Windows10在cmd目录查看当前目录下的文件（命令：dir ...\n",
      "link:https://blog.csdn.net/naibozhuan3744/article/details/80500282\n",
      "content:入上所述，在Windows系统的cmd中，要显示当前目录下的所有文件，只需要敲入命令 dir 就行，这条命令相当于linux系统下的命令 ls 。 参考内容： https://jingyan.baidu.com/article/215817f7e5f9b71eda1423f9.html. 三公子Tjq. 关注. 18. 24. 0. 专栏目录. DOS 命令 ： dir 获取 文件 夹下所有 文件 名. chicha8453的博客. 6586. 刚刚使用了一下 dir命令 输出 当前目录 下左右子 文件 名称： dir /s/b > files.txt 显示目录 中的 文件 和子 目录 列表。\n",
      "title:windows 技术篇 - cmd命令查看当前目录下的所有文件和 ...\n",
      "link:https://blog.csdn.net/qq_38161040/article/details/118498697\n",
      "content:dir /b /s 可以查看当前路径下的所有文件和文件夹以及子目录下的文件。 这是目录，直接在路径里输入 cmd 回车可以进入 cmd 的该路径下。 dir 的使用方法如下，cmd 里可以直接通过 help dir 来查看：_windows脚本访问文件夹及子文件夹\n",
      "title:Linux LS 命令——如何列出目录中的文件 + 选项标志 ...\n",
      "link:https://www.freecodecamp.org/chinese/news/the-linux-ls-command-how-to-list-files-in-a-directory-with-option/\n",
      "content:ls 命令用于在 Linux 和其他基于 Unix 的操作系统中列出文件或目录。 就像使用 GUI 在 文件浏览器 或 文件夹 中导航一样，默认情况下， ls 命令可以列出当前目录中的所有文件或目录，并通过命令行进一步操作它们。 启动终端并输入 ls 以查看实际效果：\n",
      "title:Linux ls命令：查看目录下文件\n",
      "link:https://c.biancheng.net/view/721.html\n",
      "content:ls 命令，list 的缩写，是最常见的目录操作命令，其主要功能是显示当前目录下的内容。 此命令的基本格式为： [root@localhost ~]# ls [选项] 目录名称. 表 1 列出了 ls 命令常用的选项以及各自的功能。 注意，当 ls 命令不使用任何选项时，默认只会显示非隐藏文件的名称，并以文件名进行排序，同时会根据文件的具体类型给文件名配色（蓝色显示目录，白色显示一般文件）。 除此之外，如果想使用 ls 命令显示更多内容，就需要使用表 1 相应的选项。 【例 1】\n",
      "title:Linux 文件管理 - ls - 列出目录列表或文件列表 - 《Linux ...\n",
      "link:https://geekdaxue.co/read/lwmacct@linux/ls\n",
      "content:ls 命令是一个经常用到的文件管理器，用于显示当前目录中文件和文件夹的列表。 它支持多种参数，可以按照文件的类型，大小，权限，时间戳等属性显示文件信息。\n",
      "title:Linux 查找当前目录下 包含特定字符串 的所有文件 - 龙凌云端 ...\n",
      "link:https://www.cnblogs.com/miracle-luna/p/11037614.html\n",
      "content:Linux 查找当前目录下 包含特定字符串 的所有文件. 使用 Linux 经常会遇到这种情况：只知道文件中包含某些特定的字符串，但是不知道具体的文件名。. 需要根据“特定的字符串”反向查找文件。. 示例 （路径文件如下）：. ./miracle/luna/a.txt. a.txt 文件中的 ...\n",
      "title:Linux find 命令 - 菜鸟教程\n",
      "link:https://www.runoob.com/linux/linux-comm-find.html\n",
      "content:查找当前目录中文件属主具有读、写权限，并且文件所属组的用户和其他用户具有读权限的文件：. 查找系统中所有文件长度为 0 的普通文件，并列出它们的完整路径：. 找并执行操作（例如删除）：. find /path/to/search -name - rm {} \\; 这个例子中， -exec 选项允许你 ...\u001B[0mAllToolsAction:{\"run_id\": \"29ac2db4-56dd-4f33-af37-3319d19eb0a7\", \"status\": 4, \"tool\": \"web_browser\", \"tool_input\": \"search(\\\"当前目录下的文件\\\")\", \"log\": \"search(\\\"当前目录下的文件\\\")\\r\\ntitle:在Linux中，如何查看当前目录下的文件和文件夹？ - 黄嘉波 ...\\nlink:https://www.cnblogs.com/huangjiabobk/p/18152538\\ncontent:ls 是最基本也是最常用的命令，用于列出当前目录下的文件和文件夹。 基本用法 ： ls. 长格式列出 （显示文件权限、所有者、大小和最后修改时间）： ls -l. 按时间排序 （由新到旧）： ls -lt. 按时间排序 （由旧到新）： ls -ltr. 显示隐藏文件 （以点开头的文件）： ls -a. 2. echo 命令. echo 命令通常用于显示文本，但也可以与文件结合使用来显示当前目录的内容。 列出当前目录的文件和文件夹 ： echo * 3. find 命令. find 命令可以用来查找并显示当前目录及其子目录下的所有文件和文件夹。 列出当前目录的内容 ： find . 4. tree 命令.\\ntitle:Linux ls 命令 - 菜鸟教程\\nlink:https://www.runoob.com/linux/linux-comm-ls.html\\ncontent:Linux ls （英文全拼： list directory contents）命令用于显示指定工作目录下之内容（列出目前工作目录所含的文件及子目录)。\\ntitle:Linux中，显示当前目录位置、列出当前目录下的目录和文件 ...\\nlink:https://blog.csdn.net/qq_46357586/article/details/104565588\\ncontent:一.显示当前目录位置. pwd. 二.列出当前目录下的目录和文件. ls --help：得到所有关于ls的命令. 三.切换或进入目录命令. 进入根目录： cd / 目前所在目录： cd . 返回上一层: cd .. 返回上两层: cd ../.. 进入当前目录父目录的***目录： cd ../*** 进入root的根目录： cd ~=cd /root. 注意空格不得省略！ 文章浏览阅读2.5w次，点赞9次，收藏18次。\\ntitle:Windows10在cmd目录查看当前目录下的文件（命令：dir ...\\nlink:https://blog.csdn.net/naibozhuan3744/article/details/80500282\\ncontent:入上所述，在Windows系统的cmd中，要显示当前目录下的所有文件，只需要敲入命令 dir 就行，这条命令相当于linux系统下的命令 ls 。 参考内容： https://jingyan.baidu.com/article/215817f7e5f9b71eda1423f9.html. 三公子Tjq. 关注. 18. 24. 0. 专栏目录. DOS 命令 ： dir 获取 文件 夹下所有 文件 名. chicha8453的博客. 6586. 刚刚使用了一下 dir命令 输出 当前目录 下左右子 文件 名称： dir /s/b > files.txt 显示目录 中的 文件 和子 目录 列表。\\ntitle:windows 技术篇 - cmd命令查看当前目录下的所有文件和 ...\\nlink:https://blog.csdn.net/qq_38161040/article/details/118498697\\ncontent:dir /b /s 可以查看当前路径下的所有文件和文件夹以及子目录下的文件。 这是目录，直接在路径里输入 cmd 回车可以进入 cmd 的该路径下。 dir 的使用方法如下，cmd 里可以直接通过 help dir 来查看：_windows脚本访问文件夹及子文件夹\\ntitle:Linux LS 命令——如何列出目录中的文件 + 选项标志 ...\\nlink:https://www.freecodecamp.org/chinese/news/the-linux-ls-command-how-to-list-files-in-a-directory-with-option/\\ncontent:ls 命令用于在 Linux 和其他基于 Unix 的操作系统中列出文件或目录。 就像使用 GUI 在 文件浏览器 或 文件夹 中导航一样，默认情况下， ls 命令可以列出当前目录中的所有文件或目录，并通过命令行进一步操作它们。 启动终端并输入 ls 以查看实际效果：\\ntitle:Linux ls命令：查看目录下文件\\nlink:https://c.biancheng.net/view/721.html\\ncontent:ls 命令，list 的缩写，是最常见的目录操作命令，其主要功能是显示当前目录下的内容。 此命令的基本格式为： [root@localhost ~]# ls [选项] 目录名称. 表 1 列出了 ls 命令常用的选项以及各自的功能。 注意，当 ls 命令不使用任何选项时，默认只会显示非隐藏文件的名称，并以文件名进行排序，同时会根据文件的具体类型给文件名配色（蓝色显示目录，白色显示一般文件）。 除此之外，如果想使用 ls 命令显示更多内容，就需要使用表 1 相应的选项。 【例 1】\\ntitle:Linux 文件管理 - ls - 列出目录列表或文件列表 - 《Linux ...\\nlink:https://geekdaxue.co/read/lwmacct@linux/ls\\ncontent:ls 命令是一个经常用到的文件管理器，用于显示当前目录中文件和文件夹的列表。 它支持多种参数，可以按照文件的类型，大小，权限，时间戳等属性显示文件信息。\\ntitle:Linux 查找当前目录下 包含特定字符串 的所有文件 - 龙凌云端 ...\\nlink:https://www.cnblogs.com/miracle-luna/p/11037614.html\\ncontent:Linux 查找当前目录下 包含特定字符串 的所有文件. 使用 Linux 经常会遇到这种情况：只知道文件中包含某些特定的字符串，但是不知道具体的文件名。. 需要根据“特定的字符串”反向查找文件。. 示例 （路径文件如下）：. ./miracle/luna/a.txt. a.txt 文件中的 ...\\ntitle:Linux find 命令 - 菜鸟教程\\nlink:https://www.runoob.com/linux/linux-comm-find.html\\ncontent:查找当前目录中文件属主具有读、写权限，并且文件所属组的用户和其他用户具有读权限的文件：. 查找系统中所有文件长度为 0 的普通文件，并列出它们的完整路径：. 找并执行操作（例如删除）：. find /path/to/search -name - rm {} \\\\; 这个例子中， -exec 选项允许你 ...\", \"class_name\": \"AllToolsAction\"}\n",
      "AllToolsActionToolStart:{\"run_id\": \"40348172-f2a1-4638-9ff7-1d962700cb09\", \"status\": 6, \"tool\": \"web_browser\", \"tool_input\": \"{'agent_action': WebBrowserAgentAction(tool='web_browser', tool_input='search(\\\"当前目录下的文件\\\")', log='search(\\\"当前目录下的文件\\\")\\\\r\\\\ntitle:在Linux中，如何查看当前目录下的文件和文件夹？ - 黄嘉波 ...\\\\nlink:https://www.cnblogs.com/huangjiabobk/p/18152538\\\\ncontent:ls 是最基本也是最常用的命令，用于列出当前目录下的文件和文件夹。 基本用法 ： ls. 长格式列出 （显示文件权限、所有者、大小和最后修改时间）： ls -l. 按时间排序 （由新到旧）： ls -lt. 按时间排序 （由旧到新）： ls -ltr. 显示隐藏文件 （以点开头的文件）： ls -a. 2. echo 命令. echo 命令通常用于显示文本，但也可以与文件结合使用来显示当前目录的内容。 列出当前目录的文件和文件夹 ： echo * 3. find 命令. find 命令可以用来查找并显示当前目录及其子目录下的所有文件和文件夹。 列出当前目录的内容 ： find . 4. tree 命令.\\\\ntitle:Linux ls 命令 - 菜鸟教程\\\\nlink:https://www.runoob.com/linux/linux-comm-ls.html\\\\ncontent:Linux ls （英文全拼： list directory contents）命令用于显示指定工作目录下之内容（列出目前工作目录所含的文件及子目录)。\\\\ntitle:Linux中，显示当前目录位置、列出当前目录下的目录和文件 ...\\\\nlink:https://blog.csdn.net/qq_46357586/article/details/104565588\\\\ncontent:一.显示当前目录位置. pwd. 二.列出当前目录下的目录和文件. ls --help：得到所有关于ls的命令. 三.切换或进入目录命令. 进入根目录： cd / 目前所在目录： cd . 返回上一层: cd .. 返回上两层: cd ../.. 进入当前目录父目录的***目录： cd ../*** 进入root的根目录： cd ~=cd /root. 注意空格不得省略！ 文章浏览阅读2.5w次，点赞9次，收藏18次。\\\\ntitle:Windows10在cmd目录查看当前目录下的文件（命令：dir ...\\\\nlink:https://blog.csdn.net/naibozhuan3744/article/details/80500282\\\\ncontent:入上所述，在Windows系统的cmd中，要显示当前目录下的所有文件，只需要敲入命令 dir 就行，这条命令相当于linux系统下的命令 ls 。 参考内容： https://jingyan.baidu.com/article/215817f7e5f9b71eda1423f9.html. 三公子Tjq. 关注. 18. 24. 0. 专栏目录. DOS 命令 ： dir 获取 文件 夹下所有 文件 名. chicha8453的博客. 6586. 刚刚使用了一下 dir命令 输出 当前目录 下左右子 文件 名称： dir /s/b > files.txt 显示目录 中的 文件 和子 目录 列表。\\\\ntitle:windows 技术篇 - cmd命令查看当前目录下的所有文件和 ...\\\\nlink:https://blog.csdn.net/qq_38161040/article/details/118498697\\\\ncontent:dir /b /s 可以查看当前路径下的所有文件和文件夹以及子目录下的文件。 这是目录，直接在路径里输入 cmd 回车可以进入 cmd 的该路径下。 dir 的使用方法如下，cmd 里可以直接通过 help dir 来查看：_windows脚本访问文件夹及子文件夹\\\\ntitle:Linux LS 命令——如何列出目录中的文件 + 选项标志 ...\\\\nlink:https://www.freecodecamp.org/chinese/news/the-linux-ls-command-how-to-list-files-in-a-directory-with-option/\\\\ncontent:ls 命令用于在 Linux 和其他基于 Unix 的操作系统中列出文件或目录。 就像使用 GUI 在 文件浏览器 或 文件夹 中导航一样，默认情况下， ls 命令可以列出当前目录中的所有文件或目录，并通过命令行进一步操作它们。 启动终端并输入 ls 以查看实际效果：\\\\ntitle:Linux ls命令：查看目录下文件\\\\nlink:https://c.biancheng.net/view/721.html\\\\ncontent:ls 命令，list 的缩写，是最常见的目录操作命令，其主要功能是显示当前目录下的内容。 此命令的基本格式为： [root@localhost ~]# ls [选项] 目录名称. 表 1 列出了 ls 命令常用的选项以及各自的功能。 注意，当 ls 命令不使用任何选项时，默认只会显示非隐藏文件的名称，并以文件名进行排序，同时会根据文件的具体类型给文件名配色（蓝色显示目录，白色显示一般文件）。 除此之外，如果想使用 ls 命令显示更多内容，就需要使用表 1 相应的选项。 【例 1】\\\\ntitle:Linux 文件管理 - ls - 列出目录列表或文件列表 - 《Linux ...\\\\nlink:https://geekdaxue.co/read/lwmacct@linux/ls\\\\ncontent:ls 命令是一个经常用到的文件管理器，用于显示当前目录中文件和文件夹的列表。 它支持多种参数，可以按照文件的类型，大小，权限，时间戳等属性显示文件信息。\\\\ntitle:Linux 查找当前目录下 包含特定字符串 的所有文件 - 龙凌云端 ...\\\\nlink:https://www.cnblogs.com/miracle-luna/p/11037614.html\\\\ncontent:Linux 查找当前目录下 包含特定字符串 的所有文件. 使用 Linux 经常会遇到这种情况：只知道文件中包含某些特定的字符串，但是不知道具体的文件名。. 需要根据“特定的字符串”反向查找文件。. 示例 （路径文件如下）：. ./miracle/luna/a.txt. a.txt 文件中的 ...\\\\ntitle:Linux find 命令 - 菜鸟教程\\\\nlink:https://www.runoob.com/linux/linux-comm-find.html\\\\ncontent:查找当前目录中文件属主具有读、写权限，并且文件所属组的用户和其他用户具有读权限的文件：. 查找系统中所有文件长度为 0 的普通文件，并列出它们的完整路径：. 找并执行操作（例如删除）：. find /path/to/search -name - rm {} \\\\\\\\; 这个例子中， -exec 选项允许你 ...', message_log=[ALLToolsMessageChunk(content='好的，我将列出当前目录下所有的文件。抱歉，我无法直接查看您本地文件系统的内容。如果您需要查看当前目录下的文件，您可以使用命令行工具，例如在Linux系统中使用`ls`命令，在Windows系统中使用`dir`命令。这些命令会列出当前目录下的所有文件和文件夹。如果您需要进一步的帮助，请提供具体的操作系统信息。', additional_kwargs={'tool_calls': [{'index': None, 'id': 'call_GAwEu2_kOOjencbpLZNLZ', 'function': None, 'type': 'web_browser', 'web_browser': {'input': 'search'}}, {'index': None, 'id': 'call_GAwEu2_kOOjencbpLZNLZ', 'function': None, 'type': 'web_browser', 'web_browser': {'input': '(\\\"'}}, {'index': None, 'id': 'call_GAwEu2_kOOjencbpLZNLZ', 'function': None, 'type': 'web_browser', 'web_browser': {'input': '当前'}}, {'index': None, 'id': 'call_GAwEu2_kOOjencbpLZNLZ', 'function': None, 'type': 'web_browser', 'web_browser': {'input': '目录'}}, {'index': None, 'id': 'call_GAwEu2_kOOjencbpLZNLZ', 'function': None, 'type': 'web_browser', 'web_browser': {'input': '下的'}}, {'index': None, 'id': 'call_GAwEu2_kOOjencbpLZNLZ', 'function': None, 'type': 'web_browser', 'web_browser': {'input': '文件'}}, {'index': None, 'id': 'call_GAwEu2_kOOjencbpLZNLZ', 'function': None, 'type': 'web_browser', 'web_browser': {'input': '\\\")'}}, {'index': None, 'id': 'call_GAwEu2_kOOjencbpLZNLZ', 'function': None, 'type': 'web_browser', 'web_browser': {'input': ''}}, {'index': None, 'id': None, 'function': None, 'type': 'web_browser', 'web_browser': {'outputs': [{'title': '在Linux中，如何查看当前目录下的文件和文件夹？ - 黄嘉波 ...', 'link': 'https://www.cnblogs.com/huangjiabobk/p/18152538', 'content': 'ls 是最基本也是最常用的命令，用于列出当前目录下的文件和文件夹。 基本用法 ： ls. 长格式列出 （显示文件权限、所有者、大小和最后修改时间）： ls -l. 按时间排序 （由新到旧）： ls -lt. 按时间排序 （由旧到新）： ls -ltr. 显示隐藏文件 （以点开头的文件）： ls -a. 2. echo 命令. echo 命令通常用于显示文本，但也可以与文件结合使用来显示当前目录的内容。 列出当前目录的文件和文件夹 ： echo * 3. find 命令. find 命令可以用来查找并显示当前目录及其子目录下的所有文件和文件夹。 列出当前目录的内容 ： find . 4. tree 命令.'}, {'title': 'Linux ls 命令 - 菜鸟教程', 'link': 'https://www.runoob.com/linux/linux-comm-ls.html', 'content': 'Linux ls （英文全拼： list directory contents）命令用于显示指定工作目录下之内容（列出目前工作目录所含的文件及子目录)。'}, {'title': 'Linux中，显示当前目录位置、列出当前目录下的目录和文件 ...', 'link': 'https://blog.csdn.net/qq_46357586/article/details/104565588', 'content': '一.显示当前目录位置. pwd. 二.列出当前目录下的目录和文件. ls --help：得到所有关于ls的命令. 三.切换或进入目录命令. 进入根目录： cd / 目前所在目录： cd . 返回上一层: cd .. 返回上两层: cd ../.. 进入当前目录父目录的***目录： cd ../*** 进入root的根目录： cd ~=cd /root. 注意空格不得省略！ 文章浏览阅读2.5w次，点赞9次，收藏18次。'}, {'title': 'Windows10在cmd目录查看当前目录下的文件（命令：dir ...', 'link': 'https://blog.csdn.net/naibozhuan3744/article/details/80500282', 'content': '入上所述，在Windows系统的cmd中，要显示当前目录下的所有文件，只需要敲入命令 dir 就行，这条命令相当于linux系统下的命令 ls 。 参考内容： https://jingyan.baidu.com/article/215817f7e5f9b71eda1423f9.html. 三公子Tjq. 关注. 18. 24. 0. 专栏目录. DOS 命令 ： dir 获取 文件 夹下所有 文件 名. chicha8453的博客. 6586. 刚刚使用了一下 dir命令 输出 当前目录 下左右子 文件 名称： dir /s/b > files.txt 显示目录 中的 文件 和子 目录 列表。'}, {'title': 'windows 技术篇 - cmd命令查看当前目录下的所有文件和 ...', 'link': 'https://blog.csdn.net/qq_38161040/article/details/118498697', 'content': 'dir /b /s 可以查看当前路径下的所有文件和文件夹以及子目录下的文件。 这是目录，直接在路径里输入 cmd 回车可以进入 cmd 的该路径下。 dir 的使用方法如下，cmd 里可以直接通过 help dir 来查看：_windows脚本访问文件夹及子文件夹'}, {'title': 'Linux LS 命令——如何列出目录中的文件 + 选项标志 ...', 'link': 'https://www.freecodecamp.org/chinese/news/the-linux-ls-command-how-to-list-files-in-a-directory-with-option/', 'content': 'ls 命令用于在 Linux 和其他基于 Unix 的操作系统中列出文件或目录。 就像使用 GUI 在 文件浏览器 或 文件夹 中导航一样，默认情况下， ls 命令可以列出当前目录中的所有文件或目录，并通过命令行进一步操作它们。 启动终端并输入 ls 以查看实际效果：'}, {'title': 'Linux ls命令：查看目录下文件', 'link': 'https://c.biancheng.net/view/721.html', 'content': 'ls 命令，list 的缩写，是最常见的目录操作命令，其主要功能是显示当前目录下的内容。 此命令的基本格式为： [root@localhost ~]# ls [选项] 目录名称. 表 1 列出了 ls 命令常用的选项以及各自的功能。 注意，当 ls 命令不使用任何选项时，默认只会显示非隐藏文件的名称，并以文件名进行排序，同时会根据文件的具体类型给文件名配色（蓝色显示目录，白色显示一般文件）。 除此之外，如果想使用 ls 命令显示更多内容，就需要使用表 1 相应的选项。 【例 1】'}, {'title': 'Linux 文件管理 - ls - 列出目录列表或文件列表 - 《Linux ...', 'link': 'https://geekdaxue.co/read/lwmacct@linux/ls', 'content': 'ls 命令是一个经常用到的文件管理器，用于显示当前目录中文件和文件夹的列表。 它支持多种参数，可以按照文件的类型，大小，权限，时间戳等属性显示文件信息。'}, {'title': 'Linux 查找当前目录下 包含特定字符串 的所有文件 - 龙凌云端 ...', 'link': 'https://www.cnblogs.com/miracle-luna/p/11037614.html', 'content': 'Linux 查找当前目录下 包含特定字符串 的所有文件. 使用 Linux 经常会遇到这种情况：只知道文件中包含某些特定的字符串，但是不知道具体的文件名。. 需要根据“特定的字符串”反向查找文件。. 示例 （路径文件如下）：. ./miracle/luna/a.txt. a.txt 文件中的 ...'}, {'title': 'Linux find 命令 - 菜鸟教程', 'link': 'https://www.runoob.com/linux/linux-comm-find.html', 'content': '查找当前目录中文件属主具有读、写权限，并且文件所属组的用户和其他用户具有读权限的文件：. 查找系统中所有文件长度为 0 的普通文件，并列出它们的完整路径：. 找并执行操作（例如删除）：. find /path/to/search -name - rm {} \\\\\\\\; 这个例子中， -exec 选项允许你 ...'}]}}]}, response_metadata={'finish_reason': 'stoptool_callsstop'}, id='run-dc96bb54-ea6d-42c2-8772-b053525ce4a8', tool_calls=[{'name': 'web_browser', 'args': {'outputs': [{'title': '在Linux中，如何查看当前目录下的文件和文件夹？ - 黄嘉波 ...', 'link': 'https://www.cnblogs.com/huangjiabobk/p/18152538', 'content': 'ls 是最基本也是最常用的命令，用于列出当前目录下的文件和文件夹。 基本用法 ： ls. 长格式列出 （显示文件权限、所有者、大小和最后修改时间）： ls -l. 按时间排序 （由新到旧）： ls -lt. 按时间排序 （由旧到新）： ls -ltr. 显示隐藏文件 （以点开头的文件）： ls -a. 2. echo 命令. echo 命令通常用于显示文本，但也可以与文件结合使用来显示当前目录的内容。 列出当前目录的文件和文件夹 ： echo * 3. find 命令. find 命令可以用来查找并显示当前目录及其子目录下的所有文件和文件夹。 列出当前目录的内容 ： find . 4. tree 命令.'}, {'title': 'Linux ls 命令 - 菜鸟教程', 'link': 'https://www.runoob.com/linux/linux-comm-ls.html', 'content': 'Linux ls （英文全拼： list directory contents）命令用于显示指定工作目录下之内容（列出目前工作目录所含的文件及子目录)。'}, {'title': 'Linux中，显示当前目录位置、列出当前目录下的目录和文件 ...', 'link': 'https://blog.csdn.net/qq_46357586/article/details/104565588', 'content': '一.显示当前目录位置. pwd. 二.列出当前目录下的目录和文件. ls --help：得到所有关于ls的命令. 三.切换或进入目录命令. 进入根目录： cd / 目前所在目录： cd . 返回上一层: cd .. 返回上两层: cd ../.. 进入当前目录父目录的***目录： cd ../*** 进入root的根目录： cd ~=cd /root. 注意空格不得省略！ 文章浏览阅读2.5w次，点赞9次，收藏18次。'}, {'title': 'Windows10在cmd目录查看当前目录下的文件（命令：dir ...', 'link': 'https://blog.csdn.net/naibozhuan3744/article/details/80500282', 'content': '入上所述，在Windows系统的cmd中，要显示当前目录下的所有文件，只需要敲入命令 dir 就行，这条命令相当于linux系统下的命令 ls 。 参考内容： https://jingyan.baidu.com/article/215817f7e5f9b71eda1423f9.html. 三公子Tjq. 关注. 18. 24. 0. 专栏目录. DOS 命令 ： dir 获取 文件 夹下所有 文件 名. chicha8453的博客. 6586. 刚刚使用了一下 dir命令 输出 当前目录 下左右子 文件 名称： dir /s/b > files.txt 显示目录 中的 文件 和子 目录 列表。'}, {'title': 'windows 技术篇 - cmd命令查看当前目录下的所有文件和 ...', 'link': 'https://blog.csdn.net/qq_38161040/article/details/118498697', 'content': 'dir /b /s 可以查看当前路径下的所有文件和文件夹以及子目录下的文件。 这是目录，直接在路径里输入 cmd 回车可以进入 cmd 的该路径下。 dir 的使用方法如下，cmd 里可以直接通过 help dir 来查看：_windows脚本访问文件夹及子文件夹'}, {'title': 'Linux LS 命令——如何列出目录中的文件 + 选项标志 ...', 'link': 'https://www.freecodecamp.org/chinese/news/the-linux-ls-command-how-to-list-files-in-a-directory-with-option/', 'content': 'ls 命令用于在 Linux 和其他基于 Unix 的操作系统中列出文件或目录。 就像使用 GUI 在 文件浏览器 或 文件夹 中导航一样，默认情况下， ls 命令可以列出当前目录中的所有文件或目录，并通过命令行进一步操作它们。 启动终端并输入 ls 以查看实际效果：'}, {'title': 'Linux ls命令：查看目录下文件', 'link': 'https://c.biancheng.net/view/721.html', 'content': 'ls 命令，list 的缩写，是最常见的目录操作命令，其主要功能是显示当前目录下的内容。 此命令的基本格式为： [root@localhost ~]# ls [选项] 目录名称. 表 1 列出了 ls 命令常用的选项以及各自的功能。 注意，当 ls 命令不使用任何选项时，默认只会显示非隐藏文件的名称，并以文件名进行排序，同时会根据文件的具体类型给文件名配色（蓝色显示目录，白色显示一般文件）。 除此之外，如果想使用 ls 命令显示更多内容，就需要使用表 1 相应的选项。 【例 1】'}, {'title': 'Linux 文件管理 - ls - 列出目录列表或文件列表 - 《Linux ...', 'link': 'https://geekdaxue.co/read/lwmacct@linux/ls', 'content': 'ls 命令是一个经常用到的文件管理器，用于显示当前目录中文件和文件夹的列表。 它支持多种参数，可以按照文件的类型，大小，权限，时间戳等属性显示文件信息。'}, {'title': 'Linux 查找当前目录下 包含特定字符串 的所有文件 - 龙凌云端 ...', 'link': 'https://www.cnblogs.com/miracle-luna/p/11037614.html', 'content': 'Linux 查找当前目录下 包含特定字符串 的所有文件. 使用 Linux 经常会遇到这种情况：只知道文件中包含某些特定的字符串，但是不知道具体的文件名。. 需要根据“特定的字符串”反向查找文件。. 示例 （路径文件如下）：. ./miracle/luna/a.txt. a.txt 文件中的 ...'}, {'title': 'Linux find 命令 - 菜鸟教程', 'link': 'https://www.runoob.com/linux/linux-comm-find.html', 'content': '查找当前目录中文件属主具有读、写权限，并且文件所属组的用户和其他用户具有读权限的文件：. 查找系统中所有文件长度为 0 的普通文件，并列出它们的完整路径：. 找并执行操作（例如删除）：. find /path/to/search -name - rm {} \\\\\\\\; 这个例子中， -exec 选项允许你 ...'}]}, 'id': None}], invalid_tool_calls=[{'name': 'web_browser', 'args': '{\\\"input\\\": \\\"search\\\"}', 'id': 'call_GAwEu2_kOOjencbpLZNLZ', 'error': None}, {'name': 'web_browser', 'args': '{\\\"input\\\": \\\"(\\\\\\\\\\\"\\\"}', 'id': 'call_GAwEu2_kOOjencbpLZNLZ', 'error': None}, {'name': 'web_browser', 'args': '{\\\"input\\\": \\\"当前\\\"}', 'id': 'call_GAwEu2_kOOjencbpLZNLZ', 'error': None}, {'name': 'web_browser', 'args': '{\\\"input\\\": \\\"目录\\\"}', 'id': 'call_GAwEu2_kOOjencbpLZNLZ', 'error': None}, {'name': 'web_browser', 'args': '{\\\"input\\\": \\\"下的\\\"}', 'id': 'call_GAwEu2_kOOjencbpLZNLZ', 'error': None}, {'name': 'web_browser', 'args': '{\\\"input\\\": \\\"文件\\\"}', 'id': 'call_GAwEu2_kOOjencbpLZNLZ', 'error': None}, {'name': 'web_browser', 'args': '{\\\"input\\\": \\\"\\\\\\\\\\\")\\\"}', 'id': 'call_GAwEu2_kOOjencbpLZNLZ', 'error': None}, {'name': 'web_browser', 'args': '{\\\"input\\\": \\\"\\\"}', 'id': 'call_GAwEu2_kOOjencbpLZNLZ', 'error': None}], tool_call_chunks=[{'name': 'web_browser', 'args': '{\\\"input\\\": \\\"search\\\"}', 'id': 'call_GAwEu2_kOOjencbpLZNLZ', 'index': None}, {'name': 'web_browser', 'args': '{\\\"input\\\": \\\"(\\\\\\\\\\\"\\\"}', 'id': 'call_GAwEu2_kOOjencbpLZNLZ', 'index': None}, {'name': 'web_browser', 'args': '{\\\"input\\\": \\\"当前\\\"}', 'id': 'call_GAwEu2_kOOjencbpLZNLZ', 'index': None}, {'name': 'web_browser', 'args': '{\\\"input\\\": \\\"目录\\\"}', 'id': 'call_GAwEu2_kOOjencbpLZNLZ', 'index': None}, {'name': 'web_browser', 'args': '{\\\"input\\\": \\\"下的\\\"}', 'id': 'call_GAwEu2_kOOjencbpLZNLZ', 'index': None}, {'name': 'web_browser', 'args': '{\\\"input\\\": \\\"文件\\\"}', 'id': 'call_GAwEu2_kOOjencbpLZNLZ', 'index': None}, {'name': 'web_browser', 'args': '{\\\"input\\\": \\\"\\\\\\\\\\\")\\\"}', 'id': 'call_GAwEu2_kOOjencbpLZNLZ', 'index': None}, {'name': 'web_browser', 'args': '{\\\"input\\\": \\\"\\\"}', 'id': 'call_GAwEu2_kOOjencbpLZNLZ', 'index': None}, {'name': 'web_browser', 'args': '{\\\"outputs\\\": [{\\\"title\\\": \\\"在Linux中，如何查看当前目录下的文件和文件夹？ - 黄嘉波 ...\\\", \\\"link\\\": \\\"https://www.cnblogs.com/huangjiabobk/p/18152538\\\", \\\"content\\\": \\\"ls 是最基本也是最常用的命令，用于列出当前目录下的文件和文件夹。 基本用法 ： ls. 长格式列出 （显示文件权限、所有者、大小和最后修改时间）： ls -l. 按时间排序 （由新到旧）： ls -lt. 按时间排序 （由旧到新）： ls -ltr. 显示隐藏文件 （以点开头的文件）： ls -a. 2. echo 命令. echo 命令通常用于显示文本，但也可以与文件结合使用来显示当前目录的内容。 列出当前目录的文件和文件夹 ： echo * 3. find 命令. find 命令可以用来查找并显示当前目录及其子目录下的所有文件和文件夹。 列出当前目录的内容 ： find . 4. tree 命令.\\\"}, {\\\"title\\\": \\\"Linux ls 命令 - 菜鸟教程\\\", \\\"link\\\": \\\"https://www.runoob.com/linux/linux-comm-ls.html\\\", \\\"content\\\": \\\"Linux ls （英文全拼： list directory contents）命令用于显示指定工作目录下之内容（列出目前工作目录所含的文件及子目录)。\\\"}, {\\\"title\\\": \\\"Linux中，显示当前目录位置、列出当前目录下的目录和文件 ...\\\", \\\"link\\\": \\\"https://blog.csdn.net/qq_46357586/article/details/104565588\\\", \\\"content\\\": \\\"一.显示当前目录位置. pwd. 二.列出当前目录下的目录和文件. ls --help：得到所有关于ls的命令. 三.切换或进入目录命令. 进入根目录： cd / 目前所在目录： cd . 返回上一层: cd .. 返回上两层: cd ../.. 进入当前目录父目录的***目录： cd ../*** 进入root的根目录： cd ~=cd /root. 注意空格不得省略！ 文章浏览阅读2.5w次，点赞9次，收藏18次。\\\"}, {\\\"title\\\": \\\"Windows10在cmd目录查看当前目录下的文件（命令：dir ...\\\", \\\"link\\\": \\\"https://blog.csdn.net/naibozhuan3744/article/details/80500282\\\", \\\"content\\\": \\\"入上所述，在Windows系统的cmd中，要显示当前目录下的所有文件，只需要敲入命令 dir 就行，这条命令相当于linux系统下的命令 ls 。 参考内容： https://jingyan.baidu.com/article/215817f7e5f9b71eda1423f9.html. 三公子Tjq. 关注. 18. 24. 0. 专栏目录. DOS 命令 ： dir 获取 文件 夹下所有 文件 名. chicha8453的博客. 6586. 刚刚使用了一下 dir命令 输出 当前目录 下左右子 文件 名称： dir /s/b > files.txt 显示目录 中的 文件 和子 目录 列表。\\\"}, {\\\"title\\\": \\\"windows 技术篇 - cmd命令查看当前目录下的所有文件和 ...\\\", \\\"link\\\": \\\"https://blog.csdn.net/qq_38161040/article/details/118498697\\\", \\\"content\\\": \\\"dir /b /s 可以查看当前路径下的所有文件和文件夹以及子目录下的文件。 这是目录，直接在路径里输入 cmd 回车可以进入 cmd 的该路径下。 dir 的使用方法如下，cmd 里可以直接通过 help dir 来查看：_windows脚本访问文件夹及子文件夹\\\"}, {\\\"title\\\": \\\"Linux LS 命令——如何列出目录中的文件 + 选项标志 ...\\\", \\\"link\\\": \\\"https://www.freecodecamp.org/chinese/news/the-linux-ls-command-how-to-list-files-in-a-directory-with-option/\\\", \\\"content\\\": \\\"ls 命令用于在 Linux 和其他基于 Unix 的操作系统中列出文件或目录。 就像使用 GUI 在 文件浏览器 或 文件夹 中导航一样，默认情况下， ls 命令可以列出当前目录中的所有文件或目录，并通过命令行进一步操作它们。 启动终端并输入 ls 以查看实际效果：\\\"}, {\\\"title\\\": \\\"Linux ls命令：查看目录下文件\\\", \\\"link\\\": \\\"https://c.biancheng.net/view/721.html\\\", \\\"content\\\": \\\"ls 命令，list 的缩写，是最常见的目录操作命令，其主要功能是显示当前目录下的内容。 此命令的基本格式为： [root@localhost ~]# ls [选项] 目录名称. 表 1 列出了 ls 命令常用的选项以及各自的功能。 注意，当 ls 命令不使用任何选项时，默认只会显示非隐藏文件的名称，并以文件名进行排序，同时会根据文件的具体类型给文件名配色（蓝色显示目录，白色显示一般文件）。 除此之外，如果想使用 ls 命令显示更多内容，就需要使用表 1 相应的选项。 【例 1】\\\"}, {\\\"title\\\": \\\"Linux 文件管理 - ls - 列出目录列表或文件列表 - 《Linux ...\\\", \\\"link\\\": \\\"https://geekdaxue.co/read/lwmacct@linux/ls\\\", \\\"content\\\": \\\"ls 命令是一个经常用到的文件管理器，用于显示当前目录中文件和文件夹的列表。 它支持多种参数，可以按照文件的类型，大小，权限，时间戳等属性显示文件信息。\\\"}, {\\\"title\\\": \\\"Linux 查找当前目录下 包含特定字符串 的所有文件 - 龙凌云端 ...\\\", \\\"link\\\": \\\"https://www.cnblogs.com/miracle-luna/p/11037614.html\\\", \\\"content\\\": \\\"Linux 查找当前目录下 包含特定字符串 的所有文件. 使用 Linux 经常会遇到这种情况：只知道文件中包含某些特定的字符串，但是不知道具体的文件名。. 需要根据“特定的字符串”反向查找文件。. 示例 （路径文件如下）：. ./miracle/luna/a.txt. a.txt 文件中的 ...\\\"}, {\\\"title\\\": \\\"Linux find 命令 - 菜鸟教程\\\", \\\"link\\\": \\\"https://www.runoob.com/linux/linux-comm-find.html\\\", \\\"content\\\": \\\"查找当前目录中文件属主具有读、写权限，并且文件所属组的用户和其他用户具有读权限的文件：. 查找系统中所有文件长度为 0 的普通文件，并列出它们的完整路径：. 找并执行操作（例如删除）：. find /path/to/search -name - rm {} \\\\\\\\\\\\\\\\; 这个例子中， -exec 选项允许你 ...\\\"}]}', 'id': None, 'index': None}])], tool_call_id='call_GAwEu2_kOOjencbpLZNLZ', outputs=[{'title': '在Linux中，如何查看当前目录下的文件和文件夹？ - 黄嘉波 ...', 'link': 'https://www.cnblogs.com/huangjiabobk/p/18152538', 'content': 'ls 是最基本也是最常用的命令，用于列出当前目录下的文件和文件夹。 基本用法 ： ls. 长格式列出 （显示文件权限、所有者、大小和最后修改时间）： ls -l. 按时间排序 （由新到旧）： ls -lt. 按时间排序 （由旧到新）： ls -ltr. 显示隐藏文件 （以点开头的文件）： ls -a. 2. echo 命令. echo 命令通常用于显示文本，但也可以与文件结合使用来显示当前目录的内容。 列出当前目录的文件和文件夹 ： echo * 3. find 命令. find 命令可以用来查找并显示当前目录及其子目录下的所有文件和文件夹。 列出当前目录的内容 ： find . 4. tree 命令.'}, {'title': 'Linux ls 命令 - 菜鸟教程', 'link': 'https://www.runoob.com/linux/linux-comm-ls.html', 'content': 'Linux ls （英文全拼： list directory contents）命令用于显示指定工作目录下之内容（列出目前工作目录所含的文件及子目录)。'}, {'title': 'Linux中，显示当前目录位置、列出当前目录下的目录和文件 ...', 'link': 'https://blog.csdn.net/qq_46357586/article/details/104565588', 'content': '一.显示当前目录位置. pwd. 二.列出当前目录下的目录和文件. ls --help：得到所有关于ls的命令. 三.切换或进入目录命令. 进入根目录： cd / 目前所在目录： cd . 返回上一层: cd .. 返回上两层: cd ../.. 进入当前目录父目录的***目录： cd ../*** 进入root的根目录： cd ~=cd /root. 注意空格不得省略！ 文章浏览阅读2.5w次，点赞9次，收藏18次。'}, {'title': 'Windows10在cmd目录查看当前目录下的文件（命令：dir ...', 'link': 'https://blog.csdn.net/naibozhuan3744/article/details/80500282', 'content': '入上所述，在Windows系统的cmd中，要显示当前目录下的所有文件，只需要敲入命令 dir 就行，这条命令相当于linux系统下的命令 ls 。 参考内容： https://jingyan.baidu.com/article/215817f7e5f9b71eda1423f9.html. 三公子Tjq. 关注. 18. 24. 0. 专栏目录. DOS 命令 ： dir 获取 文件 夹下所有 文件 名. chicha8453的博客. 6586. 刚刚使用了一下 dir命令 输出 当前目录 下左右子 文件 名称： dir /s/b > files.txt 显示目录 中的 文件 和子 目录 列表。'}, {'title': 'windows 技术篇 - cmd命令查看当前目录下的所有文件和 ...', 'link': 'https://blog.csdn.net/qq_38161040/article/details/118498697', 'content': 'dir /b /s 可以查看当前路径下的所有文件和文件夹以及子目录下的文件。 这是目录，直接在路径里输入 cmd 回车可以进入 cmd 的该路径下。 dir 的使用方法如下，cmd 里可以直接通过 help dir 来查看：_windows脚本访问文件夹及子文件夹'}, {'title': 'Linux LS 命令——如何列出目录中的文件 + 选项标志 ...', 'link': 'https://www.freecodecamp.org/chinese/news/the-linux-ls-command-how-to-list-files-in-a-directory-with-option/', 'content': 'ls 命令用于在 Linux 和其他基于 Unix 的操作系统中列出文件或目录。 就像使用 GUI 在 文件浏览器 或 文件夹 中导航一样，默认情况下， ls 命令可以列出当前目录中的所有文件或目录，并通过命令行进一步操作它们。 启动终端并输入 ls 以查看实际效果：'}, {'title': 'Linux ls命令：查看目录下文件', 'link': 'https://c.biancheng.net/view/721.html', 'content': 'ls 命令，list 的缩写，是最常见的目录操作命令，其主要功能是显示当前目录下的内容。 此命令的基本格式为： [root@localhost ~]# ls [选项] 目录名称. 表 1 列出了 ls 命令常用的选项以及各自的功能。 注意，当 ls 命令不使用任何选项时，默认只会显示非隐藏文件的名称，并以文件名进行排序，同时会根据文件的具体类型给文件名配色（蓝色显示目录，白色显示一般文件）。 除此之外，如果想使用 ls 命令显示更多内容，就需要使用表 1 相应的选项。 【例 1】'}, {'title': 'Linux 文件管理 - ls - 列出目录列表或文件列表 - 《Linux ...', 'link': 'https://geekdaxue.co/read/lwmacct@linux/ls', 'content': 'ls 命令是一个经常用到的文件管理器，用于显示当前目录中文件和文件夹的列表。 它支持多种参数，可以按照文件的类型，大小，权限，时间戳等属性显示文件信息。'}, {'title': 'Linux 查找当前目录下 包含特定字符串 的所有文件 - 龙凌云端 ...', 'link': 'https://www.cnblogs.com/miracle-luna/p/11037614.html', 'content': 'Linux 查找当前目录下 包含特定字符串 的所有文件. 使用 Linux 经常会遇到这种情况：只知道文件中包含某些特定的字符串，但是不知道具体的文件名。. 需要根据“特定的字符串”反向查找文件。. 示例 （路径文件如下）：. ./miracle/luna/a.txt. a.txt 文件中的 ...'}, {'title': 'Linux find 命令 - 菜鸟教程', 'link': 'https://www.runoob.com/linux/linux-comm-find.html', 'content': '查找当前目录中文件属主具有读、写权限，并且文件所属组的用户和其他用户具有读权限的文件：. 查找系统中所有文件长度为 0 的普通文件，并列出它们的完整路径：. 找并执行操作（例如删除）：. find /path/to/search -name - rm {} \\\\\\\\; 这个例子中， -exec 选项允许你 ...'}])}\", \"class_name\": \"AllToolsActionToolStart\"}\n",
      "\u001B[31;1m\u001B[1;3mAccess：web_browser, Message: search(\"当前目录下的文件\"),search(\"当前目录下的文件\")\r\n",
      "title:在Linux中，如何查看当前目录下的文件和文件夹？ - 黄嘉波 ...\n",
      "link:https://www.cnblogs.com/huangjiabobk/p/18152538\n",
      "content:ls 是最基本也是最常用的命令，用于列出当前目录下的文件和文件夹。 基本用法 ： ls. 长格式列出 （显示文件权限、所有者、大小和最后修改时间）： ls -l. 按时间排序 （由新到旧）： ls -lt. 按时间排序 （由旧到新）： ls -ltr. 显示隐藏文件 （以点开头的文件）： ls -a. 2. echo 命令. echo 命令通常用于显示文本，但也可以与文件结合使用来显示当前目录的内容。 列出当前目录的文件和文件夹 ： echo * 3. find 命令. find 命令可以用来查找并显示当前目录及其子目录下的所有文件和文件夹。 列出当前目录的内容 ： find . 4. tree 命令.\n",
      "title:Linux ls 命令 - 菜鸟教程\n",
      "link:https://www.runoob.com/linux/linux-comm-ls.html\n",
      "content:Linux ls （英文全拼： list directory contents）命令用于显示指定工作目录下之内容（列出目前工作目录所含的文件及子目录)。\n",
      "title:Linux中，显示当前目录位置、列出当前目录下的目录和文件 ...\n",
      "link:https://blog.csdn.net/qq_46357586/article/details/104565588\n",
      "content:一.显示当前目录位置. pwd. 二.列出当前目录下的目录和文件. ls --help：得到所有关于ls的命令. 三.切换或进入目录命令. 进入根目录： cd / 目前所在目录： cd . 返回上一层: cd .. 返回上两层: cd ../.. 进入当前目录父目录的***目录： cd ../*** 进入root的根目录： cd ~=cd /root. 注意空格不得省略！ 文章浏览阅读2.5w次，点赞9次，收藏18次。\n",
      "title:Windows10在cmd目录查看当前目录下的文件（命令：dir ...\n",
      "link:https://blog.csdn.net/naibozhuan3744/article/details/80500282\n",
      "content:入上所述，在Windows系统的cmd中，要显示当前目录下的所有文件，只需要敲入命令 dir 就行，这条命令相当于linux系统下的命令 ls 。 参考内容： https://jingyan.baidu.com/article/215817f7e5f9b71eda1423f9.html. 三公子Tjq. 关注. 18. 24. 0. 专栏目录. DOS 命令 ： dir 获取 文件 夹下所有 文件 名. chicha8453的博客. 6586. 刚刚使用了一下 dir命令 输出 当前目录 下左右子 文件 名称： dir /s/b > files.txt 显示目录 中的 文件 和子 目录 列表。\n",
      "title:windows 技术篇 - cmd命令查看当前目录下的所有文件和 ...\n",
      "link:https://blog.csdn.net/qq_38161040/article/details/118498697\n",
      "content:dir /b /s 可以查看当前路径下的所有文件和文件夹以及子目录下的文件。 这是目录，直接在路径里输入 cmd 回车可以进入 cmd 的该路径下。 dir 的使用方法如下，cmd 里可以直接通过 help dir 来查看：_windows脚本访问文件夹及子文件夹\n",
      "title:Linux LS 命令——如何列出目录中的文件 + 选项标志 ...\n",
      "link:https://www.freecodecamp.org/chinese/news/the-linux-ls-command-how-to-list-files-in-a-directory-with-option/\n",
      "content:ls 命令用于在 Linux 和其他基于 Unix 的操作系统中列出文件或目录。 就像使用 GUI 在 文件浏览器 或 文件夹 中导航一样，默认情况下， ls 命令可以列出当前目录中的所有文件或目录，并通过命令行进一步操作它们。 启动终端并输入 ls 以查看实际效果：\n",
      "title:Linux ls命令：查看目录下文件\n",
      "link:https://c.biancheng.net/view/721.html\n",
      "content:ls 命令，list 的缩写，是最常见的目录操作命令，其主要功能是显示当前目录下的内容。 此命令的基本格式为： [root@localhost ~]# ls [选项] 目录名称. 表 1 列出了 ls 命令常用的选项以及各自的功能。 注意，当 ls 命令不使用任何选项时，默认只会显示非隐藏文件的名称，并以文件名进行排序，同时会根据文件的具体类型给文件名配色（蓝色显示目录，白色显示一般文件）。 除此之外，如果想使用 ls 命令显示更多内容，就需要使用表 1 相应的选项。 【例 1】\n",
      "title:Linux 文件管理 - ls - 列出目录列表或文件列表 - 《Linux ...\n",
      "link:https://geekdaxue.co/read/lwmacct@linux/ls\n",
      "content:ls 命令是一个经常用到的文件管理器，用于显示当前目录中文件和文件夹的列表。 它支持多种参数，可以按照文件的类型，大小，权限，时间戳等属性显示文件信息。\n",
      "title:Linux 查找当前目录下 包含特定字符串 的所有文件 - 龙凌云端 ...\n",
      "link:https://www.cnblogs.com/miracle-luna/p/11037614.html\n",
      "content:Linux 查找当前目录下 包含特定字符串 的所有文件. 使用 Linux 经常会遇到这种情况：只知道文件中包含某些特定的字符串，但是不知道具体的文件名。. 需要根据“特定的字符串”反向查找文件。. 示例 （路径文件如下）：. ./miracle/luna/a.txt. a.txt 文件中的 ...\n",
      "title:Linux find 命令 - 菜鸟教程\n",
      "link:https://www.runoob.com/linux/linux-comm-find.html\n",
      "content:查找当前目录中文件属主具有读、写权限，并且文件所属组的用户和其他用户具有读权限的文件：. 查找系统中所有文件长度为 0 的普通文件，并列出它们的完整路径：. 找并执行操作（例如删除）：. find /path/to/search -name - rm {} \\; 这个例子中， -exec 选项允许你 ...\u001B[0mAllToolsActionToolEnd:{\"run_id\": \"40348172-f2a1-4638-9ff7-1d962700cb09\", \"status\": 7, \"tool\": \"web_browser\", \"tool_output\": \"Access：web_browser, Message: search(\\\"当前目录下的文件\\\"),search(\\\"当前目录下的文件\\\")\\r\\ntitle:在Linux中，如何查看当前目录下的文件和文件夹？ - 黄嘉波 ...\\nlink:https://www.cnblogs.com/huangjiabobk/p/18152538\\ncontent:ls 是最基本也是最常用的命令，用于列出当前目录下的文件和文件夹。 基本用法 ： ls. 长格式列出 （显示文件权限、所有者、大小和最后修改时间）： ls -l. 按时间排序 （由新到旧）： ls -lt. 按时间排序 （由旧到新）： ls -ltr. 显示隐藏文件 （以点开头的文件）： ls -a. 2. echo 命令. echo 命令通常用于显示文本，但也可以与文件结合使用来显示当前目录的内容。 列出当前目录的文件和文件夹 ： echo * 3. find 命令. find 命令可以用来查找并显示当前目录及其子目录下的所有文件和文件夹。 列出当前目录的内容 ： find . 4. tree 命令.\\ntitle:Linux ls 命令 - 菜鸟教程\\nlink:https://www.runoob.com/linux/linux-comm-ls.html\\ncontent:Linux ls （英文全拼： list directory contents）命令用于显示指定工作目录下之内容（列出目前工作目录所含的文件及子目录)。\\ntitle:Linux中，显示当前目录位置、列出当前目录下的目录和文件 ...\\nlink:https://blog.csdn.net/qq_46357586/article/details/104565588\\ncontent:一.显示当前目录位置. pwd. 二.列出当前目录下的目录和文件. ls --help：得到所有关于ls的命令. 三.切换或进入目录命令. 进入根目录： cd / 目前所在目录： cd . 返回上一层: cd .. 返回上两层: cd ../.. 进入当前目录父目录的***目录： cd ../*** 进入root的根目录： cd ~=cd /root. 注意空格不得省略！ 文章浏览阅读2.5w次，点赞9次，收藏18次。\\ntitle:Windows10在cmd目录查看当前目录下的文件（命令：dir ...\\nlink:https://blog.csdn.net/naibozhuan3744/article/details/80500282\\ncontent:入上所述，在Windows系统的cmd中，要显示当前目录下的所有文件，只需要敲入命令 dir 就行，这条命令相当于linux系统下的命令 ls 。 参考内容： https://jingyan.baidu.com/article/215817f7e5f9b71eda1423f9.html. 三公子Tjq. 关注. 18. 24. 0. 专栏目录. DOS 命令 ： dir 获取 文件 夹下所有 文件 名. chicha8453的博客. 6586. 刚刚使用了一下 dir命令 输出 当前目录 下左右子 文件 名称： dir /s/b > files.txt 显示目录 中的 文件 和子 目录 列表。\\ntitle:windows 技术篇 - cmd命令查看当前目录下的所有文件和 ...\\nlink:https://blog.csdn.net/qq_38161040/article/details/118498697\\ncontent:dir /b /s 可以查看当前路径下的所有文件和文件夹以及子目录下的文件。 这是目录，直接在路径里输入 cmd 回车可以进入 cmd 的该路径下。 dir 的使用方法如下，cmd 里可以直接通过 help dir 来查看：_windows脚本访问文件夹及子文件夹\\ntitle:Linux LS 命令——如何列出目录中的文件 + 选项标志 ...\\nlink:https://www.freecodecamp.org/chinese/news/the-linux-ls-command-how-to-list-files-in-a-directory-with-option/\\ncontent:ls 命令用于在 Linux 和其他基于 Unix 的操作系统中列出文件或目录。 就像使用 GUI 在 文件浏览器 或 文件夹 中导航一样，默认情况下， ls 命令可以列出当前目录中的所有文件或目录，并通过命令行进一步操作它们。 启动终端并输入 ls 以查看实际效果：\\ntitle:Linux ls命令：查看目录下文件\\nlink:https://c.biancheng.net/view/721.html\\ncontent:ls 命令，list 的缩写，是最常见的目录操作命令，其主要功能是显示当前目录下的内容。 此命令的基本格式为： [root@localhost ~]# ls [选项] 目录名称. 表 1 列出了 ls 命令常用的选项以及各自的功能。 注意，当 ls 命令不使用任何选项时，默认只会显示非隐藏文件的名称，并以文件名进行排序，同时会根据文件的具体类型给文件名配色（蓝色显示目录，白色显示一般文件）。 除此之外，如果想使用 ls 命令显示更多内容，就需要使用表 1 相应的选项。 【例 1】\\ntitle:Linux 文件管理 - ls - 列出目录列表或文件列表 - 《Linux ...\\nlink:https://geekdaxue.co/read/lwmacct@linux/ls\\ncontent:ls 命令是一个经常用到的文件管理器，用于显示当前目录中文件和文件夹的列表。 它支持多种参数，可以按照文件的类型，大小，权限，时间戳等属性显示文件信息。\\ntitle:Linux 查找当前目录下 包含特定字符串 的所有文件 - 龙凌云端 ...\\nlink:https://www.cnblogs.com/miracle-luna/p/11037614.html\\ncontent:Linux 查找当前目录下 包含特定字符串 的所有文件. 使用 Linux 经常会遇到这种情况：只知道文件中包含某些特定的字符串，但是不知道具体的文件名。. 需要根据“特定的字符串”反向查找文件。. 示例 （路径文件如下）：. ./miracle/luna/a.txt. a.txt 文件中的 ...\\ntitle:Linux find 命令 - 菜鸟教程\\nlink:https://www.runoob.com/linux/linux-comm-find.html\\ncontent:查找当前目录中文件属主具有读、写权限，并且文件所属组的用户和其他用户具有读权限的文件：. 查找系统中所有文件长度为 0 的普通文件，并列出它们的完整路径：. 找并执行操作（例如删除）：. find /path/to/search -name - rm {} \\\\; 这个例子中， -exec 选项允许你 ...\", \"class_name\": \"AllToolsActionToolEnd\"}\n",
      "\u001B[32;1m\u001B[1;3mAccess：web_browser, Message: search(\"当前目录下的文件\"),search(\"当前目录下的文件\")\r\n",
      "title:在Linux中，如何查看当前目录下的文件和文件夹？ - 黄嘉波 ...\n",
      "link:https://www.cnblogs.com/huangjiabobk/p/18152538\n",
      "content:ls 是最基本也是最常用的命令，用于列出当前目录下的文件和文件夹。 基本用法 ： ls. 长格式列出 （显示文件权限、所有者、大小和最后修改时间）： ls -l. 按时间排序 （由新到旧）： ls -lt. 按时间排序 （由旧到新）： ls -ltr. 显示隐藏文件 （以点开头的文件）： ls -a. 2. echo 命令. echo 命令通常用于显示文本，但也可以与文件结合使用来显示当前目录的内容。 列出当前目录的文件和文件夹 ： echo * 3. find 命令. find 命令可以用来查找并显示当前目录及其子目录下的所有文件和文件夹。 列出当前目录的内容 ： find . 4. tree 命令.\n",
      "title:Linux ls 命令 - 菜鸟教程\n",
      "link:https://www.runoob.com/linux/linux-comm-ls.html\n",
      "content:Linux ls （英文全拼： list directory contents）命令用于显示指定工作目录下之内容（列出目前工作目录所含的文件及子目录)。\n",
      "title:Linux中，显示当前目录位置、列出当前目录下的目录和文件 ...\n",
      "link:https://blog.csdn.net/qq_46357586/article/details/104565588\n",
      "content:一.显示当前目录位置. pwd. 二.列出当前目录下的目录和文件. ls --help：得到所有关于ls的命令. 三.切换或进入目录命令. 进入根目录： cd / 目前所在目录： cd . 返回上一层: cd .. 返回上两层: cd ../.. 进入当前目录父目录的***目录： cd ../*** 进入root的根目录： cd ~=cd /root. 注意空格不得省略！ 文章浏览阅读2.5w次，点赞9次，收藏18次。\n",
      "title:Windows10在cmd目录查看当前目录下的文件（命令：dir ...\n",
      "link:https://blog.csdn.net/naibozhuan3744/article/details/80500282\n",
      "content:入上所述，在Windows系统的cmd中，要显示当前目录下的所有文件，只需要敲入命令 dir 就行，这条命令相当于linux系统下的命令 ls 。 参考内容： https://jingyan.baidu.com/article/215817f7e5f9b71eda1423f9.html. 三公子Tjq. 关注. 18. 24. 0. 专栏目录. DOS 命令 ： dir 获取 文件 夹下所有 文件 名. chicha8453的博客. 6586. 刚刚使用了一下 dir命令 输出 当前目录 下左右子 文件 名称： dir /s/b > files.txt 显示目录 中的 文件 和子 目录 列表。\n",
      "title:windows 技术篇 - cmd命令查看当前目录下的所有文件和 ...\n",
      "link:https://blog.csdn.net/qq_38161040/article/details/118498697\n",
      "content:dir /b /s 可以查看当前路径下的所有文件和文件夹以及子目录下的文件。 这是目录，直接在路径里输入 cmd 回车可以进入 cmd 的该路径下。 dir 的使用方法如下，cmd 里可以直接通过 help dir 来查看：_windows脚本访问文件夹及子文件夹\n",
      "title:Linux LS 命令——如何列出目录中的文件 + 选项标志 ...\n",
      "link:https://www.freecodecamp.org/chinese/news/the-linux-ls-command-how-to-list-files-in-a-directory-with-option/\n",
      "content:ls 命令用于在 Linux 和其他基于 Unix 的操作系统中列出文件或目录。 就像使用 GUI 在 文件浏览器 或 文件夹 中导航一样，默认情况下， ls 命令可以列出当前目录中的所有文件或目录，并通过命令行进一步操作它们。 启动终端并输入 ls 以查看实际效果：\n",
      "title:Linux ls命令：查看目录下文件\n",
      "link:https://c.biancheng.net/view/721.html\n",
      "content:ls 命令，list 的缩写，是最常见的目录操作命令，其主要功能是显示当前目录下的内容。 此命令的基本格式为： [root@localhost ~]# ls [选项] 目录名称. 表 1 列出了 ls 命令常用的选项以及各自的功能。 注意，当 ls 命令不使用任何选项时，默认只会显示非隐藏文件的名称，并以文件名进行排序，同时会根据文件的具体类型给文件名配色（蓝色显示目录，白色显示一般文件）。 除此之外，如果想使用 ls 命令显示更多内容，就需要使用表 1 相应的选项。 【例 1】\n",
      "title:Linux 文件管理 - ls - 列出目录列表或文件列表 - 《Linux ...\n",
      "link:https://geekdaxue.co/read/lwmacct@linux/ls\n",
      "content:ls 命令是一个经常用到的文件管理器，用于显示当前目录中文件和文件夹的列表。 它支持多种参数，可以按照文件的类型，大小，权限，时间戳等属性显示文件信息。\n",
      "title:Linux 查找当前目录下 包含特定字符串 的所有文件 - 龙凌云端 ...\n",
      "link:https://www.cnblogs.com/miracle-luna/p/11037614.html\n",
      "content:Linux 查找当前目录下 包含特定字符串 的所有文件. 使用 Linux 经常会遇到这种情况：只知道文件中包含某些特定的字符串，但是不知道具体的文件名。. 需要根据“特定的字符串”反向查找文件。. 示例 （路径文件如下）：. ./miracle/luna/a.txt. a.txt 文件中的 ...\n",
      "title:Linux find 命令 - 菜鸟教程\n",
      "link:https://www.runoob.com/linux/linux-comm-find.html\n",
      "content:查找当前目录中文件属主具有读、写权限，并且文件所属组的用户和其他用户具有读权限的文件：. 查找系统中所有文件长度为 0 的普通文件，并列出它们的完整路径：. 找并执行操作（例如删除）：. find /path/to/search -name - rm {} \\; 这个例子中， -exec 选项允许你 ...\u001B[0m\n",
      "AllToolsFinish:{\"run_id\": \"29ac2db4-56dd-4f33-af37-3319d19eb0a7\", \"status\": 5, \"return_values\": {\"output\": \"Access：web_browser, Message: search(\\\"当前目录下的文件\\\"),search(\\\"当前目录下的文件\\\")\\r\\ntitle:在Linux中，如何查看当前目录下的文件和文件夹？ - 黄嘉波 ...\\nlink:https://www.cnblogs.com/huangjiabobk/p/18152538\\ncontent:ls 是最基本也是最常用的命令，用于列出当前目录下的文件和文件夹。 基本用法 ： ls. 长格式列出 （显示文件权限、所有者、大小和最后修改时间）： ls -l. 按时间排序 （由新到旧）： ls -lt. 按时间排序 （由旧到新）： ls -ltr. 显示隐藏文件 （以点开头的文件）： ls -a. 2. echo 命令. echo 命令通常用于显示文本，但也可以与文件结合使用来显示当前目录的内容。 列出当前目录的文件和文件夹 ： echo * 3. find 命令. find 命令可以用来查找并显示当前目录及其子目录下的所有文件和文件夹。 列出当前目录的内容 ： find . 4. tree 命令.\\ntitle:Linux ls 命令 - 菜鸟教程\\nlink:https://www.runoob.com/linux/linux-comm-ls.html\\ncontent:Linux ls （英文全拼： list directory contents）命令用于显示指定工作目录下之内容（列出目前工作目录所含的文件及子目录)。\\ntitle:Linux中，显示当前目录位置、列出当前目录下的目录和文件 ...\\nlink:https://blog.csdn.net/qq_46357586/article/details/104565588\\ncontent:一.显示当前目录位置. pwd. 二.列出当前目录下的目录和文件. ls --help：得到所有关于ls的命令. 三.切换或进入目录命令. 进入根目录： cd / 目前所在目录： cd . 返回上一层: cd .. 返回上两层: cd ../.. 进入当前目录父目录的***目录： cd ../*** 进入root的根目录： cd ~=cd /root. 注意空格不得省略！ 文章浏览阅读2.5w次，点赞9次，收藏18次。\\ntitle:Windows10在cmd目录查看当前目录下的文件（命令：dir ...\\nlink:https://blog.csdn.net/naibozhuan3744/article/details/80500282\\ncontent:入上所述，在Windows系统的cmd中，要显示当前目录下的所有文件，只需要敲入命令 dir 就行，这条命令相当于linux系统下的命令 ls 。 参考内容： https://jingyan.baidu.com/article/215817f7e5f9b71eda1423f9.html. 三公子Tjq. 关注. 18. 24. 0. 专栏目录. DOS 命令 ： dir 获取 文件 夹下所有 文件 名. chicha8453的博客. 6586. 刚刚使用了一下 dir命令 输出 当前目录 下左右子 文件 名称： dir /s/b > files.txt 显示目录 中的 文件 和子 目录 列表。\\ntitle:windows 技术篇 - cmd命令查看当前目录下的所有文件和 ...\\nlink:https://blog.csdn.net/qq_38161040/article/details/118498697\\ncontent:dir /b /s 可以查看当前路径下的所有文件和文件夹以及子目录下的文件。 这是目录，直接在路径里输入 cmd 回车可以进入 cmd 的该路径下。 dir 的使用方法如下，cmd 里可以直接通过 help dir 来查看：_windows脚本访问文件夹及子文件夹\\ntitle:Linux LS 命令——如何列出目录中的文件 + 选项标志 ...\\nlink:https://www.freecodecamp.org/chinese/news/the-linux-ls-command-how-to-list-files-in-a-directory-with-option/\\ncontent:ls 命令用于在 Linux 和其他基于 Unix 的操作系统中列出文件或目录。 就像使用 GUI 在 文件浏览器 或 文件夹 中导航一样，默认情况下， ls 命令可以列出当前目录中的所有文件或目录，并通过命令行进一步操作它们。 启动终端并输入 ls 以查看实际效果：\\ntitle:Linux ls命令：查看目录下文件\\nlink:https://c.biancheng.net/view/721.html\\ncontent:ls 命令，list 的缩写，是最常见的目录操作命令，其主要功能是显示当前目录下的内容。 此命令的基本格式为： [root@localhost ~]# ls [选项] 目录名称. 表 1 列出了 ls 命令常用的选项以及各自的功能。 注意，当 ls 命令不使用任何选项时，默认只会显示非隐藏文件的名称，并以文件名进行排序，同时会根据文件的具体类型给文件名配色（蓝色显示目录，白色显示一般文件）。 除此之外，如果想使用 ls 命令显示更多内容，就需要使用表 1 相应的选项。 【例 1】\\ntitle:Linux 文件管理 - ls - 列出目录列表或文件列表 - 《Linux ...\\nlink:https://geekdaxue.co/read/lwmacct@linux/ls\\ncontent:ls 命令是一个经常用到的文件管理器，用于显示当前目录中文件和文件夹的列表。 它支持多种参数，可以按照文件的类型，大小，权限，时间戳等属性显示文件信息。\\ntitle:Linux 查找当前目录下 包含特定字符串 的所有文件 - 龙凌云端 ...\\nlink:https://www.cnblogs.com/miracle-luna/p/11037614.html\\ncontent:Linux 查找当前目录下 包含特定字符串 的所有文件. 使用 Linux 经常会遇到这种情况：只知道文件中包含某些特定的字符串，但是不知道具体的文件名。. 需要根据“特定的字符串”反向查找文件。. 示例 （路径文件如下）：. ./miracle/luna/a.txt. a.txt 文件中的 ...\\ntitle:Linux find 命令 - 菜鸟教程\\nlink:https://www.runoob.com/linux/linux-comm-find.html\\ncontent:查找当前目录中文件属主具有读、写权限，并且文件所属组的用户和其他用户具有读权限的文件：. 查找系统中所有文件长度为 0 的普通文件，并列出它们的完整路径：. 找并执行操作（例如删除）：. find /path/to/search -name - rm {} \\\\; 这个例子中， -exec 选项允许你 ...\"}, \"log\": \"Access：web_browser, Message: search(\\\"当前目录下的文件\\\"),search(\\\"当前目录下的文件\\\")\\r\\ntitle:在Linux中，如何查看当前目录下的文件和文件夹？ - 黄嘉波 ...\\nlink:https://www.cnblogs.com/huangjiabobk/p/18152538\\ncontent:ls 是最基本也是最常用的命令，用于列出当前目录下的文件和文件夹。 基本用法 ： ls. 长格式列出 （显示文件权限、所有者、大小和最后修改时间）： ls -l. 按时间排序 （由新到旧）： ls -lt. 按时间排序 （由旧到新）： ls -ltr. 显示隐藏文件 （以点开头的文件）： ls -a. 2. echo 命令. echo 命令通常用于显示文本，但也可以与文件结合使用来显示当前目录的内容。 列出当前目录的文件和文件夹 ： echo * 3. find 命令. find 命令可以用来查找并显示当前目录及其子目录下的所有文件和文件夹。 列出当前目录的内容 ： find . 4. tree 命令.\\ntitle:Linux ls 命令 - 菜鸟教程\\nlink:https://www.runoob.com/linux/linux-comm-ls.html\\ncontent:Linux ls （英文全拼： list directory contents）命令用于显示指定工作目录下之内容（列出目前工作目录所含的文件及子目录)。\\ntitle:Linux中，显示当前目录位置、列出当前目录下的目录和文件 ...\\nlink:https://blog.csdn.net/qq_46357586/article/details/104565588\\ncontent:一.显示当前目录位置. pwd. 二.列出当前目录下的目录和文件. ls --help：得到所有关于ls的命令. 三.切换或进入目录命令. 进入根目录： cd / 目前所在目录： cd . 返回上一层: cd .. 返回上两层: cd ../.. 进入当前目录父目录的***目录： cd ../*** 进入root的根目录： cd ~=cd /root. 注意空格不得省略！ 文章浏览阅读2.5w次，点赞9次，收藏18次。\\ntitle:Windows10在cmd目录查看当前目录下的文件（命令：dir ...\\nlink:https://blog.csdn.net/naibozhuan3744/article/details/80500282\\ncontent:入上所述，在Windows系统的cmd中，要显示当前目录下的所有文件，只需要敲入命令 dir 就行，这条命令相当于linux系统下的命令 ls 。 参考内容： https://jingyan.baidu.com/article/215817f7e5f9b71eda1423f9.html. 三公子Tjq. 关注. 18. 24. 0. 专栏目录. DOS 命令 ： dir 获取 文件 夹下所有 文件 名. chicha8453的博客. 6586. 刚刚使用了一下 dir命令 输出 当前目录 下左右子 文件 名称： dir /s/b > files.txt 显示目录 中的 文件 和子 目录 列表。\\ntitle:windows 技术篇 - cmd命令查看当前目录下的所有文件和 ...\\nlink:https://blog.csdn.net/qq_38161040/article/details/118498697\\ncontent:dir /b /s 可以查看当前路径下的所有文件和文件夹以及子目录下的文件。 这是目录，直接在路径里输入 cmd 回车可以进入 cmd 的该路径下。 dir 的使用方法如下，cmd 里可以直接通过 help dir 来查看：_windows脚本访问文件夹及子文件夹\\ntitle:Linux LS 命令——如何列出目录中的文件 + 选项标志 ...\\nlink:https://www.freecodecamp.org/chinese/news/the-linux-ls-command-how-to-list-files-in-a-directory-with-option/\\ncontent:ls 命令用于在 Linux 和其他基于 Unix 的操作系统中列出文件或目录。 就像使用 GUI 在 文件浏览器 或 文件夹 中导航一样，默认情况下， ls 命令可以列出当前目录中的所有文件或目录，并通过命令行进一步操作它们。 启动终端并输入 ls 以查看实际效果：\\ntitle:Linux ls命令：查看目录下文件\\nlink:https://c.biancheng.net/view/721.html\\ncontent:ls 命令，list 的缩写，是最常见的目录操作命令，其主要功能是显示当前目录下的内容。 此命令的基本格式为： [root@localhost ~]# ls [选项] 目录名称. 表 1 列出了 ls 命令常用的选项以及各自的功能。 注意，当 ls 命令不使用任何选项时，默认只会显示非隐藏文件的名称，并以文件名进行排序，同时会根据文件的具体类型给文件名配色（蓝色显示目录，白色显示一般文件）。 除此之外，如果想使用 ls 命令显示更多内容，就需要使用表 1 相应的选项。 【例 1】\\ntitle:Linux 文件管理 - ls - 列出目录列表或文件列表 - 《Linux ...\\nlink:https://geekdaxue.co/read/lwmacct@linux/ls\\ncontent:ls 命令是一个经常用到的文件管理器，用于显示当前目录中文件和文件夹的列表。 它支持多种参数，可以按照文件的类型，大小，权限，时间戳等属性显示文件信息。\\ntitle:Linux 查找当前目录下 包含特定字符串 的所有文件 - 龙凌云端 ...\\nlink:https://www.cnblogs.com/miracle-luna/p/11037614.html\\ncontent:Linux 查找当前目录下 包含特定字符串 的所有文件. 使用 Linux 经常会遇到这种情况：只知道文件中包含某些特定的字符串，但是不知道具体的文件名。. 需要根据“特定的字符串”反向查找文件。. 示例 （路径文件如下）：. ./miracle/luna/a.txt. a.txt 文件中的 ...\\ntitle:Linux find 命令 - 菜鸟教程\\nlink:https://www.runoob.com/linux/linux-comm-find.html\\ncontent:查找当前目录中文件属主具有读、写权限，并且文件所属组的用户和其他用户具有读权限的文件：. 查找系统中所有文件长度为 0 的普通文件，并列出它们的完整路径：. 找并执行操作（例如删除）：. find /path/to/search -name - rm {} \\\\; 这个例子中， -exec 选项允许你 ...\", \"class_name\": \"AllToolsFinish\"}\n",
      "\n",
      "\u001B[1m> Finished chain.\u001B[0m\n"
     ]
    }
   ],
   "execution_count": 7
  }
 ],
 "metadata": {
  "kernelspec": {
   "display_name": "Python 3",
   "language": "python",
   "name": "python3"
  },
  "language_info": {
   "codemirror_mode": {
    "name": "ipython",
    "version": 2
   },
   "file_extension": ".py",
   "mimetype": "text/x-python",
   "name": "python",
   "nbconvert_exporter": "python",
   "pygments_lexer": "ipython2",
   "version": "2.7.6"
  }
 },
 "nbformat": 4,
 "nbformat_minor": 5
}
