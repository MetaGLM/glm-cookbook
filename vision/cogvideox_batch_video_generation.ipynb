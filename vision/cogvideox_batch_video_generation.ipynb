{
 "cells": [
  {
   "metadata": {},
   "cell_type": "markdown",
   "source": "# 开放平台视频生成批量操作",
   "id": "69c90e4b-5b1e-495d-8cda-fdcbad0257a3"
  },
  {
   "cell_type": "markdown",
   "id": "23ce7972-8843-480a-8166-eec6dbb2e78d",
   "metadata": {},
   "source": [
    "**This tutorial is Only in Chinese explanation**\n",
    "\n",
    "本项目是基于开放平台的视频生成批量操作，主要包括视频生成功能，通过本demo你可以快速生成多个一致性高度相同的视频备选素材。\n",
    "\n",
    "提交包含 `input_text`, `image_path` 字段的 `level_contexts.xlsx` 文件\n",
    "\n",
    "`input_text`：文本内容 \n",
    "\n",
    "`image_path`: 图片绝对路径\n",
    "\n",
    "输出结果为视频任务 id 的 csv文件，"
   ]
  },
  {
   "metadata": {},
   "cell_type": "markdown",
   "source": [
    "## 1. Set up the environment \n",
    "\n",
    "首先，我们需要安装最新版本的智谱AI SDK，只有 > 2.1.4 的SDK版本支持视频生成模型。 同时，我们设定好 API Key。"
   ],
   "id": "4bc849ec-8654-4b20-8287-b08b0b90dc54"
  },
  {
   "cell_type": "code",
   "execution_count": 6,
   "id": "a1eadf64-2b66-4921-a928-e0fec0c738ca",
   "metadata": {
    "scrolled": true
   },
   "outputs": [
    {
     "name": "stdout",
     "output_type": "stream",
     "text": [
      "Requirement already satisfied: zhipuai-platform-video in /media/gpt4-pdf-chatbot-langchain/pyenv-jsonformer/lib/python3.10/site-packages (0.0.4)\n",
      "Requirement already satisfied: aiofiles>=24.1.0 in /media/gpt4-pdf-chatbot-langchain/pyenv-jsonformer/lib/python3.10/site-packages (from zhipuai-platform-video) (24.1.0)\n",
      "Requirement already satisfied: datashaper>=0.0.49 in /media/gpt4-pdf-chatbot-langchain/pyenv-jsonformer/lib/python3.10/site-packages (from zhipuai-platform-video) (0.0.49)\n",
      "Requirement already satisfied: langchain-glm>=0.0.1 in /media/gpt4-pdf-chatbot-langchain/pyenv-jsonformer/lib/python3.10/site-packages (from zhipuai-platform-video) (0.0.2)\n",
      "Requirement already satisfied: openpyxl>=3.1.5 in /media/gpt4-pdf-chatbot-langchain/pyenv-jsonformer/lib/python3.10/site-packages (from zhipuai-platform-video) (3.1.5)\n",
      "Requirement already satisfied: zhipuai>=2.1.4 in /media/gpt4-pdf-chatbot-langchain/pyenv-jsonformer/lib/python3.10/site-packages (from zhipuai-platform-video) (2.1.4)\n",
      "Requirement already satisfied: diskcache<6.0.0,>=5.6.3 in /media/gpt4-pdf-chatbot-langchain/pyenv-jsonformer/lib/python3.10/site-packages (from datashaper>=0.0.49->zhipuai-platform-video) (5.6.3)\n",
      "Requirement already satisfied: jsonschema<5.0.0,>=4.21.1 in /media/gpt4-pdf-chatbot-langchain/pyenv-jsonformer/lib/python3.10/site-packages (from datashaper>=0.0.49->zhipuai-platform-video) (4.23.0)\n",
      "Requirement already satisfied: pandas<3.0.0,>=2.2.0 in /media/gpt4-pdf-chatbot-langchain/pyenv-jsonformer/lib/python3.10/site-packages (from datashaper>=0.0.49->zhipuai-platform-video) (2.2.2)\n",
      "Requirement already satisfied: pyarrow<16.0.0,>=15.0.0 in /media/gpt4-pdf-chatbot-langchain/pyenv-jsonformer/lib/python3.10/site-packages (from datashaper>=0.0.49->zhipuai-platform-video) (15.0.2)\n",
      "Requirement already satisfied: langchain<0.3,>=0.2.2 in /media/gpt4-pdf-chatbot-langchain/pyenv-jsonformer/lib/python3.10/site-packages (from langchain-glm>=0.0.1->zhipuai-platform-video) (0.2.11)\n",
      "Requirement already satisfied: langchain-community<0.3,>=0.2.0 in /media/gpt4-pdf-chatbot-langchain/pyenv-jsonformer/lib/python3.10/site-packages (from langchain-glm>=0.0.1->zhipuai-platform-video) (0.2.10)\n",
      "Requirement already satisfied: langchain-experimental<0.3,>=0.0.58 in /media/gpt4-pdf-chatbot-langchain/pyenv-jsonformer/lib/python3.10/site-packages (from langchain-glm>=0.0.1->zhipuai-platform-video) (0.0.63)\n",
      "Requirement already satisfied: langchainhub<0.3,>=0.1.14 in /media/gpt4-pdf-chatbot-langchain/pyenv-jsonformer/lib/python3.10/site-packages (from langchain-glm>=0.0.1->zhipuai-platform-video) (0.1.20)\n",
      "Requirement already satisfied: et-xmlfile in /media/gpt4-pdf-chatbot-langchain/pyenv-jsonformer/lib/python3.10/site-packages (from openpyxl>=3.1.5->zhipuai-platform-video) (1.1.0)\n",
      "Requirement already satisfied: cachetools>=4.2.2 in /media/gpt4-pdf-chatbot-langchain/pyenv-jsonformer/lib/python3.10/site-packages (from zhipuai>=2.1.4->zhipuai-platform-video) (5.3.2)\n",
      "Requirement already satisfied: httpx>=0.23.0 in /media/gpt4-pdf-chatbot-langchain/pyenv-jsonformer/lib/python3.10/site-packages (from zhipuai>=2.1.4->zhipuai-platform-video) (0.27.0)\n",
      "Requirement already satisfied: pydantic<3.0,>=1.9.0 in /media/gpt4-pdf-chatbot-langchain/pyenv-jsonformer/lib/python3.10/site-packages (from zhipuai>=2.1.4->zhipuai-platform-video) (2.7.2)\n",
      "Requirement already satisfied: pydantic-core>=2.14.6 in /media/gpt4-pdf-chatbot-langchain/pyenv-jsonformer/lib/python3.10/site-packages (from zhipuai>=2.1.4->zhipuai-platform-video) (2.18.3)\n",
      "Requirement already satisfied: pyjwt<2.9.0,>=2.8.0 in /media/gpt4-pdf-chatbot-langchain/pyenv-jsonformer/lib/python3.10/site-packages (from zhipuai>=2.1.4->zhipuai-platform-video) (2.8.0)\n",
      "Requirement already satisfied: anyio in /media/gpt4-pdf-chatbot-langchain/pyenv-jsonformer/lib/python3.10/site-packages (from httpx>=0.23.0->zhipuai>=2.1.4->zhipuai-platform-video) (4.4.0)\n",
      "Requirement already satisfied: certifi in /media/gpt4-pdf-chatbot-langchain/pyenv-jsonformer/lib/python3.10/site-packages (from httpx>=0.23.0->zhipuai>=2.1.4->zhipuai-platform-video) (2024.2.2)\n",
      "Requirement already satisfied: httpcore==1.* in /media/gpt4-pdf-chatbot-langchain/pyenv-jsonformer/lib/python3.10/site-packages (from httpx>=0.23.0->zhipuai>=2.1.4->zhipuai-platform-video) (1.0.5)\n",
      "Requirement already satisfied: idna in /media/gpt4-pdf-chatbot-langchain/pyenv-jsonformer/lib/python3.10/site-packages (from httpx>=0.23.0->zhipuai>=2.1.4->zhipuai-platform-video) (3.7)\n",
      "Requirement already satisfied: sniffio in /media/gpt4-pdf-chatbot-langchain/pyenv-jsonformer/lib/python3.10/site-packages (from httpx>=0.23.0->zhipuai>=2.1.4->zhipuai-platform-video) (1.3.1)\n",
      "Requirement already satisfied: h11<0.15,>=0.13 in /media/gpt4-pdf-chatbot-langchain/pyenv-jsonformer/lib/python3.10/site-packages (from httpcore==1.*->httpx>=0.23.0->zhipuai>=2.1.4->zhipuai-platform-video) (0.14.0)\n",
      "Requirement already satisfied: attrs>=22.2.0 in /media/gpt4-pdf-chatbot-langchain/pyenv-jsonformer/lib/python3.10/site-packages (from jsonschema<5.0.0,>=4.21.1->datashaper>=0.0.49->zhipuai-platform-video) (23.2.0)\n",
      "Requirement already satisfied: jsonschema-specifications>=2023.03.6 in /media/gpt4-pdf-chatbot-langchain/pyenv-jsonformer/lib/python3.10/site-packages (from jsonschema<5.0.0,>=4.21.1->datashaper>=0.0.49->zhipuai-platform-video) (2023.11.2)\n",
      "Requirement already satisfied: referencing>=0.28.4 in /media/gpt4-pdf-chatbot-langchain/pyenv-jsonformer/lib/python3.10/site-packages (from jsonschema<5.0.0,>=4.21.1->datashaper>=0.0.49->zhipuai-platform-video) (0.32.0)\n",
      "Requirement already satisfied: rpds-py>=0.7.1 in /media/gpt4-pdf-chatbot-langchain/pyenv-jsonformer/lib/python3.10/site-packages (from jsonschema<5.0.0,>=4.21.1->datashaper>=0.0.49->zhipuai-platform-video) (0.10.6)\n",
      "Requirement already satisfied: PyYAML>=5.3 in /media/gpt4-pdf-chatbot-langchain/pyenv-jsonformer/lib/python3.10/site-packages (from langchain<0.3,>=0.2.2->langchain-glm>=0.0.1->zhipuai-platform-video) (6.0.1)\n",
      "Requirement already satisfied: SQLAlchemy<3,>=1.4 in /media/gpt4-pdf-chatbot-langchain/pyenv-jsonformer/lib/python3.10/site-packages (from langchain<0.3,>=0.2.2->langchain-glm>=0.0.1->zhipuai-platform-video) (2.0.30)\n",
      "Requirement already satisfied: aiohttp<4.0.0,>=3.8.3 in /media/gpt4-pdf-chatbot-langchain/pyenv-jsonformer/lib/python3.10/site-packages (from langchain<0.3,>=0.2.2->langchain-glm>=0.0.1->zhipuai-platform-video) (3.9.5)\n",
      "Requirement already satisfied: async-timeout<5.0.0,>=4.0.0 in /media/gpt4-pdf-chatbot-langchain/pyenv-jsonformer/lib/python3.10/site-packages (from langchain<0.3,>=0.2.2->langchain-glm>=0.0.1->zhipuai-platform-video) (4.0.3)\n",
      "Requirement already satisfied: langchain-core<0.3.0,>=0.2.23 in /media/gpt4-pdf-chatbot-langchain/pyenv-jsonformer/lib/python3.10/site-packages (from langchain<0.3,>=0.2.2->langchain-glm>=0.0.1->zhipuai-platform-video) (0.2.24)\n",
      "Requirement already satisfied: langchain-text-splitters<0.3.0,>=0.2.0 in /media/gpt4-pdf-chatbot-langchain/pyenv-jsonformer/lib/python3.10/site-packages (from langchain<0.3,>=0.2.2->langchain-glm>=0.0.1->zhipuai-platform-video) (0.2.0)\n",
      "Requirement already satisfied: langsmith<0.2.0,>=0.1.17 in /media/gpt4-pdf-chatbot-langchain/pyenv-jsonformer/lib/python3.10/site-packages (from langchain<0.3,>=0.2.2->langchain-glm>=0.0.1->zhipuai-platform-video) (0.1.93)\n",
      "Requirement already satisfied: numpy<2,>=1 in /media/gpt4-pdf-chatbot-langchain/pyenv-jsonformer/lib/python3.10/site-packages (from langchain<0.3,>=0.2.2->langchain-glm>=0.0.1->zhipuai-platform-video) (1.26.4)\n",
      "Requirement already satisfied: requests<3,>=2 in /media/gpt4-pdf-chatbot-langchain/pyenv-jsonformer/lib/python3.10/site-packages (from langchain<0.3,>=0.2.2->langchain-glm>=0.0.1->zhipuai-platform-video) (2.32.3)\n",
      "Requirement already satisfied: tenacity!=8.4.0,<9.0.0,>=8.1.0 in /media/gpt4-pdf-chatbot-langchain/pyenv-jsonformer/lib/python3.10/site-packages (from langchain<0.3,>=0.2.2->langchain-glm>=0.0.1->zhipuai-platform-video) (8.3.0)\n",
      "Requirement already satisfied: dataclasses-json<0.7,>=0.5.7 in /media/gpt4-pdf-chatbot-langchain/pyenv-jsonformer/lib/python3.10/site-packages (from langchain-community<0.3,>=0.2.0->langchain-glm>=0.0.1->zhipuai-platform-video) (0.6.6)\n",
      "Requirement already satisfied: packaging<25,>=23.2 in /media/gpt4-pdf-chatbot-langchain/pyenv-jsonformer/lib/python3.10/site-packages (from langchainhub<0.3,>=0.1.14->langchain-glm>=0.0.1->zhipuai-platform-video) (23.2)\n",
      "Requirement already satisfied: types-requests<3.0.0.0,>=2.31.0.2 in /media/gpt4-pdf-chatbot-langchain/pyenv-jsonformer/lib/python3.10/site-packages (from langchainhub<0.3,>=0.1.14->langchain-glm>=0.0.1->zhipuai-platform-video) (2.32.0.20240523)\n",
      "Requirement already satisfied: python-dateutil>=2.8.2 in /media/gpt4-pdf-chatbot-langchain/pyenv-jsonformer/lib/python3.10/site-packages (from pandas<3.0.0,>=2.2.0->datashaper>=0.0.49->zhipuai-platform-video) (2.9.0.post0)\n",
      "Requirement already satisfied: pytz>=2020.1 in /media/gpt4-pdf-chatbot-langchain/pyenv-jsonformer/lib/python3.10/site-packages (from pandas<3.0.0,>=2.2.0->datashaper>=0.0.49->zhipuai-platform-video) (2024.1)\n",
      "Requirement already satisfied: tzdata>=2022.7 in /media/gpt4-pdf-chatbot-langchain/pyenv-jsonformer/lib/python3.10/site-packages (from pandas<3.0.0,>=2.2.0->datashaper>=0.0.49->zhipuai-platform-video) (2024.1)\n",
      "Requirement already satisfied: annotated-types>=0.4.0 in /media/gpt4-pdf-chatbot-langchain/pyenv-jsonformer/lib/python3.10/site-packages (from pydantic<3.0,>=1.9.0->zhipuai>=2.1.4->zhipuai-platform-video) (0.7.0)\n",
      "Requirement already satisfied: typing-extensions>=4.6.1 in /media/gpt4-pdf-chatbot-langchain/pyenv-jsonformer/lib/python3.10/site-packages (from pydantic<3.0,>=1.9.0->zhipuai>=2.1.4->zhipuai-platform-video) (4.12.0)\n",
      "Requirement already satisfied: aiosignal>=1.1.2 in /media/gpt4-pdf-chatbot-langchain/pyenv-jsonformer/lib/python3.10/site-packages (from aiohttp<4.0.0,>=3.8.3->langchain<0.3,>=0.2.2->langchain-glm>=0.0.1->zhipuai-platform-video) (1.3.1)\n",
      "Requirement already satisfied: frozenlist>=1.1.1 in /media/gpt4-pdf-chatbot-langchain/pyenv-jsonformer/lib/python3.10/site-packages (from aiohttp<4.0.0,>=3.8.3->langchain<0.3,>=0.2.2->langchain-glm>=0.0.1->zhipuai-platform-video) (1.4.1)\n",
      "Requirement already satisfied: multidict<7.0,>=4.5 in /media/gpt4-pdf-chatbot-langchain/pyenv-jsonformer/lib/python3.10/site-packages (from aiohttp<4.0.0,>=3.8.3->langchain<0.3,>=0.2.2->langchain-glm>=0.0.1->zhipuai-platform-video) (6.0.5)\n",
      "Requirement already satisfied: yarl<2.0,>=1.0 in /media/gpt4-pdf-chatbot-langchain/pyenv-jsonformer/lib/python3.10/site-packages (from aiohttp<4.0.0,>=3.8.3->langchain<0.3,>=0.2.2->langchain-glm>=0.0.1->zhipuai-platform-video) (1.9.4)\n",
      "Requirement already satisfied: marshmallow<4.0.0,>=3.18.0 in /media/gpt4-pdf-chatbot-langchain/pyenv-jsonformer/lib/python3.10/site-packages (from dataclasses-json<0.7,>=0.5.7->langchain-community<0.3,>=0.2.0->langchain-glm>=0.0.1->zhipuai-platform-video) (3.21.2)\n",
      "Requirement already satisfied: typing-inspect<1,>=0.4.0 in /media/gpt4-pdf-chatbot-langchain/pyenv-jsonformer/lib/python3.10/site-packages (from dataclasses-json<0.7,>=0.5.7->langchain-community<0.3,>=0.2.0->langchain-glm>=0.0.1->zhipuai-platform-video) (0.9.0)\n",
      "Requirement already satisfied: jsonpatch<2.0,>=1.33 in /media/gpt4-pdf-chatbot-langchain/pyenv-jsonformer/lib/python3.10/site-packages (from langchain-core<0.3.0,>=0.2.23->langchain<0.3,>=0.2.2->langchain-glm>=0.0.1->zhipuai-platform-video) (1.33)\n",
      "Requirement already satisfied: orjson<4.0.0,>=3.9.14 in /media/gpt4-pdf-chatbot-langchain/pyenv-jsonformer/lib/python3.10/site-packages (from langsmith<0.2.0,>=0.1.17->langchain<0.3,>=0.2.2->langchain-glm>=0.0.1->zhipuai-platform-video) (3.10.3)\n",
      "Requirement already satisfied: six>=1.5 in /media/gpt4-pdf-chatbot-langchain/pyenv-jsonformer/lib/python3.10/site-packages (from python-dateutil>=2.8.2->pandas<3.0.0,>=2.2.0->datashaper>=0.0.49->zhipuai-platform-video) (1.16.0)\n",
      "Requirement already satisfied: charset-normalizer<4,>=2 in /media/gpt4-pdf-chatbot-langchain/pyenv-jsonformer/lib/python3.10/site-packages (from requests<3,>=2->langchain<0.3,>=0.2.2->langchain-glm>=0.0.1->zhipuai-platform-video) (3.3.2)\n",
      "Requirement already satisfied: urllib3<3,>=1.21.1 in /media/gpt4-pdf-chatbot-langchain/pyenv-jsonformer/lib/python3.10/site-packages (from requests<3,>=2->langchain<0.3,>=0.2.2->langchain-glm>=0.0.1->zhipuai-platform-video) (2.2.1)\n",
      "Requirement already satisfied: greenlet!=0.4.17 in /media/gpt4-pdf-chatbot-langchain/pyenv-jsonformer/lib/python3.10/site-packages (from SQLAlchemy<3,>=1.4->langchain<0.3,>=0.2.2->langchain-glm>=0.0.1->zhipuai-platform-video) (3.0.3)\n",
      "Requirement already satisfied: exceptiongroup>=1.0.2 in /media/gpt4-pdf-chatbot-langchain/pyenv-jsonformer/lib/python3.10/site-packages (from anyio->httpx>=0.23.0->zhipuai>=2.1.4->zhipuai-platform-video) (1.2.1)\n",
      "Requirement already satisfied: jsonpointer>=1.9 in /media/gpt4-pdf-chatbot-langchain/pyenv-jsonformer/lib/python3.10/site-packages (from jsonpatch<2.0,>=1.33->langchain-core<0.3.0,>=0.2.23->langchain<0.3,>=0.2.2->langchain-glm>=0.0.1->zhipuai-platform-video) (2.4)\n",
      "Requirement already satisfied: mypy-extensions>=0.3.0 in /media/gpt4-pdf-chatbot-langchain/pyenv-jsonformer/lib/python3.10/site-packages (from typing-inspect<1,>=0.4.0->dataclasses-json<0.7,>=0.5.7->langchain-community<0.3,>=0.2.0->langchain-glm>=0.0.1->zhipuai-platform-video) (1.0.0)\n",
      "Note: you may need to restart the kernel to use updated packages.\n"
     ]
    }
   ],
   "source": "!pip install zhipuai-platform-video -U"
  },
  {
   "cell_type": "code",
   "execution_count": 10,
   "id": "86263934-1a45-434d-baa2-6909c81bfc4c",
   "metadata": {},
   "outputs": [],
   "source": [
    "import os\n",
    "\n",
    "os.environ[\"ZHIPUAI_API_KEY\"] = \"your zhipuai api key\""
   ]
  },
  {
   "cell_type": "markdown",
   "id": "0a97f2ae-416c-4101-9327-a1157525bec6",
   "metadata": {},
   "source": [
    "# 2.准备数据\n",
    "\n",
    "基础表格里需要准备的数据包含了 `input_text`, `image_path` 字段，\n",
    "`input_text` 为生成提示词，用于控制镜头以及\n",
    "`image_path` 为起始帧的图片，这个图片可以不存在，使用 `request_img` 命令参数控制是否必须采用起始帧，默认必须存在\n"
   ]
  },
  {
   "cell_type": "code",
   "execution_count": 11,
   "id": "12c2516c-b63e-40c8-9323-8a3de2e7fa2f",
   "metadata": {},
   "outputs": [
    {
     "data": {
      "text/plain": [
       "'/media/gpt4-pdf-chatbot-langchain/glm-cookbook/vision/input/'"
      ]
     },
     "execution_count": 11,
     "metadata": {},
     "output_type": "execute_result"
    }
   ],
   "source": [
    "import pandas as pd\n",
    "import os\n",
    "from pathlib import Path\n",
    " \n",
    "sample_data_dir = os.path.join(\n",
    "    Path().cwd(), \"input/image\"\n",
    ")\n",
    "init_dataset = pd.DataFrame([\n",
    "    {\n",
    "        \"input_text\": \"写实风格，风吹动女孩的头发，女孩悲伤的看着前方@@1.jpg\",\n",
    "        \"image_path\": os.path.join(sample_data_dir,\"1.png\")\n",
    "    },\n",
    "    {\n",
    "        \"input_text\": \"写实风格，女孩转头看向左方@@2.jpg\",\n",
    "        \"image_path\":  os.path.join(sample_data_dir,\"1.png\")\n",
    "    },\n",
    "    {\n",
    "        \"input_text\": \"写实风格，女人眨眼睛，眼睛中有漂亮的光影流转@@3.jpg\",\n",
    "        \"image_path\":  os.path.join(sample_data_dir,\"1.png\")\n",
    "    },\n",
    "    {\n",
    "        \"input_text\": \"写实风格，太阳缓缓升起，女人眨眼睛@@4.jpg\",\n",
    "        \"image_path\":  os.path.join(sample_data_dir,\"1.png\")\n",
    "    },\n",
    "    {\n",
    "        \"input_text\": \"写实风格，女人眨眼睛，远处的太阳逐渐升起@@5.jpg\",\n",
    "        \"image_path\":  os.path.join(sample_data_dir,\"1.png\")\n",
    "    }\n",
    "])\n",
    "\n",
    "\n",
    "sample_data_dir = os.path.join(\n",
    "    Path().cwd(), \"input/\"\n",
    ")\n",
    "if not os.path.exists(sample_data_dir):\n",
    "    os.makedirs(sample_data_dir)\n",
    "init_dataset.to_excel(f'{sample_data_dir}/dataset.xlsx', index=False)\n",
    "sample_data_dir"
   ]
  },
  {
   "cell_type": "markdown",
   "id": "a3608837-819b-4fbd-92ea-2eb8481990a2",
   "metadata": {},
   "source": [
    "\n",
    "# 3. 运行\n",
    "\n",
    "**由于平台没有当前任务进度的获取方式**\n",
    "\n",
    "**这里会出现1302错误，你可以选择多尝试几次，继续任务**\n",
    "\n",
    "**或者联系商务**\n",
    "\n",
    "在同一个目录下可以断点继续任务，会自动跳过已经生成的任务, 下面是参数说明\n",
    "\n",
    "**input_excel**：为包含input_text,image_path字段的的level_contexts.xlsx文件\n",
    "\n",
    "**output_path**：为输出文件路径，生成 video_report.csv文件\n",
    "\n",
    "根据需要配置线程\n",
    "**request_img**： 是否必须采用起始帧。true,false\n",
    "\n",
    "**prompt_num_threads**: 提示词线程数,默认2\n",
    "\n",
    "**video_num_threads**: 视频生成线程数,默认1\n"
   ]
  },
  {
   "cell_type": "code",
   "execution_count": 14,
   "id": "bb22b727-f53c-40c5-9b58-d2868e8b2edc",
   "metadata": {
    "scrolled": true
   },
   "outputs": [
    {
     "name": "stdout",
     "output_type": "stream",
     "text": [
      "Running VideoStrategyGenerator:VideoStrategyGenerator-4ab9ed565bc98ceebb772abe56ab0319 None\n",
      "2024-07-29 14:59:08,376 - httpx - INFO - HTTP Request: POST https://open.bigmodel.cn/api/paas/v4/videos/generations \"HTTP/1.1 200 OK\"\n",
      "Running VideoStrategyGenerator:VideoStrategyGenerator-ec931bb2f04fd3e79318ec343564ea87 None\n",
      "2024-07-29 14:59:16,088 - httpx - INFO - HTTP Request: POST https://open.bigmodel.cn/api/paas/v4/videos/generations \"HTTP/1.1 200 OK\"\n"
     ]
    }
   ],
   "source": [
    "output_data_dir = os.path.join(\n",
    "    Path().cwd(), \"output/\"\n",
    ")\n",
    "if not os.path.exists(output_data_dir):\n",
    "    os.makedirs(output_data_dir)\n",
    "    \n",
    "# 定义变量\n",
    "input_excel = f'{sample_data_dir}/dataset.xlsx'\n",
    "output_path = output_data_dir\n",
    "\n",
    "# 使用 f-string 将变量传递给系统命令\n",
    "command = f\"python -m zhipuai_platform_video.start --input_excel {input_excel} --output_path {output_path}\"\n",
    "!{command}"
   ]
  },
  {
   "cell_type": "markdown",
   "id": "5fc499e4-fc17-4046-bb2a-9b6e847002f8",
   "metadata": {},
   "source": [
    "# 4. 提示词改写\n",
    "\n",
    "程序会对input_text的内容进行改写，通过prompt_report文件可以查看效果，如果你觉得效果不好，删除**cache_data/VideoStrategyPrompt**文件夹可重试"
   ]
  },
  {
   "cell_type": "code",
   "execution_count": 27,
   "id": "d9d41c30-5fde-41bc-84c3-1a389793bddf",
   "metadata": {},
   "outputs": [
    {
     "data": {
      "text/html": [
       "<div>\n",
       "<style scoped>\n",
       "    .dataframe tbody tr th:only-of-type {\n",
       "        vertical-align: middle;\n",
       "    }\n",
       "\n",
       "    .dataframe tbody tr th {\n",
       "        vertical-align: top;\n",
       "    }\n",
       "\n",
       "    .dataframe thead th {\n",
       "        text-align: right;\n",
       "    }\n",
       "</style>\n",
       "<table border=\"1\" class=\"dataframe\">\n",
       "  <thead>\n",
       "    <tr style=\"text-align: right;\">\n",
       "      <th></th>\n",
       "      <th>input_text</th>\n",
       "      <th>image_path</th>\n",
       "      <th>video_prompt</th>\n",
       "    </tr>\n",
       "  </thead>\n",
       "  <tbody>\n",
       "    <tr>\n",
       "      <th>0</th>\n",
       "      <td>写实风格，风吹动女孩的头发，女孩悲伤的看着前方@@1.jpg</td>\n",
       "      <td>/media/gpt4-pdf-chatbot-langchain/glm-cookbook...</td>\n",
       "      <td>在一个静谧的午后，写实风格的镜头捕捉到了这样一个画面：微风轻轻拂过，带着夏日尾声的清爽，轻轻...</td>\n",
       "    </tr>\n",
       "    <tr>\n",
       "      <th>1</th>\n",
       "      <td>写实风格，女孩转头看向左方@@2.jpg</td>\n",
       "      <td>/media/gpt4-pdf-chatbot-langchain/glm-cookbook...</td>\n",
       "      <td>在这个写实风格的场景中，我们可以这样描述女孩的动作：\\n\\n女孩静静地站在那里，突然，她的头...</td>\n",
       "    </tr>\n",
       "    <tr>\n",
       "      <th>2</th>\n",
       "      <td>写实风格，女人眨眼睛，眼睛中有漂亮的光影流转@@3.jpg</td>\n",
       "      <td>/media/gpt4-pdf-chatbot-langchain/glm-cookbook...</td>\n",
       "      <td>在那个静谧的午后，阳光透过窗户洒在室内的角落，形成斑驳的光影。女人轻轻地眨了眨眼睛，随着眼睑...</td>\n",
       "    </tr>\n",
       "    <tr>\n",
       "      <th>3</th>\n",
       "      <td>写实风格，太阳缓缓升起，女人眨眼睛@@4.jpg</td>\n",
       "      <td>/media/gpt4-pdf-chatbot-langchain/glm-cookbook...</td>\n",
       "      <td>在这个写实风格的场景中，画面呈现的是清晨时分，太阳刚刚从地平线缓缓升起，阳光逐渐洒满大地。以...</td>\n",
       "    </tr>\n",
       "    <tr>\n",
       "      <th>4</th>\n",
       "      <td>写实风格，女人眨眼睛，远处的太阳逐渐升起@@5.jpg</td>\n",
       "      <td>/media/gpt4-pdf-chatbot-langchain/glm-cookbook...</td>\n",
       "      <td>在这个场景中，一位超写实画家正专注于描绘闭着眼睛的女人的肖像画。画家的每一笔每一划都非常细腻...</td>\n",
       "    </tr>\n",
       "  </tbody>\n",
       "</table>\n",
       "</div>"
      ],
      "text/plain": [
       "                       input_text  \\\n",
       "0  写实风格，风吹动女孩的头发，女孩悲伤的看着前方@@1.jpg   \n",
       "1            写实风格，女孩转头看向左方@@2.jpg   \n",
       "2   写实风格，女人眨眼睛，眼睛中有漂亮的光影流转@@3.jpg   \n",
       "3        写实风格，太阳缓缓升起，女人眨眼睛@@4.jpg   \n",
       "4     写实风格，女人眨眼睛，远处的太阳逐渐升起@@5.jpg   \n",
       "\n",
       "                                          image_path  \\\n",
       "0  /media/gpt4-pdf-chatbot-langchain/glm-cookbook...   \n",
       "1  /media/gpt4-pdf-chatbot-langchain/glm-cookbook...   \n",
       "2  /media/gpt4-pdf-chatbot-langchain/glm-cookbook...   \n",
       "3  /media/gpt4-pdf-chatbot-langchain/glm-cookbook...   \n",
       "4  /media/gpt4-pdf-chatbot-langchain/glm-cookbook...   \n",
       "\n",
       "                                        video_prompt  \n",
       "0  在一个静谧的午后，写实风格的镜头捕捉到了这样一个画面：微风轻轻拂过，带着夏日尾声的清爽，轻轻...  \n",
       "1  在这个写实风格的场景中，我们可以这样描述女孩的动作：\\n\\n女孩静静地站在那里，突然，她的头...  \n",
       "2  在那个静谧的午后，阳光透过窗户洒在室内的角落，形成斑驳的光影。女人轻轻地眨了眨眼睛，随着眼睑...  \n",
       "3  在这个写实风格的场景中，画面呈现的是清晨时分，太阳刚刚从地平线缓缓升起，阳光逐渐洒满大地。以...  \n",
       "4  在这个场景中，一位超写实画家正专注于描绘闭着眼睛的女人的肖像画。画家的每一笔每一划都非常细腻...  "
      ]
     },
     "execution_count": 27,
     "metadata": {},
     "output_type": "execute_result"
    }
   ],
   "source": [
    "prompt_report_csv = f'{output_data_dir}/prompt_report.csv'\n",
    "prompt_report = pd.read_csv(prompt_report_csv)\n",
    "prompt_report"
   ]
  },
  {
   "cell_type": "markdown",
   "id": "f3735d97-76f2-43dc-87eb-5a05cce06c53",
   "metadata": {},
   "source": [
    "# 5.获取任务结果 \n",
    "上方数据执行完成之后会生成video_report文件，其中包含任务id，这里可以根据id拉取视频链接\n",
    "\n",
    "**出现Error processing video_task_id:任务可能在排队处理，多尝试几次**\n",
    "\n",
    "参数说明\n",
    "\n",
    "**input_excel**： video_report.csv文件\n",
    "\n",
    "**output_path**：为输出文件路径 生成video_pull_report.csv文件\n",
    "\n",
    "会自动跳过已经获取的任务, 删除根目录cache_data/VideoPullGenerator的文件可以重新获取\n",
    "\n",
    "根据需要配置线程\n",
    "\n",
    "**num_threads**: 线程数,默认2"
   ]
  },
  {
   "cell_type": "code",
   "execution_count": 25,
   "id": "1e1e3850-be6e-43a7-954d-592e7a094c98",
   "metadata": {},
   "outputs": [
    {
     "name": "stdout",
     "output_type": "stream",
     "text": [
      "VideoPullGenerator:VideoPullGenerator-4709c5b91cf16cc27cb145fd46cefa03 {'video_task_id': '1000088875824486025586417'}\n",
      "2024-07-29 15:08:04,422 - httpx - INFO - HTTP Request: GET https://open.bigmodel.cn/api/paas/v4/async-result/1000088875824486025586417 \"HTTP/1.1 200 OK\"\n",
      "VideoPullGenerator:VideoPullGenerator-80e181867c6209c17c22a712a0ea85c5 {'video_task_id': '1000088875819916179994141'}\n",
      "2024-07-29 15:08:04,582 - httpx - INFO - HTTP Request: GET https://open.bigmodel.cn/api/paas/v4/async-result/1000088875819916179994141 \"HTTP/1.1 200 OK\"\n"
     ]
    }
   ],
   "source": [
    "task_video_csv = f'{output_data_dir}/video_report.csv'\n",
    "output_path = output_data_dir\n",
    "command = f\"python -m zhipuai_platform_video.video_pull --task_video_csv {task_video_csv} --output_path {output_path}\"\n",
    "!{command}"
   ]
  },
  {
   "cell_type": "markdown",
   "id": "a4e93e8a-15cc-4e36-870a-573101c632cc",
   "metadata": {},
   "source": [
    "# 6.查看视频效果\n",
    "\n",
    "通过video_pull_report_csv中的链接可以预览视频，这在您本地运行之后可以正常查看。"
   ]
  },
  {
   "cell_type": "code",
   "execution_count": 26,
   "id": "783b3f42-04fb-4904-a960-99c914eee5b7",
   "metadata": {},
   "outputs": [
    {
     "data": {
      "text/html": [
       "<h3>Video ID: 1000088875819881820229618</h3><video width=\"400\" controls><source src=\"https://sfile.chatglm.cn/testpath/video/aa4a6dbb-9cd9-586d-b7e6-a0d96d4bc7ff_0.mp4\" type=\"video/mp4\">Your browser does not support the video tag.</video>"
      ],
      "text/plain": [
       "<IPython.core.display.HTML object>"
      ]
     },
     "metadata": {},
     "output_type": "display_data"
    },
    {
     "data": {
      "text/html": [
       "<h3>Video ID: 1000088875819881820229630</h3><video width=\"400\" controls><source src=\"https://sfile.chatglm.cn/testpath/video/4d9249fc-a763-518f-ab3b-4f315f0be79b_0.mp4\" type=\"video/mp4\">Your browser does not support the video tag.</video>"
      ],
      "text/plain": [
       "<IPython.core.display.HTML object>"
      ]
     },
     "metadata": {},
     "output_type": "display_data"
    },
    {
     "data": {
      "text/html": [
       "<h3>Video ID: 1000088875823901910025388</h3><video width=\"400\" controls><source src=\"https://sfile.chatglm.cn/testpath/video/ab09f442-d08a-5528-9797-ad124c584e76_0.mp4\" type=\"video/mp4\">Your browser does not support the video tag.</video>"
      ],
      "text/plain": [
       "<IPython.core.display.HTML object>"
      ]
     },
     "metadata": {},
     "output_type": "display_data"
    },
    {
     "data": {
      "text/html": [
       "<h3>Video ID: 1000088875824486025586417</h3><video width=\"400\" controls><source src=\"https://sfile.chatglm.cn/testpath/video/35d659b7-7301-59eb-af64-26f4a1775372_0.mp4\" type=\"video/mp4\">Your browser does not support the video tag.</video>"
      ],
      "text/plain": [
       "<IPython.core.display.HTML object>"
      ]
     },
     "metadata": {},
     "output_type": "display_data"
    },
    {
     "data": {
      "text/html": [
       "<h3>Video ID: 1000088875819916179994141</h3><video width=\"400\" controls><source src=\"https://sfile.chatglm.cn/testpath/video/01c85ca2-28c5-5a05-a6cf-7ac4a9c70973_0.mp4\" type=\"video/mp4\">Your browser does not support the video tag.</video>"
      ],
      "text/plain": [
       "<IPython.core.display.HTML object>"
      ]
     },
     "metadata": {},
     "output_type": "display_data"
    }
   ],
   "source": [
    "import pandas as pd\n",
    "from IPython.display import display, HTML\n",
    "\n",
    "video_pull_report_csv = f'{output_data_dir}/video_pull_report.csv'\n",
    "\n",
    "# Load the data\n",
    "\n",
    "video_pull_report = pd.read_csv(video_pull_report_csv)\n",
    " \n",
    "# Extract video URLs from the 'result' column\n",
    "video_pull_report['video_url'] = video_pull_report['result'].apply(lambda x: eval(x)[0]['url'])\n",
    "\n",
    "# Display videos with their IDs\n",
    "for index, row in video_pull_report.iterrows():\n",
    "    video_id = row['video_task_id']\n",
    "    video_url = row['video_url']\n",
    "    display(HTML(f'<h3>Video ID: {video_id}</h3><video width=\"400\" controls><source src=\"{video_url}\" type=\"video/mp4\">Your browser does not support the video tag.</video>'))"
   ]
  }
 ],
 "metadata": {
  "kernelspec": {
   "display_name": "Python 3 (ipykernel)",
   "language": "python",
   "name": "python3"
  },
  "language_info": {
   "codemirror_mode": {
    "name": "ipython",
    "version": 3
   },
   "file_extension": ".py",
   "mimetype": "text/x-python",
   "name": "python",
   "nbconvert_exporter": "python",
   "pygments_lexer": "ipython3",
   "version": "3.10.13"
  }
 },
 "nbformat": 4,
 "nbformat_minor": 5
}
