{
 "cells": [
  {
   "cell_type": "markdown",
   "source": [
    "# Python SDK to access the ZhipuAI CogVideoX Sora-Type Video generation API\n",
    "\n",
    "**This tutorial is available in English and is attached below the Chinese explanation**\n",
    "\n",
    "此代码将讲述如何使用Python SDK 调用 CogVideoX, 完成视频生成工作。\n",
    "\n",
    "This code will describe how to use the Python SDK to call CogVideoX and complete the video generation work."
   ],
   "metadata": {
    "collapsed": false
   },
   "id": "b9d2202d7ce04a48"
  },
  {
   "metadata": {},
   "cell_type": "markdown",
   "source": [
    "## 1. Set up the environment \n",
    "首先，我们需要安装最新版本的智谱AI SDK，只有 > 2.1.4 的SDK版本支持视频生成模型。\n",
    "\n",
    "First, we need to install the latest version of the ZhipuAI SDK. Only SDK versions > 2.1.4 support video generation models."
   ],
   "id": "ce47e6fa6d8a7a94"
  },
  {
   "metadata": {
    "ExecuteTime": {
     "end_time": "2024-07-26T09:41:07.302176Z",
     "start_time": "2024-07-26T09:41:05.419870Z"
    }
   },
   "cell_type": "code",
   "source": "!pip install --upgrade zhipuai",
   "id": "6d5fd3be59f15a13",
   "outputs": [
    {
     "name": "stdout",
     "output_type": "stream",
     "text": [
      "Requirement already satisfied: zhipuai in /Users/zr/Code/glm-cookbook/venv/lib/python3.9/site-packages (2.1.4)\r\n",
      "Requirement already satisfied: cachetools>=4.2.2 in /Users/zr/Code/glm-cookbook/venv/lib/python3.9/site-packages (from zhipuai) (5.3.2)\r\n",
      "Requirement already satisfied: httpx>=0.23.0 in /Users/zr/Code/glm-cookbook/venv/lib/python3.9/site-packages (from zhipuai) (0.27.0)\r\n",
      "Requirement already satisfied: pydantic<3.0,>=1.9.0 in /Users/zr/Code/glm-cookbook/venv/lib/python3.9/site-packages (from zhipuai) (2.5.3)\r\n",
      "Requirement already satisfied: pydantic-core>=2.14.6 in /Users/zr/Code/glm-cookbook/venv/lib/python3.9/site-packages (from zhipuai) (2.14.6)\r\n",
      "Requirement already satisfied: pyjwt<2.9.0,>=2.8.0 in /Users/zr/Code/glm-cookbook/venv/lib/python3.9/site-packages (from zhipuai) (2.8.0)\r\n",
      "Requirement already satisfied: anyio in /Users/zr/Code/glm-cookbook/venv/lib/python3.9/site-packages (from httpx>=0.23.0->zhipuai) (4.2.0)\r\n",
      "Requirement already satisfied: certifi in /Users/zr/Code/glm-cookbook/venv/lib/python3.9/site-packages (from httpx>=0.23.0->zhipuai) (2023.11.17)\r\n",
      "Requirement already satisfied: httpcore==1.* in /Users/zr/Code/glm-cookbook/venv/lib/python3.9/site-packages (from httpx>=0.23.0->zhipuai) (1.0.5)\r\n",
      "Requirement already satisfied: idna in /Users/zr/Code/glm-cookbook/venv/lib/python3.9/site-packages (from httpx>=0.23.0->zhipuai) (3.6)\r\n",
      "Requirement already satisfied: sniffio in /Users/zr/Code/glm-cookbook/venv/lib/python3.9/site-packages (from httpx>=0.23.0->zhipuai) (1.3.0)\r\n",
      "Requirement already satisfied: h11<0.15,>=0.13 in /Users/zr/Code/glm-cookbook/venv/lib/python3.9/site-packages (from httpcore==1.*->httpx>=0.23.0->zhipuai) (0.14.0)\r\n",
      "Requirement already satisfied: annotated-types>=0.4.0 in /Users/zr/Code/glm-cookbook/venv/lib/python3.9/site-packages (from pydantic<3.0,>=1.9.0->zhipuai) (0.6.0)\r\n",
      "Requirement already satisfied: typing-extensions>=4.6.1 in /Users/zr/Code/glm-cookbook/venv/lib/python3.9/site-packages (from pydantic<3.0,>=1.9.0->zhipuai) (4.9.0)\r\n",
      "Requirement already satisfied: exceptiongroup>=1.0.2 in /Users/zr/Code/glm-cookbook/venv/lib/python3.9/site-packages (from anyio->httpx>=0.23.0->zhipuai) (1.2.0)\r\n",
      "\u001B[33mWARNING: Error parsing dependencies of textract: .* suffix can only be used with `==` or `!=` operators\r\n",
      "    extract-msg (<=0.29.*)\r\n",
      "                 ~~~~~~~^\u001B[0m\u001B[33m\r\n",
      "\u001B[0m"
     ]
    }
   ],
   "execution_count": 33
  },
  {
   "metadata": {},
   "cell_type": "markdown",
   "source": [
    "接着，我们需要配置 API Key，这个 API Key 可以在 [ZhipuAI API 平台申请](https://open.bigmodel.cn/) 。我们可以通过以下方式配置 API Key\n",
    "\n",
    "Next, we need to configure the API Key. This API Key can be applied on [ZhipuAI API Platform](https://open.bigmodel.cn/). We can configure the API Key in the following ways"
   ],
   "id": "61708225b98e39aa"
  },
  {
   "cell_type": "code",
   "source": [
    "import os\n",
    "from zhipuai import ZhipuAI\n",
    "\n",
    "os.environ[\"ZHIPUAI_API_KEY\"] = \"your api key here\"\n",
    "client = ZhipuAI()"
   ],
   "metadata": {
    "collapsed": false,
    "ExecuteTime": {
     "end_time": "2024-07-26T09:41:07.320749Z",
     "start_time": "2024-07-26T09:41:07.304112Z"
    }
   },
   "id": "f03a65879fc8edb8",
   "outputs": [],
   "execution_count": 34
  },
  {
   "cell_type": "markdown",
   "source": [
    "## 2. Generate Video with test prompt\n",
    "\n",
    "选择需要生成视频的提示词，由于视频只有6秒，因此，不需要过多的文字描述。我们选择一个简单的描述。\n",
    "\n",
    "Choose the prompt words that need to generate the video. Since the video is only 6 seconds, there is no need for too much text description. We choose a simple description."
   ],
   "metadata": {
    "collapsed": false
   },
   "id": "524d71278f724da1"
  },
  {
   "metadata": {
    "ExecuteTime": {
     "end_time": "2024-07-26T09:41:07.323692Z",
     "start_time": "2024-07-26T09:41:07.321523Z"
    }
   },
   "cell_type": "code",
   "source": "prompt = \"比得兔开小汽车，游走在马路上，脸上的表情充满开心喜悦。\"",
   "id": "5066f2979d000409",
   "outputs": [],
   "execution_count": 35
  },
  {
   "cell_type": "markdown",
   "source": [
    "## 3. Generate Video with image input.\n",
    "\n",
    "我们已经组织好了信息和图片，现在让我们按照[官方文档](https://open.bigmodel.cn/dev/api#cogvideox)的内容传入对应的参数并获取模型的回答。\n",
    "We have organized the information and pictures, now let us follow the [official document](https://open.bigmodel.cn/dev/api#cogvideox) to pass in the corresponding parameters and get the model's answer."
   ],
   "metadata": {
    "collapsed": false
   },
   "id": "5637a50d4f7c7383"
  },
  {
   "cell_type": "code",
   "source": [
    "response_prompt = client.videos.generations(\n",
    "\t    model=\"cogvideox\",\n",
    "\t    prompt=prompt\n",
    "\t)\n",
    "print(response_prompt)"
   ],
   "metadata": {
    "collapsed": false,
    "ExecuteTime": {
     "end_time": "2024-07-26T09:41:10.044471Z",
     "start_time": "2024-07-26T09:41:07.325187Z"
    }
   },
   "id": "b9ba237babf6fb35",
   "outputs": [
    {
     "name": "stdout",
     "output_type": "stream",
     "text": [
      "VideoObject(id='476916963227608958872449947398420086', model='cogvideox', video_result=None, task_status='PROCESSING', request_id='8872449947398420082')\n"
     ]
    }
   ],
   "execution_count": 36
  },
  {
   "metadata": {},
   "cell_type": "markdown",
   "source": [
    "## 4. Generate Video with image and test prompt\n",
    "\n",
    "除了支持使用文字直接进行生成视频，我们也可以使用“图生视频“的方式，即传入一张图片，让模型生成视频。\n",
    "\n",
    "In addition to supporting the direct generation of videos using text, we can also use the \"image to video\" method, that is, pass in a picture and let the model generate a video."
   ],
   "id": "e82b80bd8d5b66fc"
  },
  {
   "metadata": {
    "ExecuteTime": {
     "end_time": "2024-07-26T09:41:15.049830Z",
     "start_time": "2024-07-26T09:41:10.256595Z"
    }
   },
   "cell_type": "code",
   "source": [
    "def encode_image(image_path):\n",
    "    import base64\n",
    "    with open(image_path, \"rb\") as image_file:\n",
    "        return base64.b64encode(image_file.read()).decode('utf-8')\n",
    "\n",
    "base64_image = encode_image(\"data/cogvideox_test.jpg\")\n",
    "response_img = client.videos.generations(\n",
    "    model=\"cogvideox\",\n",
    "    image_url=base64_image,\n",
    "    prompt=\"让图中的猫跑起来\"\n",
    ")\n",
    "print(response_img)"
   ],
   "id": "47ac0419982654ef",
   "outputs": [
    {
     "name": "stdout",
     "output_type": "stream",
     "text": [
      "VideoObject(id='476916963227608958875454088044428354', model='cogvideox', video_result=None, task_status='PROCESSING', request_id='8875454088044428333')\n"
     ]
    }
   ],
   "execution_count": 39
  },
  {
   "metadata": {},
   "cell_type": "markdown",
   "source": [
    "## 5. Download the video\n",
    "\n",
    "在完成视频生成之后（这可能需要等待1-2分钟），我们可以下载视频。\n",
    "After the video generation is complete (this may take 1-2 minutes), we can download the video."
   ],
   "id": "c96370f01bbdf93f"
  },
  {
   "metadata": {},
   "cell_type": "code",
   "outputs": [],
   "execution_count": null,
   "source": [
    "response = client.videos.retrieve_videos_result(id=response_prompt.id)\n",
    "print(response_prompt)"
   ],
   "id": "5b2be446f16cf29c"
  },
  {
   "metadata": {
    "ExecuteTime": {
     "end_time": "2024-07-26T10:02:01.598120Z",
     "start_time": "2024-07-26T10:02:01.508181Z"
    }
   },
   "cell_type": "code",
   "source": [
    "response_img = client.videos.retrieve_videos_result(id=response_img.id)\n",
    "print(response_img)"
   ],
   "id": "de26d9d370282ba3",
   "outputs": [
    {
     "name": "stdout",
     "output_type": "stream",
     "text": [
      "VideoObject(id=None, model='cogvideox', video_result=[VideoResult(url='https://sfile.chatglm.cn/testpath/video/4dfa8af3-235b-5815-b329-04a66d4f996c_0.mp4', cover_image_url='https://sfile.chatglm.cn/testpath/video_cover/4dfa8af3-235b-5815-b329-04a66d4f996c_cover_0.png')], task_status='SUCCESS', request_id='8875454088044428333')\n"
     ]
    }
   ],
   "execution_count": 44
  },
  {
   "metadata": {},
   "cell_type": "markdown",
   "source": [
    "下载这个视频，我们可以看到生成的视频。\n",
    "\n",
    "Download this video, we can see the generated video."
   ],
   "id": "81869232fecf5f47"
  },
  {
   "metadata": {
    "ExecuteTime": {
     "end_time": "2024-07-26T10:02:03.896269Z",
     "start_time": "2024-07-26T10:02:03.055432Z"
    }
   },
   "cell_type": "code",
   "source": "!wget -O video.mp4 {response_img.video_result[0].url}",
   "id": "cbb8daf8d139c798",
   "outputs": [
    {
     "name": "stdout",
     "output_type": "stream",
     "text": [
      "--2024-07-26 18:02:03--  https://sfile.chatglm.cn/testpath/video/4dfa8af3-235b-5815-b329-04a66d4f996c_0.mp4\r\n",
      "Resolving sfile.chatglm.cn (sfile.chatglm.cn)... 180.163.146.99\r\n",
      "Connecting to sfile.chatglm.cn (sfile.chatglm.cn)|180.163.146.99|:443... connected.\r\n",
      "HTTP request sent, awaiting response... 200 OK\r\n",
      "Length: 734523 (717K) [video/mp4]\r\n",
      "Saving to: ‘video.mp4’\r\n",
      "\r\n",
      "video.mp4           100%[===================>] 717.31K  3.50MB/s    in 0.2s    \r\n",
      "\r\n",
      "2024-07-26 18:02:03 (3.50 MB/s) - ‘video.mp4’ saved [734523/734523]\r\n",
      "\r\n"
     ]
    }
   ],
   "execution_count": 45
  }
 ],
 "metadata": {
  "kernelspec": {
   "display_name": "Python 3",
   "language": "python",
   "name": "python3"
  },
  "language_info": {
   "codemirror_mode": {
    "name": "ipython",
    "version": 2
   },
   "file_extension": ".py",
   "mimetype": "text/x-python",
   "name": "python",
   "nbconvert_exporter": "python",
   "pygments_lexer": "ipython2",
   "version": "2.7.6"
  }
 },
 "nbformat": 4,
 "nbformat_minor": 5
}
