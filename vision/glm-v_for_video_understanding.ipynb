{
 "cells": [
  {
   "cell_type": "markdown",
   "metadata": {},
   "source": [
    "# Using GLM-4.5V for Video Understanding\n",
    "\n",
    "[GLM-4.5V](https://docs.bigmodel.cn/cn/guide/models/vlm/glm-4.5v) is Z.AI's new generation visual reasoning model based on MOE architecture. With 106B total parameters and 12B activation parameters, it achieves SOTA performance among global open-source multimodal models of the same level across various benchmarks, covering common tasks such as image, video, document understanding, and GUI tasks. This code demonstrates how to use GLM-4.5V's video understanding functionality with videos."
   ]
  },
  {
   "metadata": {},
   "cell_type": "markdown",
   "source": [
    "\n",
    "First, set the API key for calling the model"
   ]
  },
  {
   "cell_type": "code",
   "source": [
    "import os\n",
    "from zhipuai import ZhipuAI\n",
    "os.environ[\"ZHIPUAI_API_KEY\"] = \"your api key\"\n",
    "\n",
    "client = ZhipuAI()"
   ],
   "metadata": {
    "collapsed": false,
    "ExecuteTime": {
     "start_time": "2025-09-03T12:44:35.267135Z"
    }
   },
   "outputs": [],
   "execution_count": 3
  },
  {
   "cell_type": "markdown",
   "metadata": {},
   "source": [
    "\n",
    "Next, input the video into the model. Please note that only the `GLM-4.5V` model supports video understanding. After that, we need to encode the video into video_base64. The analysis can then be performed by the large model. A video understanding process usually takes only a few seconds. We can see the answer very quickly."
   ]
  },
  {
   "cell_type": "code",
   "metadata": {
    "ExecuteTime": {
     "end_time": "2025-09-03T12:44:28.834160Z",
     "start_time": "2025-09-03T12:44:04.572722Z"
    }
   },
   "source": [
    "import base64\n",
    "\n",
    "video_path = \"data/video_1.mp4\"\n",
    "with open(video_path, 'rb') as video_file:\n",
    "    video_base = base64.b64encode(video_file.read()).decode('utf-8')\n",
    "\n",
    "response = client.chat.completions.create(\n",
    "    model=\"glm-4.5v\",\n",
    "    temperature=0.0,\n",
    "    top_p=0,\n",
    "    messages=[\n",
    "      {\n",
    "        \"role\": \"user\",\n",
    "        \"content\": [\n",
    "          {\n",
    "            \"type\": \"video_url\",\n",
    "            \"video_url\": {\n",
    "                \"url\" : video_base\n",
    "            }\n",
    "          },\n",
    "          {\n",
    "            \"type\": \"text\",\n",
    "            \"text\": \"Please carefully describe the environment in this video, what the little dog is doing, and tell me in an interesting way\"\n",
    "          }\n",
    "        ]\n",
    "      }\n",
    "    ]\n",
    ")\n",
    "print(response.choices[0].message.content)"
   ],
   "outputs": [
    {
     "name": "stdout",
     "output_type": "stream",
     "text": [
      "\n",
      "<|begin_of_box|>The scene is set in a **serene, rain-kissed body of water**—likely a quiet pond or lazy stream—where the greenish hue of the water glows under a soft, overcast sky. Blurred trees and distant structures fade into the background, creating a dreamy, almost magical atmosphere, as if nature has wrapped itself in a gentle mist.  \n",
      "\n",
      "As for our furry friend? Meet a **cheerful brown dog** who’s turned this damp day into a splash-tastic adventure! It’s wading through the shallow water, paws dipping in and out to create tiny, sparkling ripples that spread like laughter across the surface. With its tongue lolling out in a goofy, happy grin and tail wagging so fast it’s a blur, the pup looks like it’s saying, *“Rain? Pfft—who needs sunshine when you’ve got a whole pond to explore?!”*  \n",
      "\n",
      "Every step it takes sends ripples dancing, as if the water itself is joining in the fun. It’s not just walking—it’s *strutting*, like a king or queen of the wet world, turning a gloomy day into a celebration of joy. Whether it’s chasing imaginary fish or simply savoring the cool water between its toes, this dog proves that happiness often comes from the simplest, silliest moments—especially when you’re splashing around in your very own watery wonderland! 🐾💦<|end_of_box|>\n"
     ]
    }
   ],
   "execution_count": 4
  }
 ],
 "metadata": {
  "kernelspec": {
   "display_name": "openai",
   "language": "python",
   "name": "python3"
  },
  "language_info": {
   "codemirror_mode": {
    "name": "ipython",
    "version": 3
   },
   "file_extension": ".py",
   "mimetype": "text/x-python",
   "name": "python",
   "nbconvert_exporter": "python",
   "pygments_lexer": "ipython3",
   "version": "3.9.16"
  }
 },
 "nbformat": 4,
 "nbformat_minor": 2
}
