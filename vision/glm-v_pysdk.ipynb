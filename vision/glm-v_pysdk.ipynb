{
 "cells": [
  {
   "cell_type": "markdown",
   "source": [
    "# Python SDK to access the GLM Vision API\n",
    "\n",
    "This cookbook will describe how to use the Python SDK to call the GLM-V API to complete simple visual understanding and analysis work."
   ],
   "metadata": {
    "collapsed": false
   },
   "id": "b9d2202d7ce04a48"
  },
  {
   "metadata": {},
   "cell_type": "markdown",
   "source": " Set up the API Key",
   "id": "eadaec58ea99c85a"
  },
  {
   "cell_type": "code",
   "source": [
    "import os\n",
    "from zhipuai import ZhipuAI\n",
    "\n",
    "os.environ[\"ZHIPUAI_API_KEY\"] = \"your api key\"\n",
    "client = ZhipuAI()\n"
   ],
   "metadata": {
    "collapsed": false,
    "ExecuteTime": {
     "end_time": "2025-09-03T12:58:58.677786Z",
     "start_time": "2025-09-03T12:58:58.278885Z"
    }
   },
   "id": "f03a65879fc8edb8",
   "outputs": [],
   "execution_count": 1
  },
  {
   "cell_type": "markdown",
   "source": "First, we need to convert the image to base64 format that can be uploaded. Here we use the PIL library to accomplish this task.",
   "metadata": {
    "collapsed": false
   },
   "id": "524d71278f724da1"
  },
  {
   "cell_type": "code",
   "source": [
    "import base64\n",
    "import io\n",
    "from PIL import Image\n",
    "\n",
    "def image_to_base64(image_path):\n",
    "    \"\"\"\n",
    "    Convert an image to base64 encoding.\n",
    "    \"\"\"\n",
    "    with Image.open(image_path) as image:\n",
    "        buffered = io.BytesIO()\n",
    "        image.save(buffered, format=\"JPEG\")  # or format=\"PNG\", depending on your image.\n",
    "        img_str = base64.b64encode(buffered.getvalue()).decode()\n",
    "    return f\"data:image/jpeg;base64,{img_str}\"\n",
    "\n",
    "\n",
    "base64_image = image_to_base64(\"data/zR.jpg\")"
   ],
   "metadata": {
    "collapsed": false,
    "ExecuteTime": {
     "end_time": "2025-09-03T12:58:58.892239Z",
     "start_time": "2025-09-03T12:58:58.691299Z"
    }
   },
   "id": "4f3135b451b85400",
   "outputs": [],
   "execution_count": 2
  },
  {
   "cell_type": "code",
   "source": [
    "messages = [\n",
    "    {\n",
    "        \"role\": \"user\",\n",
    "        \"content\": [\n",
    "            {\n",
    "                \"type\": \"text\",\n",
    "                \"text\": \"what is this image describe?\"\n",
    "            },\n",
    "            {\n",
    "                \"type\": \"image_url\",\n",
    "                \"image_url\": {\n",
    "                    \"url\": base64_image\n",
    "                }\n",
    "\n",
    "            }\n",
    "        ]\n",
    "    }\n",
    "]"
   ],
   "metadata": {
    "collapsed": false,
    "ExecuteTime": {
     "end_time": "2025-09-03T12:58:59.113421Z",
     "start_time": "2025-09-03T12:58:59.105401Z"
    }
   },
   "id": "7898ce8f4610930e",
   "outputs": [],
   "execution_count": 3
  },
  {
   "cell_type": "markdown",
   "source": "We have organized the information and pictures, now let us follow the [official document](https://open.bigmodel.cn/dev/api#glm-4v) to pass in the corresponding parameters and get the model's answer",
   "metadata": {
    "collapsed": false
   },
   "id": "5637a50d4f7c7383"
  },
  {
   "cell_type": "code",
   "source": [
    "response = client.chat.completions.create(\n",
    "    model=\"glm-4.5v\",\n",
    "    messages=messages,\n",
    "    temperature=0.7,\n",
    "    top_p=0.9,\n",
    "    max_tokens=8192\n",
    ")"
   ],
   "metadata": {
    "collapsed": false,
    "ExecuteTime": {
     "end_time": "2025-09-03T12:59:03.843841Z",
     "start_time": "2025-09-03T12:58:59.148829Z"
    }
   },
   "id": "b9ba237babf6fb35",
   "outputs": [],
   "execution_count": 4
  },
  {
   "cell_type": "markdown",
   "source": [
    "\n",
    "Through this operation, we will be able to get the model's description of this picture."
   ],
   "metadata": {
    "collapsed": false
   },
   "id": "fd97d54e0506c728"
  },
  {
   "cell_type": "code",
   "source": "response.choices[0].message.content",
   "metadata": {
    "collapsed": false,
    "ExecuteTime": {
     "end_time": "2025-09-03T12:59:03.879792Z",
     "start_time": "2025-09-03T12:59:03.875233Z"
    }
   },
   "id": "584b816346cec5b9",
   "outputs": [
    {
     "data": {
      "text/plain": [
       "'\\nThe image is a minimalist, stylized illustration of a woman viewed from the side. She has long, flowing light pink hair that appears to be blowing in the wind. She wears a long, dark (likely navy or black) dress with a sleek silhouette. In her hand, she holds an object resembling a violin bow. The background is a solid dark color, which emphasizes the figure and gives the artwork a dramatic, elegant tone. The overall style is characterized by clean lines, flat colors, and simplified forms, creating a modern and sophisticated aesthetic.'"
      ]
     },
     "execution_count": 5,
     "metadata": {},
     "output_type": "execute_result"
    }
   ],
   "execution_count": 5
  },
  {
   "cell_type": "markdown",
   "source": "You can also ask more questions about this picture and use historical records to retain previous questions and answers. Now I'm going to add a new history to your conversation",
   "metadata": {
    "collapsed": false
   },
   "id": "ebf92a68c1a51e8c"
  },
  {
   "cell_type": "code",
   "source": [
    "messages += [\n",
    "    {\n",
    "        \"role\": \"user\",\n",
    "        \"content\": [\n",
    "            {\n",
    "                \"type\": \"text\",\n",
    "                \"text\": \"what is the color of the hair?\"\n",
    "            }\n",
    "        ]\n",
    "    },\n",
    "    {\n",
    "        \"role\": \"assistant\",\n",
    "        \"content\": \"It is pink\"\n",
    "    },\n",
    "    {\n",
    "        \"role\": \"user\",\n",
    "        \"content\": [\n",
    "            {\n",
    "                \"type\": \"text\",\n",
    "                \"text\": \"what is the color of hair and dress the this women?\"\n",
    "            }\n",
    "        ]\n",
    "    },\n",
    "]\n",
    "messages[-1]"
   ],
   "metadata": {
    "collapsed": false,
    "ExecuteTime": {
     "end_time": "2025-09-03T12:59:03.892390Z",
     "start_time": "2025-09-03T12:59:03.889308Z"
    }
   },
   "id": "eb264e5c17d6eba7",
   "outputs": [
    {
     "data": {
      "text/plain": [
       "{'role': 'user',\n",
       " 'content': [{'type': 'text',\n",
       "   'text': 'what is the color of hair and dress the this women?'}]}"
      ]
     },
     "execution_count": 6,
     "metadata": {},
     "output_type": "execute_result"
    }
   ],
   "execution_count": 6
  },
  {
   "cell_type": "markdown",
   "source": "Now, we request again and see the results returned by the model",
   "metadata": {
    "collapsed": false
   },
   "id": "b9decda6959a9498"
  },
  {
   "cell_type": "code",
   "source": [
    "response = client.chat.completions.create(\n",
    "    model=\"glm-4.5v\",\n",
    "    messages=messages,\n",
    "    temperature=0.7,\n",
    "    top_p=0.9\n",
    ")\n",
    "response.choices[0].message.content"
   ],
   "metadata": {
    "collapsed": false,
    "ExecuteTime": {
     "end_time": "2025-09-03T12:59:05.276943Z",
     "start_time": "2025-09-03T12:59:03.924987Z"
    }
   },
   "id": "f57b9cae71780d3",
   "outputs": [
    {
     "data": {
      "text/plain": [
       "'\\nThe woman’s hair is pink, and her dress is dark (such as dark blue or black).'"
      ]
     },
     "execution_count": 7,
     "metadata": {},
     "output_type": "execute_result"
    }
   ],
   "execution_count": 7
  }
 ],
 "metadata": {
  "kernelspec": {
   "display_name": "Python 3",
   "language": "python",
   "name": "python3"
  },
  "language_info": {
   "codemirror_mode": {
    "name": "ipython",
    "version": 2
   },
   "file_extension": ".py",
   "mimetype": "text/x-python",
   "name": "python",
   "nbconvert_exporter": "python",
   "pygments_lexer": "ipython2",
   "version": "2.7.6"
  }
 },
 "nbformat": 4,
 "nbformat_minor": 5
}
