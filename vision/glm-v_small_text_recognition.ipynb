{
 "cells": [
  {
   "cell_type": "markdown",
   "metadata": {},
   "source": [
    "# GLM-4 Vision Small and Complex Text Recognition Task\n",
    "\n",
    "**This tutorial is available in English and is attached below the Chinese explanation**\n",
    "\n",
    "这篇内容通过密集手写字的辨别和地图中地点的识别两项任务演示了 GLM-4V 在小字体复杂内容中的图像识别能力。\n",
    "\n",
    "This content demonstrates the GLM-4V's image recognition capabilities in complex content with small fonts through two tasks, the recognition of crammed handwriting and the recognition of locations in a map."
   ]
  },
  {
   "cell_type": "markdown",
   "metadata": {},
   "source": [
    "## 1. Set your Environment\n",
    "首先，导入所有库，为 API 密钥设置环境变量，并启动client。然后，将 \"JPEG \"或 \"PNG \"格式的图像转换为 base64 编码字符串。\n",
    "\n",
    "First, import all libraries, set up an environmental variable for the API key, and initiate the client. Then, convert the image in \"JPEG\" or \"PNG\" formats to the base64 encoded string. "
   ]
  },
  {
   "metadata": {
    "ExecuteTime": {
     "end_time": "2024-07-18T07:16:18.376353Z",
     "start_time": "2024-07-18T07:16:18.075022Z"
    }
   },
   "cell_type": "code",
   "source": [
    "import os\n",
    "from zhipuai import ZhipuAI\n",
    "\n",
    "os.environ[\"ZHIPUAI_API_KEY\"] = \"your api key\"\n",
    "client = ZhipuAI()"
   ],
   "outputs": [],
   "execution_count": 1
  },
  {
   "metadata": {
    "ExecuteTime": {
     "end_time": "2024-07-18T07:16:18.403039Z",
     "start_time": "2024-07-18T07:16:18.377807Z"
    }
   },
   "cell_type": "code",
   "source": [
    "import base64\n",
    "import io\n",
    "from PIL import Image\n",
    "def image_to_base64(image_path):\n",
    "    \"\"\"Convert an image to base64 encoding.\"\"\"\n",
    "    with Image.open(image_path) as image:\n",
    "        buffered = io.BytesIO()\n",
    "        image.save(buffered, format=\"PNG\") # change to \"JPEG\" depending on the format\n",
    "        img_str = base64.b64encode(buffered.getvalue()).decode()\n",
    "    return img_str"
   ],
   "outputs": [],
   "execution_count": 2
  },
  {
   "cell_type": "markdown",
   "metadata": {},
   "source": [
    "\n",
    "<img src=\"data/scanned_notes.png\" width=\"500\" >\n",
    "\n",
    "\n",
    "\n",
    "上面是一位学生手写的线性代数定理。由于纸张大小限制，字写得非常小并且有时挤在一起，还含有很多数学的符号。如果这位学生想要复用其中的内容的话，重新抄写一遍将会非常困难。因此，我们可以通过GLM-4V的图像识别来减轻这位学生的工作量。\n",
    "\n",
    "Above is a page full of handwritten linear algebra theorem written by a student. Due to the size of the paper, the words are very small and sometimes crammed together, and there are many mathematical symbols. If the student wanted to reuse the content, it would be very difficult to copy it again. Therefore, we can reduce the student's workload by using image recognition in GLM-4V.\n",
    "\n",
    "\n",
    "这里，我们提问定理3.8是什么内容：\n",
    "\n",
    "Here, we ask the model what is Theorem 3.8:"
   ]
  },
  {
   "cell_type": "code",
   "metadata": {
    "ExecuteTime": {
     "end_time": "2024-07-18T07:16:27.175750Z",
     "start_time": "2024-07-18T07:16:18.403849Z"
    }
   },
   "source": [
    "def analyze_image(image_path):\n",
    "    \"\"\"\n",
    "    Analyze an image based on the provided question.\n",
    "    \n",
    "    Parameters:\n",
    "        image_path (str): The path to the image file.\n",
    "        question (str): The question to ask about the image.\n",
    "        \n",
    "    Returns:\n",
    "        str: The answer to the question.\n",
    "    \"\"\"\n",
    "    base64_image = image_to_base64(image_path)\n",
    "\n",
    "    messages = [\n",
    "        {\n",
    "            \"role\": \"user\",\n",
    "            \"content\": [\n",
    "                {\n",
    "                    \"type\": \"text\",\n",
    "                    \"text\": \"From this scanned photo of handwritten notes, what is theorem 3.8?\"\n",
    "                },\n",
    "                {\n",
    "                    \"type\": \"image_url\",\n",
    "                    \"image_url\": {\n",
    "                        \"url\": base64_image\n",
    "                    }\n",
    "                }\n",
    "            ]\n",
    "        }\n",
    "    ]\n",
    "\n",
    "    response = client.chat.completions.create(\n",
    "        model=\"glm-4v\",\n",
    "        messages=messages,\n",
    "        temperature=0.1,\n",
    "        top_p=0.1\n",
    "    )\n",
    "\n",
    "    return response.choices[0].message.content\n",
    "\n",
    "answer = analyze_image(\"data/scanned_notes.png\")\n",
    "\n",
    "print(answer)"
   ],
   "outputs": [
    {
     "name": "stdout",
     "output_type": "stream",
     "text": [
      "Theorem 3.8 states: \"Let T: R^m → R^n. Then T is a linear transformation if and only if T(x) = Ax for some nxm matrix A.\" \n",
      "\n",
      "This means that a function T from R^m to R^n is a linear transformation if it can be represented by multiplying every vector in its domain by a fixed nxm matrix A. Conversely, any function satisfying this equation is necessarily a linear transformation.\n"
     ]
    }
   ],
   "execution_count": 3
  },
  {
   "cell_type": "markdown",
   "metadata": {},
   "source": [
    "通过把base64的字符串放进模型中，得到以下回答，我们可以看出，回答的内容正确，并还给予了两句话简单的解释。\n",
    "\n",
    "Now, pass the base64 string to the model to obtain and return this response，We can see that the theorem in the response is exactly correct, and a two-sentence brief explanation is also given."
   ]
  },
  {
   "cell_type": "markdown",
   "metadata": {},
   "source": [
    "```\n",
    "Theorem 3.8 states: \"Let T: R^m → R^n. Then T is a linear transformation if and only if T(x) = Ax for some nxm matrix A.\" \n",
    "This means that a function T from R^m to R^n is a linear transformation if it can be represented by multiplying every vector in its domain by a fixed nxm matrix A. Conversely, any function satisfying this equation is necessarily a linear transformation.\n",
    "```"
   ]
  },
  {
   "cell_type": "markdown",
   "metadata": {},
   "source": [
    "另一些时候，给出的定理可能大多正确，但有细微错误（标红部分为错误）\n",
    "\n",
    "Other times, the theorem given may be mostly correct, but with minor errors (errors are in red)"
   ]
  },
  {
   "cell_type": "markdown",
   "metadata": {},
   "source": [
    "```\n",
    "**From this scanned photo of handwritten notes, what is theorem 3.23?**\n",
    "Theorem 3.23 from the provided image states: \"Suppose that A is an invertible matrix with AB=I_n. Then BA=I_<span style=\"color:red\">m</span>, and the matrix B such that AB=BA=I_n is unique.\"\n",
    "```"
   ]
  },
  {
   "cell_type": "markdown",
   "metadata": {},
   "source": [
    "## 3. Identify locations with different colors in maps with complex backgrounds\n",
    "<img src=\"data/map.png\" width=\"500\">\n",
    "\n",
    "现在，我们使用 GLM-4V来识别上面来自Google Maps地图中的地点。\n",
    "\n",
    "Now, we use GLM-4V to identify the places in the map above from Google Maps."
   ]
  },
  {
   "cell_type": "code",
   "metadata": {
    "ExecuteTime": {
     "end_time": "2024-07-18T07:16:33.604166Z",
     "start_time": "2024-07-18T07:16:27.177150Z"
    }
   },
   "source": [
    "def analyze_image(image_path):\n",
    "    \"\"\"\n",
    "    Analyze an image based on the provided question.\n",
    "    \n",
    "    Parameters:\n",
    "        image_path (str): The path to the image file.\n",
    "        question (str): The question to ask about the image.\n",
    "        \n",
    "    Returns:\n",
    "        str: The answer to the question.\n",
    "    \"\"\"\n",
    "    base64_image = image_to_base64(image_path)\n",
    "\n",
    "    messages = [\n",
    "        {\n",
    "            \"role\": \"user\",\n",
    "            \"content\": [\n",
    "                {\n",
    "                    \"type\": \"text\",\n",
    "                    \"text\": \"What are the names of the locations?\"\n",
    "                },\n",
    "                {\n",
    "                    \"type\": \"image_url\",\n",
    "                    \"image_url\": {\n",
    "                        \"url\": base64_image\n",
    "                    }\n",
    "                }\n",
    "            ]\n",
    "        }\n",
    "    ]\n",
    "\n",
    "    response = client.chat.completions.create(\n",
    "        model=\"glm-4v\",\n",
    "        messages=messages,\n",
    "        temperature=0.1,\n",
    "        top_p=0.1\n",
    "    )\n",
    "\n",
    "    return response.choices[0].message.content\n",
    "\n",
    "answer = analyze_image(\"data/map.png\")\n",
    "\n",
    "print(answer)"
   ],
   "outputs": [
    {
     "name": "stdout",
     "output_type": "stream",
     "text": [
      "The image shows a map with several labeled locations. From top to bottom and from left to right, the visible labels include:\n",
      "\n",
      "1. USPS Distribution Center\n",
      "2. Blue Plate\n",
      "3. Ever\n",
      "4. SalonDJ Hairtography\n",
      "5. W Fulton St\n",
      "6. N Ada St\n",
      "7. W Fulton Market\n",
      "8. The Elizabeth Chicago\n",
      "9. Peoria Packing Butcher Shop\n",
      "10. Latin Rhythms Academy of Dance & Performance\n",
      "11. Bottom Lounge\n",
      "12. Gyu-Kaku Japanese BBQ\n",
      "13. City Winery Chicago\n",
      "14. Kaiser Tiger Beer Garden\n"
     ]
    }
   ],
   "execution_count": 4
  },
  {
   "cell_type": "markdown",
   "metadata": {},
   "source": [
    "<blockquote style=\"text-color: #f0f0f0; padding: 10px; border-left: 5px solid #cccccc;\">\n",
    "\n",
    "The image shows a map with several labeled locations. From top to bottom and from left to right, the visible labels include:\n",
    "1. USPS Distribution Center\n",
    "2. Blue Plate\n",
    "3. Ever\n",
    "4. SalonDJ Hairtography\n",
    "5. W Fulton St\n",
    "\n",
    "6. <span style=\"color:red\">N Ada St</span>\n",
    "\n",
    "7. W Fulton Market\n",
    "8. The Elizabeth Chicago\n",
    "9. Peoria Packing Butcher Shop\n",
    "10. Latin Rhythms Academy of Dance & Performance\n",
    "11. Bottom Lounge\n",
    "12. Gyu-Kaku Japanese BBQ\n",
    "13. City Winery Chicago\n",
    "14. Kaiser Tiger Beer Garden\n",
    "\n",
    "</blockquote>"
   ]
  },
  {
   "cell_type": "markdown",
   "metadata": {},
   "source": [
    "我们可以看出，在地图的背景杂乱的情况下，模型识别的地址也基本准确，只有一个错误。\n",
    "\n",
    "We can see that the model recognizes the addresses largely accurately even with the cluttered background of the map, with only one error."
   ]
  },
  {
   "cell_type": "markdown",
   "metadata": {},
   "source": [
    "还可以辨别不同颜色的地点：\n",
    "```\n",
    "**What are the names of the locations in orange?**\n",
    "\n",
    "The locations with an orange icon on the map are:\n",
    "\n",
    "1. <span style=\"color:red\">Blue Plate</span>\n",
    "2. Ever\n",
    "3. Gyu-Kaku Japanese BBQ\n",
    "4. Kaiser Tiger Beer Garden\n",
    "```\n",
    "\n",
    "```\n",
    "**What are the names of the locations in blue?**\n",
    "\n",
    "The locations in blue on the map are:\n",
    "\n",
    "1. Peoria Packing Butcher Shop\n",
    "2. City Winery Chicago\n",
    "3. <span style=\"color:red\">Solo Salon – Elizabeth</span>\n",
    "```"
   ]
  },
  {
   "cell_type": "markdown",
   "metadata": {},
   "source": [
    "### 3. Bonus: Asking GLM-4V whether 9.9 is larger or 9.11 is larger\n",
    "\n",
    "这是2024年7月15日的一个有趣的小差距，众多大模型无法正常回答 9.11 和 9.9 的大小比较问题，我们给 GLM-4V 一张中央有 “Which number is larger between 9.9 and 9.11?” 的图片，并且给它“回答问题”的指示。\n",
    "\n",
    "This is an interesting small gap on July 15, 2024. Many large models cannot properly answer the size comparison question between 9.11 and 9.9. We give GLM-4V a picture with \"Which number is larger between 9.9 and 9.11?\" in the center. picture, and give it \"answer the question\" instructions.\n",
    "\n",
    "\n",
    "<img src=\"data/compare_numbers.png\" width=\"500\">\n",
    "\n",
    "得到以下回答：\n",
    "\n",
    "```\n",
    "We get the following response:\n",
    "To determine which number is larger between 9.9 and 9.11, you can look at them side by side:\n",
    "\n",
    "- 9.9 has a decimal point followed by 2 digits, which are 9 and 9.\n",
    "- 9.11 has a decimal point followed by 3 digits, which are 9, 1, and 1.\n",
    "\n",
    "Since 9.11 has more digits after the decimal point than 9.9 does, it is the larger number.\n",
    "\n",
    "```"
   ]
  },
  {
   "metadata": {
    "ExecuteTime": {
     "end_time": "2024-07-18T07:16:40.908628Z",
     "start_time": "2024-07-18T07:16:33.606135Z"
    }
   },
   "cell_type": "code",
   "source": [
    "def analyze_image(image_path):\n",
    "    \"\"\"\n",
    "    Analyze an image based on the provided question.\n",
    "    \n",
    "    Parameters:\n",
    "        image_path (str): The path to the image file.\n",
    "        question (str): The question to ask about the image.\n",
    "        \n",
    "    Returns:\n",
    "        str: The answer to the question.\n",
    "    \"\"\"\n",
    "    base64_image = image_to_base64(image_path)\n",
    "\n",
    "    messages = [\n",
    "        {\n",
    "            \"role\": \"user\",\n",
    "            \"content\": [\n",
    "                {\n",
    "                    \"type\": \"text\",\n",
    "                    \"text\": \"Answer the question thoughtfully\"\n",
    "                },\n",
    "                {\n",
    "                    \"type\": \"image_url\",\n",
    "                    \"image_url\": {\n",
    "                        \"url\": base64_image\n",
    "                    }\n",
    "                }\n",
    "            ]\n",
    "        }\n",
    "    ]\n",
    "\n",
    "    response = client.chat.completions.create(\n",
    "        model=\"glm-4v\",\n",
    "        messages=messages,\n",
    "        temperature=0.1,\n",
    "        top_p=0.1\n",
    "    )\n",
    "\n",
    "    return response.choices[0].message.content\n",
    "\n",
    "answer = analyze_image(\"data/compare_numbers.png\")\n",
    "\n",
    "print(answer)"
   ],
   "outputs": [
    {
     "name": "stdout",
     "output_type": "stream",
     "text": [
      "To determine which number is larger between 9.9 and 9.11, we can look at them side by side:\n",
      "\n",
      "- 9.9 has a decimal point followed by 2 digits, which are 9 and 9.\n",
      "- 9.11 has a decimal point followed by 3 digits, which are 9, 1, and 1.\n",
      "\n",
      "We compare these numbers from left to right, ignoring any zeros that might be in front of the decimal point since they don't affect the comparison.\n",
      "\n",
      "Since 9 is greater than 1, and both have the same number after the decimal point (which is 9), 9.9 is larger than 9.11.\n",
      "\n",
      "Therefore, the answer is that 9.9 is larger than 9.11.\n"
     ]
    }
   ],
   "execution_count": 5
  },
  {
   "metadata": {},
   "cell_type": "markdown",
   "source": [
    "在这个问题上，经过提示词的夹持，GLM-4V 模型能有效的提取到文中的问题，并避开这个错误点，正确回答。\n",
    "\n",
    "On this question, after clamping the prompt words, the GLM-4V model can effectively extract the questions in the text, avoid this error point, and answer correctly."
   ]
  }
 ],
 "metadata": {
  "kernelspec": {
   "display_name": "Python 3",
   "language": "python",
   "name": "python3"
  },
  "language_info": {
   "codemirror_mode": {
    "name": "ipython",
    "version": 3
   },
   "file_extension": ".py",
   "mimetype": "text/x-python",
   "name": "python",
   "nbconvert_exporter": "python",
   "pygments_lexer": "ipython3",
   "version": "3.12.4"
  }
 },
 "nbformat": 4,
 "nbformat_minor": 2
}
